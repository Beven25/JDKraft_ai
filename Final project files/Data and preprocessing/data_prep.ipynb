{
 "cells": [
  {
   "cell_type": "code",
   "execution_count": 2,
   "id": "5b83f34e",
   "metadata": {},
   "outputs": [],
   "source": [
    "import pandas as pd"
   ]
  },
  {
   "cell_type": "code",
   "execution_count": 3,
   "id": "72ea6d18",
   "metadata": {},
   "outputs": [],
   "source": [
    "# df1=pd.read_csv(\"30k_training_data.csv\")\n",
    "df=pd.read_csv(\"70k_training_data.csv\")\n",
    "# df = pd.concat([df1, df2], ignore_index=True)"
   ]
  },
  {
   "cell_type": "code",
   "execution_count": null,
   "id": "a1ecb99b",
   "metadata": {},
   "outputs": [],
   "source": []
  },
  {
   "cell_type": "code",
   "execution_count": null,
   "id": "b8c5d53c",
   "metadata": {},
   "outputs": [],
   "source": []
  },
  {
   "cell_type": "code",
   "execution_count": 154,
   "id": "e98cfcbd",
   "metadata": {},
   "outputs": [],
   "source": [
    "#Extracting and interchanging the job role"
   ]
  },
  {
   "cell_type": "code",
   "execution_count": 4,
   "id": "e17e95be",
   "metadata": {},
   "outputs": [
    {
     "name": "stderr",
     "output_type": "stream",
     "text": [
      "/var/folders/jm/r9rpl4qj3v913nmyn327dg0r0000gn/T/ipykernel_4659/3922874510.py:2: FutureWarning: The default value of regex will change from True to False in a future version. In addition, single character regular expressions will *not* be treated as literal strings when regex=True.\n",
      "  df[column_name] = df[column_name].str.replace('*', '')\n"
     ]
    }
   ],
   "source": [
    "def clean_column(df, column_name):\n",
    "    df[column_name] = df[column_name].str.replace('*', '')\n",
    "    # Remove leading/trailing whitespaces after removing '*'\n",
    "    df[column_name] = df[column_name].str.strip()\n",
    "    return df\n",
    "\n",
    "# Call the function to clean the specific column\n",
    "df = clean_column(df, 'gpt_response')"
   ]
  },
  {
   "cell_type": "code",
   "execution_count": 5,
   "id": "5df1408d",
   "metadata": {},
   "outputs": [],
   "source": [
    "import re\n",
    "def extract_job_position(text):\n",
    "   # Case 1: Job Description: Job Title - Industry\n",
    "   pattern1 = r\"Job Description: (.*?) -\"\n",
    "   match1 = re.search(pattern1, text)\n",
    "   if match1:\n",
    "       return match1.group(1)\n",
    "\n",
    "   # Case 2: Position: Job Title\n",
    "   pattern2 = r\"Position: (.*?)\\n\"\n",
    "   match2 = re.search(pattern2, text)\n",
    "   if match2:\n",
    "       return match2.group(1)\n",
    "\n",
    "   # Case 3: Job Description: Job Title\n",
    "   pattern3 = r\"Job Description: (.*?)\\n\"\n",
    "   match3 = re.search(pattern3, text)\n",
    "   if match3:\n",
    "       return match3.group(1)\n",
    "\n",
    "   return None\n",
    "\n",
    "\n",
    "df['job_position'] = df['gpt_response'].apply(extract_job_position)\n"
   ]
  },
  {
   "cell_type": "code",
   "execution_count": 6,
   "id": "2d362eb8",
   "metadata": {},
   "outputs": [],
   "source": [
    "def clean_job_title(title):\n",
    "    if title:\n",
    "        # Splitting the string based on '(' or '-' and taking the first part\n",
    "        cleaned_title = title.split('(')[0].split('-')[0].strip()\n",
    "        return cleaned_title\n",
    "    else:\n",
    "        return None\n",
    "\n",
    "# Apply the function to clean 'job_title' column\n",
    "df['job_position'] = df['job_position'].apply(clean_job_title)"
   ]
  },
  {
   "cell_type": "code",
   "execution_count": null,
   "id": "d3577ffb",
   "metadata": {},
   "outputs": [],
   "source": []
  },
  {
   "cell_type": "code",
   "execution_count": 7,
   "id": "26ef31c7",
   "metadata": {},
   "outputs": [],
   "source": [
    "def replace_job_position(row):\n",
    "    # Check if job_position value is not None\n",
    "    if row['job_position'] is not None:\n",
    "        # Regex pattern to identify and replace the job position placeholder\n",
    "        pattern = r'for a\\s+(.*?)\\s+role'\n",
    "        replaced_text = re.sub(pattern, f'for a {row[\"job_position\"]} role', row['user_prompt'])\n",
    "        return replaced_text\n",
    "    else:\n",
    "        return row['user_prompt']\n",
    "\n",
    "# Apply the function to replace job position placeholders\n",
    "df['user_prompt'] = df.apply(replace_job_position, axis=1)\n"
   ]
  },
  {
   "cell_type": "code",
   "execution_count": null,
   "id": "e132cec7",
   "metadata": {},
   "outputs": [],
   "source": []
  },
  {
   "cell_type": "code",
   "execution_count": 8,
   "id": "d43c4d19",
   "metadata": {},
   "outputs": [],
   "source": [
    "# List of columns to drop\n",
    "columns_to_drop = ['instruct', 'jd_prompt','skills','job_position']\n",
    "\n",
    "# Dropping the specified columns\n",
    "df.drop(columns=columns_to_drop, inplace=True)\n",
    "df.rename(columns={'gpt_response': 'model_response'}, inplace=True)\n",
    "\n"
   ]
  },
  {
   "cell_type": "code",
   "execution_count": null,
   "id": "c7b54be8",
   "metadata": {},
   "outputs": [],
   "source": []
  },
  {
   "cell_type": "code",
   "execution_count": 163,
   "id": "f5c8002a",
   "metadata": {},
   "outputs": [],
   "source": []
  },
  {
   "cell_type": "code",
   "execution_count": 10,
   "id": "63b66299",
   "metadata": {},
   "outputs": [
    {
     "data": {
      "text/plain": [
       "(41463, 3)"
      ]
     },
     "execution_count": 10,
     "metadata": {},
     "output_type": "execute_result"
    }
   ],
   "source": [
    "df_new.shape"
   ]
  },
  {
   "cell_type": "code",
   "execution_count": null,
   "id": "3f0eb2dc",
   "metadata": {},
   "outputs": [],
   "source": []
  },
  {
   "cell_type": "code",
   "execution_count": null,
   "id": "ccb6c327",
   "metadata": {},
   "outputs": [],
   "source": []
  },
  {
   "cell_type": "code",
   "execution_count": 24,
   "id": "be2dd335",
   "metadata": {},
   "outputs": [],
   "source": []
  },
  {
   "cell_type": "code",
   "execution_count": null,
   "id": "b59a5a14",
   "metadata": {},
   "outputs": [],
   "source": []
  },
  {
   "cell_type": "code",
   "execution_count": 9,
   "id": "9fd6a4ea",
   "metadata": {},
   "outputs": [],
   "source": [
    "df_new = df[~df['model_response'].str.contains('Skills:')]\n",
    "df_new=df_new.reset_index()"
   ]
  },
  {
   "cell_type": "code",
   "execution_count": 14,
   "id": "1f0309c1",
   "metadata": {},
   "outputs": [],
   "source": [
    "# df_new.to_csv(\"job_training.csv\")"
   ]
  },
  {
   "cell_type": "code",
   "execution_count": 16,
   "id": "17d5dd7c",
   "metadata": {},
   "outputs": [
    {
     "name": "stdout",
     "output_type": "stream",
     "text": [
      "Job Description: Aerospace Engineer\n",
      "\n",
      "We are currently seeking a skilled Aerospace Engineer to join our team. As an Aerospace Engineer, you will be responsible for working on aerospace systems integration and optimization, addressing system safety and reliability, and collaborating with multidisciplinary teams.\n",
      "\n",
      "Responsibilities:\n",
      "- Work on aerospace systems integration and optimization to ensure efficient and effective performance.\n",
      "- Address system safety and reliability concerns to ensure the highest level of safety standards.\n",
      "- Collaborate with multidisciplinary teams including mechanical engineers, electrical engineers, and software engineers to develop and implement aerospace systems.\n",
      "- Conduct research and analysis to identify areas for improvement and innovation in aerospace systems.\n",
      "- Develop and test prototypes to validate system designs and performance.\n",
      "- Create and maintain technical documentation including system specifications, design documents, and test plans.\n",
      "- Troubleshoot and resolve technical issues related to aerospace systems.\n",
      "- Implement configuration management processes to ensure proper version control and documentation of system changes.\n",
      "\n",
      "Qualifications:\n",
      "- Bachelor's degree in Aerospace Engineering or a related field.\n",
      "- 5-14 years of demonstrated expertise in the Specialty Retailers in Other industry, specializing in the Consumer Discretionary sector.\n",
      "- Profound understanding of Systems Engineering principles and practices.\n",
      "- Strong knowledge and experience in system architecture design and integration.\n",
      "- Ability to conduct integration testing and troubleshoot issues.\n",
      "- Excellent technical documentation skills.\n",
      "- Familiarity with configuration management processes and tools.\n",
      "\n",
      "If you are a highly skilled Aerospace Engineer with a passion for innovation and a desire to work in a collaborative and dynamic environment, we encourage you to apply. Join our team and contribute to the development of cutting-edge aerospace systems.\n"
     ]
    }
   ],
   "source": [
    "print(df_new['model_response'][3433])"
   ]
  },
  {
   "cell_type": "code",
   "execution_count": 15,
   "id": "91641ddc",
   "metadata": {},
   "outputs": [
    {
     "name": "stdout",
     "output_type": "stream",
     "text": [
      "Generate a job description for a Aerospace Engineer role.The candidate should have skills in Systems engineering System architecture Integration testing Troubleshooting Technical documentation Configuration management. The job description should include the sector (Consumer Discretionary) and industry (Specialty Retailers in  Other) of the company.\n"
     ]
    }
   ],
   "source": [
    "print(df_new['user_prompt'][3433])"
   ]
  },
  {
   "cell_type": "code",
   "execution_count": null,
   "id": "f3323442",
   "metadata": {},
   "outputs": [],
   "source": []
  },
  {
   "cell_type": "code",
   "execution_count": null,
   "id": "8ade4c97",
   "metadata": {},
   "outputs": [],
   "source": []
  },
  {
   "cell_type": "code",
   "execution_count": 2,
   "id": "8e09e803",
   "metadata": {},
   "outputs": [
    {
     "name": "stdout",
     "output_type": "stream",
     "text": [
      "Collecting pydantic==1.10.12\n",
      "  Downloading pydantic-1.10.12-cp310-cp310-macosx_11_0_arm64.whl.metadata (149 kB)\n",
      "\u001b[2K     \u001b[90m━━━━━━━━━━━━━━━━━━━━━━━━━━━━━━━━━━━━━━━\u001b[0m \u001b[32m149.3/149.3 kB\u001b[0m \u001b[31m3.1 MB/s\u001b[0m eta \u001b[36m0:00:00\u001b[0ma \u001b[36m0:00:01\u001b[0m\n",
      "\u001b[?25hRequirement already satisfied: typing-extensions>=4.2.0 in /Users/blackcomet/anaconda3/lib/python3.10/site-packages (from pydantic==1.10.12) (4.9.0)\n",
      "Downloading pydantic-1.10.12-cp310-cp310-macosx_11_0_arm64.whl (2.5 MB)\n",
      "\u001b[2K   \u001b[90m━━━━━━━━━━━━━━━━━━━━━━━━━━━━━━━━━━━━━━━━\u001b[0m \u001b[32m2.5/2.5 MB\u001b[0m \u001b[31m5.2 MB/s\u001b[0m eta \u001b[36m0:00:00\u001b[0m00:01\u001b[0m00:01\u001b[0m\n",
      "\u001b[?25hInstalling collected packages: pydantic\n",
      "  Attempting uninstall: pydantic\n",
      "    Found existing installation: pydantic 1.8\n",
      "    Uninstalling pydantic-1.8:\n",
      "      Successfully uninstalled pydantic-1.8\n",
      "Successfully installed pydantic-1.10.12\n"
     ]
    }
   ],
   "source": [
    "!pip install pydantic==1.10.12\n",
    "!pip install ctransformers\n"
   ]
  },
  {
   "cell_type": "code",
   "execution_count": null,
   "id": "75f5f3d5",
   "metadata": {},
   "outputs": [],
   "source": [
    "1.10.12"
   ]
  },
  {
   "cell_type": "code",
   "execution_count": null,
   "id": "ac382024",
   "metadata": {},
   "outputs": [],
   "source": []
  },
  {
   "cell_type": "code",
   "execution_count": null,
   "id": "b6686d24",
   "metadata": {},
   "outputs": [],
   "source": []
  },
  {
   "cell_type": "code",
   "execution_count": null,
   "id": "2c9bf8b7",
   "metadata": {},
   "outputs": [],
   "source": []
  },
  {
   "cell_type": "code",
   "execution_count": null,
   "id": "2818d70a",
   "metadata": {},
   "outputs": [],
   "source": []
  },
  {
   "cell_type": "code",
   "execution_count": null,
   "id": "0920dcc4",
   "metadata": {},
   "outputs": [],
   "source": []
  },
  {
   "cell_type": "code",
   "execution_count": null,
   "id": "837d8bdf",
   "metadata": {},
   "outputs": [],
   "source": []
  },
  {
   "cell_type": "code",
   "execution_count": null,
   "id": "4dece41f",
   "metadata": {},
   "outputs": [],
   "source": []
  },
  {
   "cell_type": "code",
   "execution_count": null,
   "id": "457caffb",
   "metadata": {},
   "outputs": [],
   "source": []
  },
  {
   "cell_type": "code",
   "execution_count": null,
   "id": "5b2bfdcc",
   "metadata": {},
   "outputs": [],
   "source": []
  },
  {
   "cell_type": "code",
   "execution_count": null,
   "id": "a58295fd",
   "metadata": {},
   "outputs": [],
   "source": []
  },
  {
   "cell_type": "code",
   "execution_count": null,
   "id": "e5350727",
   "metadata": {},
   "outputs": [],
   "source": []
  },
  {
   "cell_type": "code",
   "execution_count": null,
   "id": "ac17c95f",
   "metadata": {},
   "outputs": [],
   "source": []
  },
  {
   "cell_type": "code",
   "execution_count": null,
   "id": "795b43d2",
   "metadata": {},
   "outputs": [],
   "source": []
  },
  {
   "cell_type": "code",
   "execution_count": null,
   "id": "62391e72",
   "metadata": {},
   "outputs": [],
   "source": []
  },
  {
   "cell_type": "code",
   "execution_count": null,
   "id": "77110435",
   "metadata": {},
   "outputs": [],
   "source": []
  }
 ],
 "metadata": {
  "kernelspec": {
   "display_name": "Python 3 (ipykernel)",
   "language": "python",
   "name": "python3"
  },
  "language_info": {
   "codemirror_mode": {
    "name": "ipython",
    "version": 3
   },
   "file_extension": ".py",
   "mimetype": "text/x-python",
   "name": "python",
   "nbconvert_exporter": "python",
   "pygments_lexer": "ipython3",
   "version": "3.10.9"
  }
 },
 "nbformat": 4,
 "nbformat_minor": 5
}
