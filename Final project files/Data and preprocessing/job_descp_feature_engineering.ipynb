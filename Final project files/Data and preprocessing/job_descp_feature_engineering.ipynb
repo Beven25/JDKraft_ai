{
 "cells": [
  {
   "cell_type": "code",
   "execution_count": 1,
   "id": "40e0004c",
   "metadata": {},
   "outputs": [],
   "source": [
    "import pandas as pd"
   ]
  },
  {
   "cell_type": "code",
   "execution_count": 2,
   "id": "7d3f1958",
   "metadata": {},
   "outputs": [],
   "source": [
    "df=pd.read_csv('job_descriptions.csv')"
   ]
  },
  {
   "cell_type": "code",
   "execution_count": null,
   "id": "3a2ccfb7",
   "metadata": {},
   "outputs": [],
   "source": []
  },
  {
   "cell_type": "code",
   "execution_count": 3,
   "id": "2af4c6cd",
   "metadata": {
    "scrolled": true
   },
   "outputs": [],
   "source": [
    "columns_to_drop = ['Job Id', 'latitude','longitude','Job Posting Date','Preference','Job Portal']\n",
    "df = df.drop(columns=columns_to_drop)\n",
    "\n",
    "\n",
    "\n"
   ]
  },
  {
   "cell_type": "code",
   "execution_count": 4,
   "id": "62449533",
   "metadata": {},
   "outputs": [
    {
     "data": {
      "text/plain": [
       "'Wireless network design and architecture Wi-Fi standards and protocols RF (Radio Frequency) planning and optimization Wireless security protocols Troubleshooting wireless network issues'"
      ]
     },
     "execution_count": 4,
     "metadata": {},
     "output_type": "execute_result"
    }
   ],
   "source": [
    "df['skills'][3]"
   ]
  },
  {
   "cell_type": "code",
   "execution_count": 5,
   "id": "066eca3e",
   "metadata": {},
   "outputs": [
    {
     "data": {
      "text/plain": [
       "Index(['Experience', 'Qualifications', 'Salary Range', 'location', 'Country',\n",
       "       'Work Type', 'Company Size', 'Contact Person', 'Contact', 'Job Title',\n",
       "       'Role', 'Job Description', 'Benefits', 'skills', 'Responsibilities',\n",
       "       'Company', 'Company Profile'],\n",
       "      dtype='object')"
      ]
     },
     "execution_count": 5,
     "metadata": {},
     "output_type": "execute_result"
    }
   ],
   "source": [
    "df.columns"
   ]
  },
  {
   "cell_type": "code",
   "execution_count": null,
   "id": "707f547f",
   "metadata": {},
   "outputs": [],
   "source": []
  },
  {
   "cell_type": "code",
   "execution_count": 6,
   "id": "e6bdd626",
   "metadata": {},
   "outputs": [],
   "source": [
    "role_counts=df['Role'].value_counts()"
   ]
  },
  {
   "cell_type": "code",
   "execution_count": 7,
   "id": "08aeb260",
   "metadata": {},
   "outputs": [
    {
     "name": "stdout",
     "output_type": "stream",
     "text": [
      "Interaction Designer: 20580\n",
      "Network Administrator: 17470\n",
      "User Interface Designer: 14036\n",
      "Social Media Manager: 13945\n",
      "User Experience Designer: 13935\n",
      "Procurement Analyst: 13757\n",
      "Social Media Analyst: 10659\n",
      "Quality Assurance Analyst: 10541\n",
      "SEO Specialist: 10512\n",
      "Executive Assistant: 10496\n",
      "Database Administrator: 10482\n",
      "Procurement Manager: 10407\n",
      "Data Analyst: 10406\n",
      "Backend Developer: 10404\n",
      "Demand Planner: 10362\n",
      "Office Manager: 10361\n",
      "Frontend Developer: 10308\n",
      "Customer Success Manager: 10308\n",
      "Retirement Planner: 10305\n",
      "Account Executive: 7063\n",
      "Inside Sales Representative: 7052\n",
      "UX/UI Designer: 7028\n",
      "Network Security Analyst: 7027\n",
      "Paralegal: 7021\n",
      "Training Coordinator: 7020\n",
      "Event Coordinator: 7016\n",
      "Personal Assistant: 7014\n",
      "Sustainable Design Specialist: 7004\n",
      "Data Scientist: 7003\n",
      "Customer Support Specialist: 7002\n",
      "Systems Administrator: 7000\n",
      "Data Entry Specialist: 6988\n",
      "Manufacturing Engineer: 6983\n",
      "Residential Landscape Designer: 6979\n",
      "Sales Account Manager: 6975\n",
      "IT Project Manager: 6974\n",
      "Portfolio Manager: 6965\n",
      "Content Strategist: 6959\n",
      "Product Marketing Manager: 6955\n",
      "Inventory Manager: 6941\n",
      "Business Intelligence Analyst: 6939\n",
      "Market Researcher: 6935\n",
      "Supply Chain Manager: 6932\n",
      "Water Resources Engineer: 6929\n",
      "Supply Chain Coordinator: 6926\n",
      "DevOps Engineer: 6918\n",
      "Client Relationship Manager: 6913\n",
      "Investment Advisor: 6906\n",
      "Financial Analyst: 6903\n",
      "Wedding Planner: 6902\n",
      "Front-End Developer: 6898\n",
      "Family Law Attorney: 6897\n",
      "Content Creator: 6878\n",
      "Event Planner: 6857\n",
      "Automation Tester: 6852\n",
      "Market Research Analyst: 6850\n",
      "Benefits Coordinator: 6839\n",
      "Research Analyst: 6830\n",
      "Administrative Coordinator: 6803\n",
      "IT Support Specialist: 6799\n",
      "UI/UX Designer: 6743\n",
      "Fine Arts Instructor: 3645\n",
      "Digital Marketing Specialist: 3607\n",
      "Geriatric Occupational Therapist: 3602\n",
      "Marketing Analytics Specialist: 3600\n",
      "Web Graphic Designer: 3598\n",
      "Primary Care Physician Assistant: 3594\n",
      "Mediator: 3589\n",
      "Customer Support Manager: 3584\n",
      "Infrastructure Manager: 3583\n",
      "Family Counselor: 3579\n",
      "Brand Promoter: 3576\n",
      "Hospitality Interior Designer: 3575\n",
      "Call Center Agent: 3572\n",
      "Territory Sales Manager: 3570\n",
      "Product Demonstrator: 3569\n",
      "Family Nurse Practitioner: 3569\n",
      "Administrative Assistant: 3563\n",
      "Frontend Web Developer: 3563\n",
      "Java Web Application Developer: 3562\n",
      "Forensic Accountant: 3559\n",
      "JavaScript Developer: 3556\n",
      "Enterprise Architect: 3556\n",
      "Power Systems Engineer: 3555\n",
      "Network Engineer: 3554\n",
      "Quality Control Manager: 3554\n",
      "Performance Tester: 3552\n",
      "Wedding Coordinator: 3552\n",
      "Litigation Support Specialist: 3550\n",
      "Outside Sales Representative: 3549\n",
      "Studio Art Teacher: 3548\n",
      "Marketing Automation Specialist: 3548\n",
      "Brand Marketing Analyst: 3547\n",
      "Environmental Planner: 3545\n",
      "Community Manager: 3545\n",
      "IT Analyst: 3544\n",
      "Usability Analyst: 3542\n",
      "Competitive Intelligence Analyst: 3541\n",
      "Surgical Physician Assistant: 3541\n",
      "Print Graphic Designer: 3540\n",
      "Business Tax Consultant: 3540\n",
      "Test Automation Engineer: 3540\n",
      "Quality Assurance Manager: 3540\n",
      "Logistics Manager: 3540\n",
      "Risk Analyst: 3538\n",
      "Dental Public Health Hygienist: 3536\n",
      "Data Architect: 3536\n",
      "Environmental Compliance Officer: 3535\n",
      "Legal Counsel: 3534\n",
      "Systems Engineer: 3533\n",
      "Data Analyst Researcher: 3531\n",
      "Sales Account Executive: 3530\n",
      "UI/UX Front-End Developer: 3530\n",
      "Pediatric Nurse Practitioner: 3530\n",
      "Facilities Manager: 3529\n",
      "Desktop Support Technician: 3529\n",
      "Software QA Tester: 3527\n",
      "Industrial Designer: 3526\n",
      "Security Operations Center (SOC) Analyst: 3526\n",
      "IT Systems Administrator: 3525\n",
      "Periodontal Therapist: 3525\n",
      "Investment Portfolio Manager: 3524\n",
      "Digital Marketing Analyst: 3523\n",
      "Construction Project Coordinator: 3523\n",
      "Small Animal Veterinarian: 3522\n",
      "Brand Director: 3522\n",
      "Pediatric Specialist: 3521\n",
      "Clinical Nurse Specialist: 3521\n",
      "Big Data Engineer: 3521\n",
      "Agile Project Manager: 3520\n",
      "Cloud Systems Engineer: 3520\n",
      "Digital Marketing Manager: 3520\n",
      "UX Strategist: 3518\n",
      "Addiction Counselor: 3518\n",
      "Email Marketing Specialist: 3518\n",
      "Tax Accountant: 3518\n",
      "Adult Speech Therapist: 3518\n",
      "Mobile App Developer: 3517\n",
      "SEO Content Strategist: 3516\n",
      "Industrial Engineer: 3516\n",
      "Personal Tax Consultant: 3516\n",
      "Java Backend Developer: 3515\n",
      "Analytical Chemist: 3515\n",
      "Help Desk Analyst: 3515\n",
      "Emergency Medicine Physician Assistant: 3514\n",
      "SEO Copywriter: 3513\n",
      "Media Relations Specialist: 3513\n",
      "Accessibility Developer: 3513\n",
      "Process Engineer: 3513\n",
      "General Pediatrician: 3512\n",
      "UI/UX Developer: 3512\n",
      "Java Software Engineer: 3512\n",
      "Product Designer: 3512\n",
      "Special Education Teacher: 3511\n",
      "Subject Matter Expert: 3510\n",
      "Record Keeper: 3509\n",
      "IT Director: 3509\n",
      "Sourcing Analyst: 3509\n",
      "Bridge Engineer: 3508\n",
      "Supplier Diversity Manager: 3508\n",
      "Cybersecurity Analyst: 3508\n",
      "B2B Sales Consultant: 3508\n",
      "Logistics Analyst: 3507\n",
      "Automation Test Engineer: 3507\n",
      "Transportation Planner: 3505\n",
      "Litigation Paralegal: 3505\n",
      "Corporate Litigator: 3504\n",
      "Investment Analyst: 3504\n",
      "Mechanical Design Engineer: 3503\n",
      "Marketing Specialist: 3503\n",
      "Sales Team Leader: 3499\n",
      "Tax Planner: 3499\n",
      "Server Developer: 3499\n",
      "Data Engineer: 3498\n",
      "Electrical Engineer: 3498\n",
      "Acute Care Nurse Practitioner: 3498\n",
      "In-House Counsel: 3497\n",
      "Real Estate Paralegal: 3497\n",
      "Commercial Interior Designer: 3496\n",
      "Content SEO Strategist: 3496\n",
      "HR Coordinator: 3495\n",
      "Conference Manager: 3494\n",
      "Technical Writer: 3494\n",
      "Brand PR Specialist: 3493\n",
      "Business Systems Analyst: 3493\n",
      "Pediatric Surgeon: 3492\n",
      "Social Media Influencer: 3492\n",
      "Advertising Account Executive: 3492\n",
      "Crisis Communication Manager: 3492\n",
      "Employee Development Manager: 3492\n",
      "Market Research Coordinator: 3492\n",
      "Wedding Consultant: 3492\n",
      "Office Coordinator: 3492\n",
      "Legal Secretary: 3492\n",
      "Pediatric Occupational Therapist: 3491\n",
      "Trial Attorney: 3491\n",
      "Classroom Teacher: 3491\n",
      "Corporate Counsel: 3491\n",
      "Network Support Specialist: 3490\n",
      "Senior Researcher: 3489\n",
      "Key Account Executive: 3489\n",
      "Accounting Manager: 3489\n",
      "Product Brand Manager: 3489\n",
      "SQL Database Developer: 3488\n",
      "Network Security Specialist: 3487\n",
      "Security Consultant: 3486\n",
      "Geriatric Nurse Practitioner: 3486\n",
      "Service Quality Assurance Manager: 3485\n",
      "Corporate Paralegal: 3485\n",
      "Aircraft Design Engineer: 3484\n",
      "API Developer: 3483\n",
      "Corporate Event Coordinator: 3482\n",
      "Performance Testing Specialist: 3482\n",
      "Network Performance Analyst: 3482\n",
      "Retail Sales Associate: 3482\n",
      "School Social Worker: 3481\n",
      "SEO Analyst: 3481\n",
      "Project Manager: 3480\n",
      "Quality Control Analyst: 3480\n",
      "Legal Assistant: 3479\n",
      "Project Architect: 3479\n",
      "User Researcher: 3479\n",
      "Lighting Designer: 3478\n",
      "Brand Strategist: 3478\n",
      "Documentation Specialist: 3477\n",
      "Geriatric Physical Therapist: 3477\n",
      "Wealth Management Advisor: 3476\n",
      "System Administrator: 3476\n",
      "Creative Director: 3474\n",
      "Architectural Designer: 3474\n",
      "Account Manager: 3474\n",
      "Employment Lawyer: 3474\n",
      "Creative Copywriter: 3473\n",
      "HR Compliance Specialist: 3472\n",
      "Sales Representative: 3472\n",
      "Help Desk Support Specialist: 3471\n",
      "Urban Planner: 3471\n",
      "Speech Pathologist: 3470\n",
      "Primary Care Nurse Practitioner: 3470\n",
      "Strategic Sourcing Manager: 3469\n",
      "Onboarding Specialist: 3469\n",
      "Orthopedic Physical Therapist: 3469\n",
      "Research Chemist: 3469\n",
      "Regional Sales Director: 3468\n",
      "Digital Marketing Coordinator: 3468\n",
      "Corporate Event Planner: 3466\n",
      "Business Development Director: 3466\n",
      "Network Security Engineer: 3465\n",
      "Visual Designer: 3465\n",
      "Intellectual Property Lawyer: 3464\n",
      "Treasury Manager: 3464\n",
      "E-commerce Web Designer: 3464\n",
      "Instructional Designer: 3461\n",
      "Mental Health Counselor: 3461\n",
      "Sustainability Consultant: 3460\n",
      "Data Quality Analyst: 3460\n",
      "Account Strategist: 3460\n",
      "Solution Architect: 3460\n",
      "Database Developer: 3459\n",
      "Accounting Controller: 3458\n",
      "Wireless Network Engineer: 3458\n",
      "Frontend Web Designer: 3457\n",
      "Research Psychologist: 3457\n",
      "Exotic Animal Veterinarian: 3457\n",
      "Mental Health Occupational Therapist: 3456\n",
      "Pediatric Physical Therapist: 3456\n",
      "Email Campaign Manager: 3456\n",
      "Financial Planner: 3456\n",
      "Strategic Partnerships Manager: 3455\n",
      "Live Chat Support Agent: 3455\n",
      "IT Business Analyst: 3455\n",
      "SEM Analyst: 3454\n",
      "Environmental Impact Analyst: 3454\n",
      "Technical Copywriter: 3452\n",
      "Clinical Psychologist: 3452\n",
      "Operations Director: 3452\n",
      "Backend Web Developer: 3452\n",
      "Wealth Advisor: 3452\n",
      "QA Tester: 3451\n",
      "Design Engineer: 3451\n",
      "Equine Veterinarian: 3451\n",
      "Key Account Manager: 3450\n",
      "Brand Manager: 3450\n",
      "Cloud Architect: 3448\n",
      "Art Curator: 3448\n",
      "Charge Nurse: 3447\n",
      "Nursing Director: 3446\n",
      "Digital Marketing Director: 3445\n",
      "Sustainable Landscape Specialist: 3444\n",
      "Child Welfare Worker: 3444\n",
      "Event Marketing Coordinator: 3443\n",
      "Machine Learning Engineer: 3442\n",
      "Personal Secretary: 3441\n",
      "Human Resources Director: 3441\n",
      "Marketing Communications Director: 3441\n",
      "Agile Product Owner: 3440\n",
      "Financial Accountant: 3440\n",
      "Staff Nurse: 3440\n",
      "QA Manager: 3439\n",
      "Healthcare Business Analyst: 3439\n",
      "Pediatric Speech Therapist: 3439\n",
      "Content Writer: 3438\n",
      "Sales Manager: 3438\n",
      "Technical Product Manager: 3436\n",
      "Technical Support Specialist: 3436\n",
      "City Planner: 3435\n",
      "Child Custody Lawyer: 3434\n",
      "Recovery Coach: 3434\n",
      "Sustainability Specialist: 3434\n",
      "Procurement Coordinator: 3432\n",
      "Systems Integration Specialist: 3432\n",
      "Electronics Hardware Engineer: 3431\n",
      "PCB Designer: 3431\n",
      "Market Expansion Manager: 3431\n",
      "Construction Project Manager: 3430\n",
      "Web Designer: 3430\n",
      "Quality Control Engineer: 3429\n",
      "Primary Care Provider: 3429\n",
      "Interior Designer: 3428\n",
      "Mergers and Acquisitions Advisor: 3427\n",
      "International Tax Consultant: 3427\n",
      "Residential Interior Designer: 3424\n",
      "Technical SEO Specialist: 3424\n",
      "Avionics Engineer: 3424\n",
      "Purchasing Coordinator: 3424\n",
      "School Psychologist: 3423\n",
      "Administrative Manager: 3422\n",
      "Court Clerk: 3421\n",
      "Content Marketing Manager: 3420\n",
      "NoSQL Database Engineer: 3420\n",
      "Procurement Specialist: 3419\n",
      "Chemical Engineer: 3419\n",
      "Art Education Coordinator: 3418\n",
      "Sales Trainer: 3418\n",
      "Copywriter: 3416\n",
      "Commercial Landscape Architect: 3416\n",
      "Database Security Specialist: 3415\n",
      "Sales Advisor: 3412\n",
      "Strategic Account Manager: 3411\n",
      "HR Generalist: 3411\n",
      "Talent Acquisition Manager: 3410\n",
      "Social Media Strategist: 3409\n",
      "HVAC Engineer: 3408\n",
      "Medical Sales Specialist: 3408\n",
      "Database Analyst: 3406\n",
      "ETL Developer: 3405\n",
      "Customer Experience Strategist: 3405\n",
      "Research and Development (R&D) Engineer: 3403\n",
      "Nurse Educator: 3402\n",
      "Corporate Attorney: 3402\n",
      "Project Coordinator: 3401\n",
      "Recruitment Coordinator: 3401\n",
      "Construction Engineer: 3399\n",
      "Data Business Analyst: 3392\n",
      "Structural Engineer: 3389\n",
      "CAD Technician: 3387\n",
      "Controls Engineer: 3387\n",
      "HVAC Systems Designer: 3383\n",
      "Finance Manager: 3380\n",
      "Architectural Drafter: 3378\n",
      "Deliverability Analyst: 3375\n",
      "Dental Hygiene Educator: 3373\n",
      "Financial Planning Manager: 3371\n",
      "Environmental Consultant: 3369\n",
      "Environmental Designer: 3365\n",
      "Technical SEO Analyst: 3359\n",
      "Employee Relations Specialist: 3359\n",
      "Transportation Engineer: 3356\n",
      "Wedding Designer: 3353\n",
      "Search Engine Marketer: 3350\n",
      "Full-Stack Developer: 3346\n",
      "Inventory Control Specialist: 3342\n",
      "Budget Analyst: 3335\n",
      "Clinical Nurse Manager: 3324\n",
      "Social Science Researcher: 3321\n",
      "Paid Advertising Specialist: 3306\n"
     ]
    }
   ],
   "source": [
    "for role, count in role_counts.items():\n",
    "    print(f\"{role}: {count}\")"
   ]
  },
  {
   "cell_type": "code",
   "execution_count": null,
   "id": "ba099a8e",
   "metadata": {},
   "outputs": [],
   "source": []
  },
  {
   "cell_type": "markdown",
   "id": "f48da796",
   "metadata": {},
   "source": [
    "# Slicing the df by Roles"
   ]
  },
  {
   "cell_type": "code",
   "execution_count": 8,
   "id": "67948cea",
   "metadata": {
    "scrolled": true
   },
   "outputs": [
    {
     "data": {
      "text/plain": [
       "Network Administrator             17470\n",
       "User Interface Designer           14036\n",
       "User Experience Designer          13935\n",
       "Social Media Analyst              10659\n",
       "Quality Assurance Analyst         10541\n",
       "Database Administrator            10482\n",
       "Data Analyst                      10406\n",
       "Backend Developer                 10404\n",
       "Frontend Developer                10308\n",
       "Data Scientist                     7003\n",
       "Systems Administrator              7000\n",
       "IT Project Manager                 6974\n",
       "Business Intelligence Analyst      6939\n",
       "DevOps Engineer                    6918\n",
       "IT Support Specialist              6799\n",
       "Java Web Application Developer     3562\n",
       "Enterprise Architect               3556\n",
       "Data Architect                     3536\n",
       "Systems Engineer                   3533\n",
       "Data Analyst Researcher            3531\n",
       "Software QA Tester                 3527\n",
       "Big Data Engineer                  3521\n",
       "SQL Database Developer             3488\n",
       "Network Security Specialist        3487\n",
       "QA Tester                          3451\n",
       "Machine Learning Engineer          3442\n",
       "Full-Stack Developer               3346\n",
       "Name: Role, dtype: int64"
      ]
     },
     "execution_count": 8,
     "metadata": {},
     "output_type": "execute_result"
    }
   ],
   "source": [
    "#Filtering based on selective tech roles.\n",
    "\n",
    "roles_of_interest = [\n",
    "    'Data Analyst',\n",
    "    'Data Scientist',\n",
    "    'Data Architect',\n",
    "    'Machine Learning Engineer',\n",
    "    'Big Data Engineer',\n",
    "    'Frontend Developer',\n",
    "    'Backend Developer',\n",
    "    'Systems Engineer',\n",
    "    'Network Administrator',\n",
    "    'Quality Assurance Analyst',\n",
    "    'User Interface Designer',\n",
    "    'User Experience Designer',\n",
    "    'Social Media Analyst',\n",
    "    'Database Administrator',\n",
    "    'Systems Administrator',\n",
    "    'IT Project Manager',\n",
    "    'Business Intelligence Analyst',\n",
    "    'DevOps Engineer',\n",
    "    'IT Support Specialist',\n",
    "    'Java Web Application Developer',\n",
    "    'Enterprise Architect',\n",
    "    'Data Analyst Researcher',\n",
    "    'Software QA Tester',\n",
    "    'SQL Database Developer',\n",
    "    'Network Security Specialist',\n",
    "    'QA Tester',\n",
    "    'Full-Stack Developer'\n",
    "    \n",
    "]\n",
    "\n",
    "# Filter the DataFrame for the roles of interest\n",
    "df = df[df['Role'].isin(roles_of_interest)]\n",
    "\n",
    "# Get the value counts for each role\n",
    "df['Role'].value_counts()\n",
    "\n",
    "\n"
   ]
  },
  {
   "cell_type": "code",
   "execution_count": 9,
   "id": "456a7625",
   "metadata": {},
   "outputs": [],
   "source": [
    "# new_df=df.copy()"
   ]
  },
  {
   "cell_type": "code",
   "execution_count": 10,
   "id": "1c666dc1",
   "metadata": {},
   "outputs": [],
   "source": [
    "# df=new_df.copy()"
   ]
  },
  {
   "cell_type": "code",
   "execution_count": 11,
   "id": "0ea13377",
   "metadata": {},
   "outputs": [],
   "source": [
    "# df.shape"
   ]
  },
  {
   "cell_type": "code",
   "execution_count": 12,
   "id": "9700ac01",
   "metadata": {},
   "outputs": [],
   "source": [
    "# Filter DataFrame to include only records with roles of interest\n",
    "subset_df = df[df['Role'].isin(roles_of_interest)]\n",
    "\n",
    "# Calculate the number of records needed for each role\n",
    "records_per_role = 120000 // len(roles_of_interest)\n",
    "\n",
    "# Create the final subset DataFrame\n",
    "df = pd.concat([subset_df[subset_df['Role'] == role].sample(n=records_per_role, replace=True) for role in roles_of_interest])\n"
   ]
  },
  {
   "cell_type": "code",
   "execution_count": null,
   "id": "814b6729",
   "metadata": {},
   "outputs": [],
   "source": []
  },
  {
   "cell_type": "code",
   "execution_count": null,
   "id": "f64ecdfc",
   "metadata": {},
   "outputs": [],
   "source": []
  },
  {
   "cell_type": "markdown",
   "id": "93a0de4a",
   "metadata": {},
   "source": [
    "# Feature Engineering"
   ]
  },
  {
   "cell_type": "code",
   "execution_count": 13,
   "id": "9cde07a9",
   "metadata": {},
   "outputs": [],
   "source": [
    "#Transformation on Experience col"
   ]
  },
  {
   "cell_type": "code",
   "execution_count": 14,
   "id": "4835bc2b",
   "metadata": {},
   "outputs": [
    {
     "name": "stdout",
     "output_type": "stream",
     "text": [
      "Requirement already satisfied: inflect in /Users/blackcomet/anaconda3/lib/python3.10/site-packages (7.0.0)\n",
      "Requirement already satisfied: pydantic>=1.9.1 in /Users/blackcomet/anaconda3/lib/python3.10/site-packages (from inflect) (1.9.2)\n",
      "Requirement already satisfied: typing-extensions in /Users/blackcomet/anaconda3/lib/python3.10/site-packages (from inflect) (4.4.0)\n",
      "Note: you may need to restart the kernel to use updated packages.\n"
     ]
    }
   ],
   "source": [
    "pip install inflect"
   ]
  },
  {
   "cell_type": "code",
   "execution_count": 15,
   "id": "dad3ed6c",
   "metadata": {},
   "outputs": [],
   "source": [
    "\n",
    "import inflect\n",
    "\n",
    "def convert_numbers_to_words(text):\n",
    "    text_lower = text.lower()\n",
    "    p = inflect.engine()\n",
    "    \n",
    "    words = []\n",
    "    for word in text_lower.split():\n",
    "        if word.isdigit():\n",
    "            # Convert number to word\n",
    "            word = p.number_to_words(word)\n",
    "        words.append(word)\n",
    "    return ' '.join(words)\n",
    "\n",
    "df['Experience'] = df['Experience'].apply(convert_numbers_to_words)\n",
    "df['Experience'] = df['Experience'].str.lower()\n",
    "\n"
   ]
  },
  {
   "cell_type": "code",
   "execution_count": 16,
   "id": "bad31c3a",
   "metadata": {},
   "outputs": [],
   "source": [
    "df=df.reset_index()"
   ]
  },
  {
   "cell_type": "code",
   "execution_count": 17,
   "id": "60ba2500",
   "metadata": {},
   "outputs": [
    {
     "data": {
      "text/plain": [
       "'one to nine years'"
      ]
     },
     "execution_count": 17,
     "metadata": {},
     "output_type": "execute_result"
    }
   ],
   "source": [
    "df['Experience'][2]"
   ]
  },
  {
   "cell_type": "code",
   "execution_count": 18,
   "id": "d39a2925",
   "metadata": {},
   "outputs": [],
   "source": [
    "#Transformation on Qualification col"
   ]
  },
  {
   "cell_type": "code",
   "execution_count": 19,
   "id": "ce0ef682",
   "metadata": {},
   "outputs": [
    {
     "data": {
      "text/plain": [
       "array(['BBA', 'MBA', 'M.Com', 'BA', 'PhD', 'M.Tech', 'MCA', 'B.Com',\n",
       "       'BCA', 'B.Tech'], dtype=object)"
      ]
     },
     "execution_count": 19,
     "metadata": {},
     "output_type": "execute_result"
    }
   ],
   "source": [
    "df['Qualifications'].unique()"
   ]
  },
  {
   "cell_type": "code",
   "execution_count": 20,
   "id": "a97b416f",
   "metadata": {},
   "outputs": [],
   "source": [
    "\n",
    "qualification_map = {\n",
    "    'M.Tech': 'Master of Technology',\n",
    "    'BCA': 'Bachelor of Computer Applications',\n",
    "    'PhD': 'Doctor of Philosophy',\n",
    "    'MBA': 'Master of Business Administration',\n",
    "    'MCA': 'Master of Computer Applications',\n",
    "    'M.Com': 'Master of Commerce',\n",
    "    'BBA': 'Bachelor of Business Administration',\n",
    "    'B.Tech': 'Bachelor of Technology',\n",
    "    'B.Com': 'Bachelor of Commerce',\n",
    "    'BA': 'Bachelor of Arts'\n",
    "}\n",
    "\n",
    "# Function to expand qualifications\n",
    "def expand_qualifications(value):\n",
    "    return qualification_map.get(value, value)  # If the value is not found in the map, return the original value\n",
    "\n",
    "# Expand qualifications in the DataFrame\n",
    "df['Qualifications'] = df['Qualifications'].apply(expand_qualifications)\n"
   ]
  },
  {
   "cell_type": "code",
   "execution_count": null,
   "id": "9f5d722d",
   "metadata": {},
   "outputs": [],
   "source": []
  },
  {
   "cell_type": "code",
   "execution_count": 21,
   "id": "e1b78814",
   "metadata": {},
   "outputs": [],
   "source": [
    "#Transforming Salary Range"
   ]
  },
  {
   "cell_type": "code",
   "execution_count": 22,
   "id": "91dd7a3f",
   "metadata": {},
   "outputs": [
    {
     "data": {
      "text/plain": [
       "'$59K-$112K'"
      ]
     },
     "execution_count": 22,
     "metadata": {},
     "output_type": "execute_result"
    }
   ],
   "source": [
    "df['Salary Range'][2]"
   ]
  },
  {
   "cell_type": "code",
   "execution_count": 23,
   "id": "67fcb75d",
   "metadata": {},
   "outputs": [
    {
     "name": "stdout",
     "output_type": "stream",
     "text": [
      "Requirement already satisfied: num2words in /Users/blackcomet/anaconda3/lib/python3.10/site-packages (0.5.13)\n",
      "Requirement already satisfied: docopt>=0.6.2 in /Users/blackcomet/anaconda3/lib/python3.10/site-packages (from num2words) (0.6.2)\n",
      "Note: you may need to restart the kernel to use updated packages.\n"
     ]
    }
   ],
   "source": [
    "pip install num2words"
   ]
  },
  {
   "cell_type": "code",
   "execution_count": 24,
   "id": "891bbec5",
   "metadata": {},
   "outputs": [],
   "source": [
    "from num2words import num2words\n",
    "\n",
    "# Function to convert number to words\n",
    "def salary_range_to_words(salary):\n",
    "    parts = salary.split('-')  # Split the salary range\n",
    "    lower = int(parts[0][1:-1])  # Extract lower salary and remove '$' and 'K'\n",
    "    upper = int(parts[1][1:-1])  # Extract upper salary and remove '$' and 'K'\n",
    "\n",
    "    lower_in_words = num2words(lower * 1000).capitalize() + ' dollars'  # Convert lower salary to words\n",
    "    upper_in_words = num2words(upper * 1000).capitalize() + ' dollars'  # Convert upper salary to words\n",
    "\n",
    "    return f\"{lower_in_words} to {upper_in_words}\"\n",
    "\n",
    "# Expand salary range in the DataFrame\n",
    "df['Salary Range'] = df['Salary Range'].apply(salary_range_to_words)\n"
   ]
  },
  {
   "cell_type": "code",
   "execution_count": null,
   "id": "903fdbc2",
   "metadata": {},
   "outputs": [],
   "source": []
  },
  {
   "cell_type": "code",
   "execution_count": 25,
   "id": "0ac84296",
   "metadata": {},
   "outputs": [],
   "source": [
    "#Transformation of location feature"
   ]
  },
  {
   "cell_type": "code",
   "execution_count": null,
   "id": "5cced257",
   "metadata": {},
   "outputs": [],
   "source": []
  },
  {
   "cell_type": "code",
   "execution_count": null,
   "id": "72bcdb5a",
   "metadata": {},
   "outputs": [],
   "source": []
  },
  {
   "cell_type": "code",
   "execution_count": 26,
   "id": "528c0d23",
   "metadata": {},
   "outputs": [],
   "source": [
    "#we tried to map these location properly using the geopy, but the location is not mapping properly"
   ]
  },
  {
   "cell_type": "code",
   "execution_count": 27,
   "id": "293ab5f3",
   "metadata": {},
   "outputs": [],
   "source": [
    "# import re\n",
    "\n",
    "# abnormal_locations = df[df['Country'].str.contains(r'[^\\w\\s]', regex=True)]['Country']\n",
    "\n",
    "# print(len(abnormal_locations))"
   ]
  },
  {
   "cell_type": "code",
   "execution_count": null,
   "id": "323df78e",
   "metadata": {},
   "outputs": [],
   "source": []
  },
  {
   "cell_type": "code",
   "execution_count": 28,
   "id": "a1ccfbc7",
   "metadata": {},
   "outputs": [
    {
     "data": {
      "text/plain": [
       "'Honiara'"
      ]
     },
     "execution_count": 28,
     "metadata": {},
     "output_type": "execute_result"
    }
   ],
   "source": [
    "df['location'][0]"
   ]
  },
  {
   "cell_type": "code",
   "execution_count": 29,
   "id": "6ceec2c7",
   "metadata": {},
   "outputs": [
    {
     "data": {
      "text/plain": [
       "'Timor-Leste'"
      ]
     },
     "execution_count": 29,
     "metadata": {},
     "output_type": "execute_result"
    }
   ],
   "source": [
    "df['Country'][20]"
   ]
  },
  {
   "cell_type": "code",
   "execution_count": null,
   "id": "91c58e44",
   "metadata": {},
   "outputs": [],
   "source": []
  },
  {
   "cell_type": "code",
   "execution_count": 30,
   "id": "ae5b02ec",
   "metadata": {},
   "outputs": [
    {
     "name": "stderr",
     "output_type": "stream",
     "text": [
      "/Users/blackcomet/anaconda3/lib/python3.10/site-packages/spacy/util.py:910: UserWarning: [W095] Model 'en_core_web_lg' (3.6.0) was trained with spaCy v3.6.0 and may not be 100% compatible with the current version (3.7.2). If you see errors or degraded performance, download a newer compatible model or retrain your custom model with the current spaCy version. For more details and available updates, run: python -m spacy validate\n",
      "  warnings.warn(warn_msg)\n"
     ]
    }
   ],
   "source": [
    "import pandas as pd\n",
    "import re\n",
    "from unidecode import unidecode\n",
    "import spacy\n",
    "\n",
    "\n",
    "# Function to clean abnormal locations\n",
    "def clean_location(location):\n",
    "    # Fix encoding issues using unidecode\n",
    "    cleaned_location = unidecode(location)\n",
    "    \n",
    "    # Remove unwanted characters like parentheses, commas, etc.\n",
    "    cleaned_location = re.sub(r'[^\\w\\s]', '', cleaned_location)\n",
    "    \n",
    "    return cleaned_location.strip()  # Remove leading/trailing spaces\n",
    "\n",
    "# Load SpaCy's English model\n",
    "nlp = spacy.load(\"en_core_web_lg\")\n",
    "\n",
    "# Function to extract only location names using SpaCy\n",
    "def extract_location_name(text):\n",
    "    doc = nlp(text)\n",
    "    locations = [ent.text for ent in doc.ents if ent.label_ == 'GPE']  # Extract entities labeled as GeoPolitical Entities\n",
    "    return locations[0] if locations else text  # Return the first location entity or original text if no location found\n",
    "\n",
    "# Process 'location' column\n",
    "abnormal_locations_location = df[df['location'].str.contains(r'[^\\w\\s]', regex=True)]['location']\n",
    "\n",
    "for index in abnormal_locations_location.index:\n",
    "    extracted_location = extract_location_name(str(df.at[index, 'location']))  # Convert to string\n",
    "    df.at[index, 'location'] = clean_location(extracted_location)\n",
    "\n",
    "# Process 'country' column\n",
    "abnormal_locations_country = df[df['Country'].str.contains(r'[^\\w\\s]', regex=True)]['Country']\n",
    "\n",
    "for index in abnormal_locations_country.index:\n",
    "    extracted_country = extract_location_name(str(df.at[index, 'Country']))  # Convert to string\n",
    "    df.at[index, 'Country'] = clean_location(extracted_country)\n",
    "\n",
    "\n",
    "\n"
   ]
  },
  {
   "cell_type": "code",
   "execution_count": 31,
   "id": "9d1bf97a",
   "metadata": {},
   "outputs": [
    {
     "data": {
      "text/plain": [
       "'772.531.3087x66671'"
      ]
     },
     "execution_count": 31,
     "metadata": {},
     "output_type": "execute_result"
    }
   ],
   "source": [
    "df['Contact'][2]"
   ]
  },
  {
   "cell_type": "code",
   "execution_count": null,
   "id": "3629c119",
   "metadata": {},
   "outputs": [],
   "source": []
  },
  {
   "cell_type": "code",
   "execution_count": null,
   "id": "b28aaaaa",
   "metadata": {},
   "outputs": [],
   "source": []
  },
  {
   "cell_type": "code",
   "execution_count": 32,
   "id": "19dd2e22",
   "metadata": {},
   "outputs": [],
   "source": [
    "#Transforming Company Size"
   ]
  },
  {
   "cell_type": "code",
   "execution_count": null,
   "id": "cdbd28f3",
   "metadata": {},
   "outputs": [],
   "source": []
  },
  {
   "cell_type": "code",
   "execution_count": 33,
   "id": "c9de961d",
   "metadata": {},
   "outputs": [
    {
     "name": "stdout",
     "output_type": "stream",
     "text": [
      "There are no non-integer values in the 'Company Size' column.\n"
     ]
    }
   ],
   "source": [
    "# Check for non-integer values in 'Company Size' column\n",
    "non_integer_values = df[~df['Company Size'].astype(str).str.isdigit()]['Company Size']\n",
    "\n",
    "if non_integer_values.empty:\n",
    "    print(\"There are no non-integer values in the 'Company Size' column.\")\n",
    "else:\n",
    "    print(\"Non-integer values found in the 'Company Size' column:\")\n",
    "    print(non_integer_values)"
   ]
  },
  {
   "cell_type": "code",
   "execution_count": null,
   "id": "f5c26bc1",
   "metadata": {},
   "outputs": [],
   "source": []
  },
  {
   "cell_type": "code",
   "execution_count": 34,
   "id": "9960e18e",
   "metadata": {},
   "outputs": [],
   "source": [
    "# Transforming Job title col"
   ]
  },
  {
   "cell_type": "code",
   "execution_count": 35,
   "id": "4e56bf49",
   "metadata": {},
   "outputs": [
    {
     "name": "stdout",
     "output_type": "stream",
     "text": [
      "Total abnormal job titles found: 8888\n",
      "\n",
      "Abnormal job titles and their abnormal characters:\n",
      "            Job Title Abnormal Characters\n",
      "44440  UX/UI Designer                 [/]\n",
      "44441  UX/UI Designer                 [/]\n",
      "44442  UX/UI Designer                 [/]\n",
      "44443  UX/UI Designer                 [/]\n",
      "44444  UX/UI Designer                 [/]\n",
      "...               ...                 ...\n",
      "53323  UX/UI Designer                 [/]\n",
      "53324  UX/UI Designer                 [/]\n",
      "53325  UX/UI Designer                 [/]\n",
      "53326  UX/UI Designer                 [/]\n",
      "53327  UX/UI Designer                 [/]\n",
      "\n",
      "[8888 rows x 2 columns]\n"
     ]
    },
    {
     "name": "stderr",
     "output_type": "stream",
     "text": [
      "/var/folders/jm/r9rpl4qj3v913nmyn327dg0r0000gn/T/ipykernel_3936/570049258.py:10: SettingWithCopyWarning: \n",
      "A value is trying to be set on a copy of a slice from a DataFrame.\n",
      "Try using .loc[row_indexer,col_indexer] = value instead\n",
      "\n",
      "See the caveats in the documentation: https://pandas.pydata.org/pandas-docs/stable/user_guide/indexing.html#returning-a-view-versus-a-copy\n",
      "  abnormal_jobs['Abnormal Characters'] = abnormal_jobs['Job Title'].apply(find_abnormal_characters)\n"
     ]
    }
   ],
   "source": [
    "def find_abnormal_characters(text):\n",
    "    # Using regex to identify non-alphabetical characters, excluding spaces and numbers\n",
    "    abnormal_chars = re.findall(r'[^A-Za-z\\s0-9]', text)\n",
    "    return abnormal_chars\n",
    "\n",
    "# Identify and count abnormal characters in job titles\n",
    "abnormal_jobs = df[df['Job Title'].apply(lambda x: bool(find_abnormal_characters(x)))]\n",
    "\n",
    "if not abnormal_jobs.empty:\n",
    "    abnormal_jobs['Abnormal Characters'] = abnormal_jobs['Job Title'].apply(find_abnormal_characters)\n",
    "    abnormal_count = abnormal_jobs.shape[0]\n",
    "\n",
    "    print(f\"Total abnormal job titles found: {abnormal_count}\")\n",
    "    print(\"\\nAbnormal job titles and their abnormal characters:\")\n",
    "    print(abnormal_jobs[['Job Title', 'Abnormal Characters']])\n",
    "else:\n",
    "    print(\"No abnormal job titles found.\")"
   ]
  },
  {
   "cell_type": "code",
   "execution_count": 36,
   "id": "df92fad4",
   "metadata": {},
   "outputs": [],
   "source": [
    "def replace_abnormal_with_space(text):\n",
    "    # Using regex to replace non-alphabetical characters (excluding spaces and numbers) with space\n",
    "    return re.sub(r'[^A-Za-z\\s0-9]', ' ', text)\n",
    "\n",
    "# Replace abnormal characters in job titles\n",
    "df['Job Title'] = df['Job Title'].apply(replace_abnormal_with_space)\n"
   ]
  },
  {
   "cell_type": "code",
   "execution_count": 37,
   "id": "d3bc461b",
   "metadata": {},
   "outputs": [
    {
     "data": {
      "text/plain": [
       "'Marketing Analyst'"
      ]
     },
     "execution_count": 37,
     "metadata": {},
     "output_type": "execute_result"
    }
   ],
   "source": [
    "df['Job Title'][2]"
   ]
  },
  {
   "cell_type": "code",
   "execution_count": 38,
   "id": "32a34bd1",
   "metadata": {},
   "outputs": [],
   "source": [
    "# Transforming Role col"
   ]
  },
  {
   "cell_type": "code",
   "execution_count": 39,
   "id": "250cc7e3",
   "metadata": {},
   "outputs": [
    {
     "name": "stdout",
     "output_type": "stream",
     "text": [
      "Total abnormal job Roles found: 4444\n",
      "\n",
      "Abnormal job Roles and their abnormal characters:\n",
      "                        Role Abnormal Characters\n",
      "115544  Full-Stack Developer                 [-]\n",
      "115545  Full-Stack Developer                 [-]\n",
      "115546  Full-Stack Developer                 [-]\n",
      "115547  Full-Stack Developer                 [-]\n",
      "115548  Full-Stack Developer                 [-]\n",
      "...                      ...                 ...\n",
      "119983  Full-Stack Developer                 [-]\n",
      "119984  Full-Stack Developer                 [-]\n",
      "119985  Full-Stack Developer                 [-]\n",
      "119986  Full-Stack Developer                 [-]\n",
      "119987  Full-Stack Developer                 [-]\n",
      "\n",
      "[4444 rows x 2 columns]\n"
     ]
    },
    {
     "name": "stderr",
     "output_type": "stream",
     "text": [
      "/var/folders/jm/r9rpl4qj3v913nmyn327dg0r0000gn/T/ipykernel_3936/2252083925.py:10: SettingWithCopyWarning: \n",
      "A value is trying to be set on a copy of a slice from a DataFrame.\n",
      "Try using .loc[row_indexer,col_indexer] = value instead\n",
      "\n",
      "See the caveats in the documentation: https://pandas.pydata.org/pandas-docs/stable/user_guide/indexing.html#returning-a-view-versus-a-copy\n",
      "  abnormal_jobs['Abnormal Characters'] = abnormal_jobs['Role'].apply(find_abnormal_characters)\n"
     ]
    }
   ],
   "source": [
    "def find_abnormal_characters(text):\n",
    "    # Using regex to identify non-alphabetical characters, excluding spaces and numbers\n",
    "    abnormal_chars = re.findall(r'[^A-Za-z\\s0-9]', text)\n",
    "    return abnormal_chars\n",
    "\n",
    "# Identify and count abnormal characters in Role\n",
    "abnormal_jobs = df[df['Role'].apply(lambda x: bool(find_abnormal_characters(x)))]\n",
    "\n",
    "if not abnormal_jobs.empty:\n",
    "    abnormal_jobs['Abnormal Characters'] = abnormal_jobs['Role'].apply(find_abnormal_characters)\n",
    "    abnormal_count = abnormal_jobs.shape[0]\n",
    "\n",
    "    print(f\"Total abnormal job Roles found: {abnormal_count}\")\n",
    "    print(\"\\nAbnormal job Roles and their abnormal characters:\")\n",
    "    print(abnormal_jobs[['Role', 'Abnormal Characters']])\n",
    "else:\n",
    "    print(\"No abnormal job Role found.\")"
   ]
  },
  {
   "cell_type": "code",
   "execution_count": 40,
   "id": "bf7db6b8",
   "metadata": {},
   "outputs": [],
   "source": [
    "def replace_abnormal_with_space(text):\n",
    "    # Using regex to replace non-alphabetical characters (excluding spaces and numbers) with space\n",
    "    return re.sub(r'[^A-Za-z\\s0-9]', ' ', text)\n",
    "\n",
    "# Replace abnormal characters in job titles\n",
    "df['Role'] = df['Role'].apply(replace_abnormal_with_space)\n"
   ]
  },
  {
   "cell_type": "code",
   "execution_count": 41,
   "id": "a57894e8",
   "metadata": {},
   "outputs": [
    {
     "data": {
      "text/plain": [
       "'Data Analyst'"
      ]
     },
     "execution_count": 41,
     "metadata": {},
     "output_type": "execute_result"
    }
   ],
   "source": [
    "df['Role'][2]"
   ]
  },
  {
   "cell_type": "code",
   "execution_count": null,
   "id": "a77c7244",
   "metadata": {},
   "outputs": [],
   "source": []
  },
  {
   "cell_type": "code",
   "execution_count": 42,
   "id": "078155b6",
   "metadata": {},
   "outputs": [],
   "source": [
    "#Transforming job description"
   ]
  },
  {
   "cell_type": "code",
   "execution_count": null,
   "id": "39178fe1",
   "metadata": {},
   "outputs": [],
   "source": []
  },
  {
   "cell_type": "code",
   "execution_count": 43,
   "id": "7f219402",
   "metadata": {},
   "outputs": [],
   "source": [
    "def clean_description(text):\n",
    "    # Define the characters to be removed\n",
    "    characters_to_remove = '-?/=+_'\n",
    "    \n",
    "    # Use str.replace() to remove specified characters\n",
    "    cleaned_text = text\n",
    "    for char in characters_to_remove:\n",
    "        cleaned_text = cleaned_text.replace(char, '')\n",
    "\n",
    "    return cleaned_text\n",
    "\n",
    "df['Job Description'] = df['Job Description'].apply(clean_description)\n"
   ]
  },
  {
   "cell_type": "code",
   "execution_count": 44,
   "id": "82c8d4fa",
   "metadata": {},
   "outputs": [
    {
     "name": "stdout",
     "output_type": "stream",
     "text": [
      "Rows with abnormal characters in Job Description:\n",
      "75548     DevOps Engineers focus on automating and strea...\n",
      "75549     DevOps Engineers focus on automating and strea...\n",
      "75550     DevOps Engineers focus on automating and strea...\n",
      "75551     DevOps Engineers focus on automating and strea...\n",
      "75552     DevOps Engineers focus on automating and strea...\n",
      "                                ...                        \n",
      "106651    SQL Database Developers design, implement, and...\n",
      "106652    SQL Database Developers design, implement, and...\n",
      "106653    SQL Database Developers design, implement, and...\n",
      "106654    SQL Database Developers design, implement, and...\n",
      "106655    SQL Database Developers design, implement, and...\n",
      "Name: Job Description, Length: 8888, dtype: object\n"
     ]
    }
   ],
   "source": [
    "def has_abnormal_characters(text):\n",
    "    # Using regex to identify abnormal characters like emojis or parentheses\n",
    "    abnormal_chars = re.findall(r'[^\\w\\s.,!?]', text)\n",
    "    return bool(abnormal_chars)\n",
    "\n",
    "# Identify rows with abnormal characters in job descriptions\n",
    "abnormal_descriptions = df[df['Job Description'].apply(has_abnormal_characters)]\n",
    "\n",
    "if not abnormal_descriptions.empty:\n",
    "    print(\"Rows with abnormal characters in Job Description:\")\n",
    "    print(abnormal_descriptions['Job Description'])\n",
    "else:\n",
    "    print(\"No abnormal characters found in Job Description.\")"
   ]
  },
  {
   "cell_type": "code",
   "execution_count": 45,
   "id": "aa721f9a",
   "metadata": {},
   "outputs": [
    {
     "data": {
      "text/plain": [
       "'DevOps Engineers focus on automating and streamlining the development and deployment processes. They work to improve collaboration between development and IT operations, implementing tools and practices for continuous integration and continuous delivery (CICD).'"
      ]
     },
     "execution_count": 45,
     "metadata": {},
     "output_type": "execute_result"
    }
   ],
   "source": [
    "df[\"Job Description\"][75550]"
   ]
  },
  {
   "cell_type": "code",
   "execution_count": 46,
   "id": "94d6bc1f",
   "metadata": {},
   "outputs": [],
   "source": [
    "#Transforming Benefits col"
   ]
  },
  {
   "cell_type": "code",
   "execution_count": null,
   "id": "ad6a2392",
   "metadata": {},
   "outputs": [],
   "source": []
  },
  {
   "cell_type": "code",
   "execution_count": null,
   "id": "1fa76f05",
   "metadata": {},
   "outputs": [],
   "source": []
  },
  {
   "cell_type": "code",
   "execution_count": 47,
   "id": "678512a1",
   "metadata": {},
   "outputs": [],
   "source": [
    "def clean_benefits(text):\n",
    "    # Remove words inside parentheses\n",
    "    text = re.sub(r'\\([^)]*\\)', '', text)\n",
    "    \n",
    "    # Remove emojis and special characters\n",
    "    text = text.encode('ascii', 'ignore').decode('ascii')\n",
    "    text = re.sub(r'[^\\w\\s,]', '', text)\n",
    "    \n",
    "    # Remove {, }, and '\n",
    "    text = text.replace('{', '').replace('}', '').replace(\"'\", '')\n",
    "\n",
    "    return text.strip()\n",
    "\n",
    "# Clean the benefits column\n",
    "df['Benefits'] = df['Benefits'].apply(clean_benefits)\n"
   ]
  },
  {
   "cell_type": "code",
   "execution_count": null,
   "id": "bd436811",
   "metadata": {},
   "outputs": [],
   "source": []
  },
  {
   "cell_type": "code",
   "execution_count": 48,
   "id": "8fb2ac36",
   "metadata": {},
   "outputs": [],
   "source": [
    "#Transforming Responsibilities col"
   ]
  },
  {
   "cell_type": "code",
   "execution_count": null,
   "id": "f6b20101",
   "metadata": {},
   "outputs": [],
   "source": []
  },
  {
   "cell_type": "code",
   "execution_count": 49,
   "id": "05ba160a",
   "metadata": {},
   "outputs": [
    {
     "name": "stdout",
     "output_type": "stream",
     "text": [
      "Rows with abnormal characters in Responsibilities:\n",
      "4444      Apply machine learning algorithms and statisti...\n",
      "4445      Apply machine learning algorithms and statisti...\n",
      "4446      Apply machine learning algorithms and statisti...\n",
      "4447      Apply machine learning algorithms and statisti...\n",
      "4448      Apply machine learning algorithms and statisti...\n",
      "                                ...                        \n",
      "119983    Work on both frontend and backend aspects, cre...\n",
      "119984    Work on both frontend and backend aspects, cre...\n",
      "119985    Work on both frontend and backend aspects, cre...\n",
      "119986    Work on both frontend and backend aspects, cre...\n",
      "119987    Work on both frontend and backend aspects, cre...\n",
      "Name: Responsibilities, Length: 57772, dtype: object\n"
     ]
    }
   ],
   "source": [
    "def has_abnormal_characters(text):\n",
    "    # Using regex to identify abnormal characters like emojis or parentheses\n",
    "    abnormal_chars = re.findall(r'[^\\w\\s.,!?]', text)\n",
    "    return bool(abnormal_chars)\n",
    "\n",
    "# Identify rows with abnormal characters in Responsibilities\n",
    "abnormal_descriptions = df[df['Responsibilities'].apply(has_abnormal_characters)]\n",
    "\n",
    "if not abnormal_descriptions.empty:\n",
    "    print(\"Rows with abnormal characters in Responsibilities:\")\n",
    "    print(abnormal_descriptions['Responsibilities'])\n",
    "else:\n",
    "    print(\"No abnormal characters found in Responsibilities\")"
   ]
  },
  {
   "cell_type": "code",
   "execution_count": 50,
   "id": "e184e391",
   "metadata": {},
   "outputs": [],
   "source": [
    "import re\n",
    "\n",
    "def clean_description(text):\n",
    "    # Define the characters to be removed\n",
    "    characters_to_remove = '-?/=+_'\n",
    "    \n",
    "    # Use str.replace() to remove specified characters\n",
    "    cleaned_text = text\n",
    "    for char in characters_to_remove:\n",
    "        cleaned_text = cleaned_text.replace(char, '')\n",
    "\n",
    "    # Remove words inside parentheses\n",
    "    cleaned_text = re.sub(r'\\([^)]*\\)', '', cleaned_text)\n",
    "    \n",
    "    return cleaned_text\n",
    "\n",
    "\n",
    "df['Responsibilities'] = df['Responsibilities'].apply(clean_description)\n"
   ]
  },
  {
   "cell_type": "code",
   "execution_count": 51,
   "id": "c1871124",
   "metadata": {},
   "outputs": [
    {
     "data": {
      "text/plain": [
       "'Analyze marketing data to measure campaign performance and ROI. Provide insights for marketing strategy adjustments. Create data visualizations and dashboards.'"
      ]
     },
     "execution_count": 51,
     "metadata": {},
     "output_type": "execute_result"
    }
   ],
   "source": [
    "df['Responsibilities'][2]"
   ]
  },
  {
   "cell_type": "code",
   "execution_count": 52,
   "id": "564eadf8",
   "metadata": {},
   "outputs": [],
   "source": [
    "#Skills transformation"
   ]
  },
  {
   "cell_type": "code",
   "execution_count": 53,
   "id": "d4dec155",
   "metadata": {},
   "outputs": [],
   "source": [
    "import re\n",
    "def clean_skills(skills):\n",
    "    # Replace 'e.g.,' with 'example'\n",
    "    skills = skills.replace('e.g.,', 'example')\n",
    "\n",
    "    # Remove parentheses and other special characters\n",
    "    skills = re.sub(r'[(){}[\\]]', '', skills)\n",
    "\n",
    "    return skills\n",
    "\n",
    "# Apply the cleaning function to the 'Skills' column\n",
    "df['skills'] = df['skills'].apply(clean_skills)\n"
   ]
  },
  {
   "cell_type": "code",
   "execution_count": 54,
   "id": "65b5299c",
   "metadata": {},
   "outputs": [
    {
     "data": {
      "text/plain": [
       "'Data analysis tools example SQL, Python Data visualization tools example Tableau, Power BI Statistical analysis Data cleansing and transformation Data modeling Communication of data insights Problem-solving Attention to detail Business acumen'"
      ]
     },
     "execution_count": 54,
     "metadata": {},
     "output_type": "execute_result"
    }
   ],
   "source": [
    "df['skills'][2]"
   ]
  },
  {
   "cell_type": "code",
   "execution_count": null,
   "id": "bbc72648",
   "metadata": {},
   "outputs": [],
   "source": []
  },
  {
   "cell_type": "code",
   "execution_count": 55,
   "id": "399620ea",
   "metadata": {},
   "outputs": [],
   "source": [
    "#seperating the sector and industry,website"
   ]
  },
  {
   "cell_type": "code",
   "execution_count": 56,
   "id": "934b2d18",
   "metadata": {},
   "outputs": [],
   "source": [
    "import ast\n",
    "\n",
    "# Function to convert string representations of dictionaries to actual dictionaries\n",
    "def convert_to_dict(profile_str):\n",
    "    try:\n",
    "        return ast.literal_eval(profile_str)\n",
    "    except (SyntaxError, ValueError):\n",
    "        return {}\n",
    "\n",
    "# Apply the conversion function to the 'Company Profile' column\n",
    "df['Company Profile'] = df['Company Profile'].apply(convert_to_dict)\n",
    "\n",
    "# Function to extract values from the dictionary\n",
    "def extract_value(profile, key):\n",
    "    if isinstance(profile, dict):\n",
    "        return profile.get(key, None)\n",
    "    else:\n",
    "        return None\n",
    "\n",
    "# Keys to extract values from 'Company Profile'\n",
    "keys_to_extract = ['Sector', 'Industry', 'Website']\n",
    "\n",
    "# Apply the extraction function to create new columns with only the values\n",
    "for key in keys_to_extract:\n",
    "    df[key] = df['Company Profile'].apply(lambda x: extract_value(x, key))\n",
    "\n",
    "# Drop the original 'Company Profile' column\n",
    "df = df.drop('Company Profile', axis=1)\n",
    "\n"
   ]
  },
  {
   "cell_type": "code",
   "execution_count": 57,
   "id": "adc58020",
   "metadata": {},
   "outputs": [],
   "source": [
    "#transformation of Industry col"
   ]
  },
  {
   "cell_type": "code",
   "execution_count": 58,
   "id": "55335ee4",
   "metadata": {},
   "outputs": [],
   "source": [
    "# Check for 'None' or empty values in 'Sector' column and replace with 'unknown'\n",
    "df['Industry'].fillna('unknown', inplace=True)\n",
    "df['Industry'] = df['Industry'].replace('', 'unknown')\n"
   ]
  },
  {
   "cell_type": "code",
   "execution_count": 59,
   "id": "90f77092",
   "metadata": {},
   "outputs": [],
   "source": [
    "# # Function to clean the 'Industry' column\n",
    "def clean_industry(industry):\n",
    "    # Replace \":\" with \"in\"\n",
    "    industry = re.sub(r':', ' in ', industry)\n",
    "    \n",
    "    # Remove text within parentheses\n",
    "    industry = re.sub(r'\\([^)]*\\)', '', industry)\n",
    "    \n",
    "    # Replace \"&\" with \"and\"\n",
    "    industry = re.sub(r'&', ' and ', industry)\n",
    "    \n",
    "    # Replace \"/\" with \"or\"\n",
    "    industry = re.sub(r'/', ' or ', industry)\n",
    "    \n",
    "    # Replace \"-\" with \"based on\" if not surrounded by alphabets\n",
    "    industry = re.sub(r'(?<![a-zA-Z])-(?![a-zA-Z])', ' based on ', industry)\n",
    "    \n",
    "    return industry.strip()\n",
    "\n",
    "\n",
    "# Clean the 'Industry' column\n",
    "df['Industry'] = df['Industry'].apply(clean_industry)\n"
   ]
  },
  {
   "cell_type": "code",
   "execution_count": 60,
   "id": "8a43c06e",
   "metadata": {},
   "outputs": [
    {
     "data": {
      "text/html": [
       "<div>\n",
       "<style scoped>\n",
       "    .dataframe tbody tr th:only-of-type {\n",
       "        vertical-align: middle;\n",
       "    }\n",
       "\n",
       "    .dataframe tbody tr th {\n",
       "        vertical-align: top;\n",
       "    }\n",
       "\n",
       "    .dataframe thead th {\n",
       "        text-align: right;\n",
       "    }\n",
       "</style>\n",
       "<table border=\"1\" class=\"dataframe\">\n",
       "  <thead>\n",
       "    <tr style=\"text-align: right;\">\n",
       "      <th></th>\n",
       "      <th>index</th>\n",
       "      <th>Experience</th>\n",
       "      <th>Qualifications</th>\n",
       "      <th>Salary Range</th>\n",
       "      <th>location</th>\n",
       "      <th>Country</th>\n",
       "      <th>Work Type</th>\n",
       "      <th>Company Size</th>\n",
       "      <th>Contact Person</th>\n",
       "      <th>Contact</th>\n",
       "      <th>Job Title</th>\n",
       "      <th>Role</th>\n",
       "      <th>Job Description</th>\n",
       "      <th>Benefits</th>\n",
       "      <th>skills</th>\n",
       "      <th>Responsibilities</th>\n",
       "      <th>Company</th>\n",
       "      <th>Sector</th>\n",
       "      <th>Industry</th>\n",
       "      <th>Website</th>\n",
       "    </tr>\n",
       "  </thead>\n",
       "  <tbody>\n",
       "    <tr>\n",
       "      <th>0</th>\n",
       "      <td>910174</td>\n",
       "      <td>five to eleven years</td>\n",
       "      <td>Bachelor of Business Administration</td>\n",
       "      <td>Fifty-nine thousand dollars to One hundred and...</td>\n",
       "      <td>Honiara</td>\n",
       "      <td>Solomon Islands</td>\n",
       "      <td>Full-Time</td>\n",
       "      <td>25733</td>\n",
       "      <td>Maureen Walsh</td>\n",
       "      <td>460.454.1073</td>\n",
       "      <td>Marketing Analyst</td>\n",
       "      <td>Data Analyst</td>\n",
       "      <td>Analyze data sets, generate insights, and prov...</td>\n",
       "      <td>Tuition Reimbursement, Stock Options or Equity...</td>\n",
       "      <td>Data analysis tools example SQL, Python Data v...</td>\n",
       "      <td>Analyze marketing data to measure campaign per...</td>\n",
       "      <td>Harley-Davidson, Inc.</td>\n",
       "      <td>Automotive/Motorcycles</td>\n",
       "      <td>Automotive</td>\n",
       "      <td>https://www.harley-davidson.com/</td>\n",
       "    </tr>\n",
       "  </tbody>\n",
       "</table>\n",
       "</div>"
      ],
      "text/plain": [
       "    index            Experience                       Qualifications  \\\n",
       "0  910174  five to eleven years  Bachelor of Business Administration   \n",
       "\n",
       "                                        Salary Range location  \\\n",
       "0  Fifty-nine thousand dollars to One hundred and...  Honiara   \n",
       "\n",
       "           Country  Work Type  Company Size Contact Person       Contact  \\\n",
       "0  Solomon Islands  Full-Time         25733  Maureen Walsh  460.454.1073   \n",
       "\n",
       "           Job Title          Role  \\\n",
       "0  Marketing Analyst  Data Analyst   \n",
       "\n",
       "                                     Job Description  \\\n",
       "0  Analyze data sets, generate insights, and prov...   \n",
       "\n",
       "                                            Benefits  \\\n",
       "0  Tuition Reimbursement, Stock Options or Equity...   \n",
       "\n",
       "                                              skills  \\\n",
       "0  Data analysis tools example SQL, Python Data v...   \n",
       "\n",
       "                                    Responsibilities                Company  \\\n",
       "0  Analyze marketing data to measure campaign per...  Harley-Davidson, Inc.   \n",
       "\n",
       "                   Sector    Industry                           Website  \n",
       "0  Automotive/Motorcycles  Automotive  https://www.harley-davidson.com/  "
      ]
     },
     "execution_count": 60,
     "metadata": {},
     "output_type": "execute_result"
    }
   ],
   "source": [
    "df.head(1)"
   ]
  },
  {
   "cell_type": "code",
   "execution_count": 61,
   "id": "09ed2632",
   "metadata": {},
   "outputs": [],
   "source": [
    "#transformation of Industry col"
   ]
  },
  {
   "cell_type": "code",
   "execution_count": 62,
   "id": "926b88fd",
   "metadata": {},
   "outputs": [],
   "source": [
    "# Check for 'None' or empty values in 'Sector' column and replace with 'unknown'\n",
    "df['Sector'].fillna('unknown', inplace=True)\n",
    "df['Sector'] = df['Sector'].replace('', 'unknown')\n"
   ]
  },
  {
   "cell_type": "code",
   "execution_count": 63,
   "id": "e1833b04",
   "metadata": {},
   "outputs": [],
   "source": [
    "# # Function to clean the 'Industry' column\n",
    "def clean_industry(industry):\n",
    "    # Replace \":\" with \"in\"\n",
    "    industry = re.sub(r':', ' in ', industry)\n",
    "    \n",
    "    # Remove text within parentheses\n",
    "    industry = re.sub(r'\\([^)]*\\)', '', industry)\n",
    "    \n",
    "    # Replace \"&\" with \"and\"\n",
    "    industry = re.sub(r'&', ' and ', industry)\n",
    "    \n",
    "    # Replace \"/\" with \"or\"\n",
    "    industry = re.sub(r'/', ' or ', industry)\n",
    "    \n",
    "    # Replace \"-\" with \"based on\" if not surrounded by alphabets\n",
    "    industry = re.sub(r'(?<![a-zA-Z])-(?![a-zA-Z])', ' based on ', industry)\n",
    "    \n",
    "    return industry.strip()\n",
    "\n",
    "\n",
    "# Clean the 'Industry' column\n",
    "df['Sector'] = df['Sector'].apply(clean_industry)\n"
   ]
  },
  {
   "cell_type": "code",
   "execution_count": 64,
   "id": "5afe20d2",
   "metadata": {},
   "outputs": [
    {
     "data": {
      "text/plain": [
       "'Communication Services'"
      ]
     },
     "execution_count": 64,
     "metadata": {},
     "output_type": "execute_result"
    }
   ],
   "source": [
    "df[\"Sector\"][2]"
   ]
  },
  {
   "cell_type": "code",
   "execution_count": 65,
   "id": "451881f7",
   "metadata": {},
   "outputs": [],
   "source": [
    "#transformation of Company col"
   ]
  },
  {
   "cell_type": "code",
   "execution_count": 66,
   "id": "e2c8b560",
   "metadata": {},
   "outputs": [],
   "source": [
    "# Check for 'None' or empty values in 'Sector' column and replace with 'unknown'\n",
    "df['Company'].fillna('unknown', inplace=True)\n",
    "df['Company'] = df['Company'].replace('', 'unknown')\n"
   ]
  },
  {
   "cell_type": "code",
   "execution_count": 67,
   "id": "79aba5ce",
   "metadata": {},
   "outputs": [],
   "source": [
    "# Check for 'None' or empty values in 'Sector' column and replace with 'unknown'\n",
    "df['Website'].fillna('unknown', inplace=True)\n",
    "df['Website'] = df['Website'].replace('', 'unknown')\n"
   ]
  },
  {
   "cell_type": "code",
   "execution_count": 68,
   "id": "6310bad5",
   "metadata": {},
   "outputs": [],
   "source": [
    "#Cosmetic data cleaning steps based on Tableau"
   ]
  },
  {
   "cell_type": "code",
   "execution_count": 69,
   "id": "755b68d7",
   "metadata": {},
   "outputs": [],
   "source": [
    "# Check for numerical characters in 'Country' column and drop rows\n",
    "numeric_country_indices = df[df['Country'].str.contains(r'\\d', regex=True)].index\n",
    "df.drop(numeric_country_indices, inplace=True)\n",
    "\n",
    "# Check for numerical characters in 'Location' column and drop rows\n",
    "numeric_location_indices = df[df['location'].str.contains(r'\\d', regex=True)].index\n",
    "df.drop(numeric_location_indices, inplace=True)\n",
    "\n",
    "df = df[df['Sector'] != 'unknown']\n"
   ]
  },
  {
   "cell_type": "code",
   "execution_count": null,
   "id": "d5f8ae02",
   "metadata": {},
   "outputs": [],
   "source": []
  },
  {
   "cell_type": "code",
   "execution_count": 70,
   "id": "8988ed6a",
   "metadata": {},
   "outputs": [],
   "source": [
    "df=df.reset_index()\n",
    "df.drop(columns=['index'], inplace=True)"
   ]
  },
  {
   "cell_type": "code",
   "execution_count": 71,
   "id": "b9888855",
   "metadata": {},
   "outputs": [],
   "source": [
    "import pandas as pd"
   ]
  },
  {
   "cell_type": "code",
   "execution_count": 72,
   "id": "77f6b8f5",
   "metadata": {},
   "outputs": [],
   "source": [
    "# df=df.to_csv(\"cleaned_job_descp.csv\")"
   ]
  },
  {
   "cell_type": "code",
   "execution_count": 73,
   "id": "13f113b0",
   "metadata": {},
   "outputs": [],
   "source": [
    "# df=pd.read_csv(\"cleaned_job_descp.csv\")"
   ]
  },
  {
   "cell_type": "code",
   "execution_count": 74,
   "id": "0acff69f",
   "metadata": {},
   "outputs": [],
   "source": [
    "df = df.sample(frac=1, random_state=100)  # Shuffle the DataFrame (frac=1 shuffles all rows)\n",
    "# df = df.tail(1000)  # Select the first 1000 rows\n"
   ]
  },
  {
   "cell_type": "code",
   "execution_count": null,
   "id": "2b8f2719",
   "metadata": {},
   "outputs": [],
   "source": []
  },
  {
   "cell_type": "code",
   "execution_count": 75,
   "id": "be2252af",
   "metadata": {},
   "outputs": [],
   "source": [
    "df=df.drop(columns=['Contact','Contact Person'])"
   ]
  },
  {
   "cell_type": "code",
   "execution_count": 112,
   "id": "70d43023",
   "metadata": {},
   "outputs": [
    {
     "data": {
      "text/html": [
       "<div>\n",
       "<style scoped>\n",
       "    .dataframe tbody tr th:only-of-type {\n",
       "        vertical-align: middle;\n",
       "    }\n",
       "\n",
       "    .dataframe tbody tr th {\n",
       "        vertical-align: top;\n",
       "    }\n",
       "\n",
       "    .dataframe thead th {\n",
       "        text-align: right;\n",
       "    }\n",
       "</style>\n",
       "<table border=\"1\" class=\"dataframe\">\n",
       "  <thead>\n",
       "    <tr style=\"text-align: right;\">\n",
       "      <th></th>\n",
       "      <th>level_0</th>\n",
       "      <th>Experience</th>\n",
       "      <th>Qualifications</th>\n",
       "      <th>Salary Range</th>\n",
       "      <th>location</th>\n",
       "      <th>Country</th>\n",
       "      <th>Work Type</th>\n",
       "      <th>Company Size</th>\n",
       "      <th>Job Title</th>\n",
       "      <th>Role</th>\n",
       "      <th>Job Description</th>\n",
       "      <th>Benefits</th>\n",
       "      <th>skills</th>\n",
       "      <th>Responsibilities</th>\n",
       "      <th>Company</th>\n",
       "      <th>Sector</th>\n",
       "      <th>Industry</th>\n",
       "      <th>Website</th>\n",
       "      <th>jd_bfr_tran</th>\n",
       "    </tr>\n",
       "  </thead>\n",
       "  <tbody>\n",
       "    <tr>\n",
       "      <th>47013</th>\n",
       "      <td>47262</td>\n",
       "      <td>four to eleven years</td>\n",
       "      <td>Doctor of Philosophy</td>\n",
       "      <td>Sixty-three thousand dollars to Ninety-two tho...</td>\n",
       "      <td>AsunciÃ³n</td>\n",
       "      <td>Paraguay</td>\n",
       "      <td>Contract</td>\n",
       "      <td>111636</td>\n",
       "      <td>UX UI Designer</td>\n",
       "      <td>User Interface Designer</td>\n",
       "      <td>User Interface Designers focus on the visual a...</td>\n",
       "      <td>Tuition Reimbursement, Stock Options or Equity...</td>\n",
       "      <td>UI design principles and best practices Graphi...</td>\n",
       "      <td>Create visually appealing user interfaces  tha...</td>\n",
       "      <td>Celgene Corporation</td>\n",
       "      <td>Pharmaceuticals</td>\n",
       "      <td>Pharmaceuticals</td>\n",
       "      <td>https://www.celgene.com/</td>\n",
       "      <td>Job Brief:\\nWe are seeking a skilled UX UI Des...</td>\n",
       "    </tr>\n",
       "  </tbody>\n",
       "</table>\n",
       "</div>"
      ],
      "text/plain": [
       "       level_0            Experience        Qualifications  \\\n",
       "47013    47262  four to eleven years  Doctor of Philosophy   \n",
       "\n",
       "                                            Salary Range   location   Country  \\\n",
       "47013  Sixty-three thousand dollars to Ninety-two tho...  AsunciÃ³n  Paraguay   \n",
       "\n",
       "      Work Type  Company Size       Job Title                     Role  \\\n",
       "47013  Contract        111636  UX UI Designer  User Interface Designer   \n",
       "\n",
       "                                         Job Description  \\\n",
       "47013  User Interface Designers focus on the visual a...   \n",
       "\n",
       "                                                Benefits  \\\n",
       "47013  Tuition Reimbursement, Stock Options or Equity...   \n",
       "\n",
       "                                                  skills  \\\n",
       "47013  UI design principles and best practices Graphi...   \n",
       "\n",
       "                                        Responsibilities              Company  \\\n",
       "47013  Create visually appealing user interfaces  tha...  Celgene Corporation   \n",
       "\n",
       "                Sector         Industry                   Website  \\\n",
       "47013  Pharmaceuticals  Pharmaceuticals  https://www.celgene.com/   \n",
       "\n",
       "                                             jd_bfr_tran  \n",
       "47013  Job Brief:\\nWe are seeking a skilled UX UI Des...  "
      ]
     },
     "execution_count": 112,
     "metadata": {},
     "output_type": "execute_result"
    }
   ],
   "source": [
    "df.head(1)"
   ]
  },
  {
   "cell_type": "code",
   "execution_count": 77,
   "id": "c1a0a6b0",
   "metadata": {},
   "outputs": [
    {
     "data": {
      "text/plain": [
       "(119390, 18)"
      ]
     },
     "execution_count": 77,
     "metadata": {},
     "output_type": "execute_result"
    }
   ],
   "source": [
    "df.shape"
   ]
  },
  {
   "cell_type": "code",
   "execution_count": 92,
   "id": "a4cb67e1",
   "metadata": {},
   "outputs": [
    {
     "data": {
      "text/plain": [
       "'Social Media Analysts analyze social media data and metrics to provide insights and recommendations for improving social media strategies. They track performance, identify trends, and support datadriven decisionmaking.'"
      ]
     },
     "execution_count": 92,
     "metadata": {},
     "output_type": "execute_result"
    }
   ],
   "source": [
    "df['Job Description'][53532]"
   ]
  },
  {
   "cell_type": "markdown",
   "id": "0d7ac518",
   "metadata": {},
   "source": [
    "# Creating a user input output format"
   ]
  },
  {
   "cell_type": "code",
   "execution_count": 144,
   "id": "6c8c4384",
   "metadata": {},
   "outputs": [],
   "source": [
    "def generate_job_description(row):\n",
    "    jd = (\n",
    "        f\"Job Brief:\\n\"\n",
    "        f\"We are seeking a skilled {row['Job Title']} to join our team. The ideal candidate will bring {row['Experience']} of demonstrated expertise within the {row['Industry']} industry.\\n\\n\"\n",
    "        f\"Key Responsibilities:\\n\"\n",
    "        f\"{row['Responsibilities']}\\n\"\n",
    "        f\"{row['Job Description']}\\n\\n\"\n",
    "        f\"Requirements:\\n\"\n",
    "        f\"The preferred candidate should hold a {row['Qualifications']} degree or an equivalent educational qualification. Additionally, a robust command of the essential skills in {row['skills']} is highly valued.\\n\\n\"\n",
    "    )\n",
    "    return jd"
   ]
  },
  {
   "cell_type": "code",
   "execution_count": 145,
   "id": "710eed35",
   "metadata": {},
   "outputs": [],
   "source": [
    "df['jd_prompt'] = df.apply(generate_job_description, axis=1)\n"
   ]
  },
  {
   "cell_type": "code",
   "execution_count": 146,
   "id": "825c0689",
   "metadata": {},
   "outputs": [
    {
     "name": "stdout",
     "output_type": "stream",
     "text": [
      "Job Brief:\n",
      "We are seeking a skilled Database Developer to join our team. The ideal candidate will bring three to thirteen years of demonstrated expertise within the Computer Software industry.\n",
      "\n",
      "Key Responsibilities:\n",
      "Design, develop, and maintain SQL databases, ensuring data integrity and performance. Write complex SQL queries and stored procedures. Troubleshoot database issues and optimize queries.\n",
      "SQL Database Developers design, implement, and maintain relational databases using SQL (Structured Query Language). They write queries, optimize database performance, and ensure data integrity and security.\n",
      "\n",
      "Requirements:\n",
      "The preferred candidate should hold a Bachelor of Computer Applications degree or an equivalent educational qualification. Additionally, a robust command of the essential skills in SQL Structured Query Language Database design Query optimization Data modeling Database maintenance Problem-solving skills is highly valued.\n",
      "\n",
      "\n"
     ]
    }
   ],
   "source": [
    "print(df['jd_prompt'][98765])"
   ]
  },
  {
   "cell_type": "code",
   "execution_count": 385,
   "id": "3489c50f",
   "metadata": {},
   "outputs": [],
   "source": [
    "# Job Title\n",
    "# Experience\n",
    "# Industry\n",
    "# Sector\n",
    "# Role\n",
    "# Responsibilities\n",
    "# Qualifications\n",
    "# skills"
   ]
  },
  {
   "cell_type": "code",
   "execution_count": 147,
   "id": "4a0d8e32",
   "metadata": {},
   "outputs": [],
   "source": [
    "def generate_user_prompt(row):\n",
    "    user_prompt = (\n",
    "        f\"Generate a job description for a {row['Job Title']}.\"\n",
    "        f\"The candidate should have skills in {row['skills']}. \"\n",
    "        f\"The job description should include the industry of the company as ({row['Industry']}).\"\n",
    "    )\n",
    "    return user_prompt\n"
   ]
  },
  {
   "cell_type": "code",
   "execution_count": 387,
   "id": "e4ceade5",
   "metadata": {},
   "outputs": [],
   "source": [
    "# Role\n",
    "# skills\n",
    "# Industry\n"
   ]
  },
  {
   "cell_type": "code",
   "execution_count": 148,
   "id": "87418bd3",
   "metadata": {},
   "outputs": [],
   "source": [
    "df['user_prompt'] = df.apply(generate_user_prompt, axis=1)\n",
    " "
   ]
  },
  {
   "cell_type": "code",
   "execution_count": 149,
   "id": "d8c348b6",
   "metadata": {},
   "outputs": [
    {
     "ename": "ValueError",
     "evalue": "cannot insert level_0, already exists",
     "output_type": "error",
     "traceback": [
      "\u001b[0;31m---------------------------------------------------------------------------\u001b[0m",
      "\u001b[0;31mValueError\u001b[0m                                Traceback (most recent call last)",
      "Cell \u001b[0;32mIn[149], line 1\u001b[0m\n\u001b[0;32m----> 1\u001b[0m df\u001b[38;5;241m=\u001b[39m\u001b[43mdf\u001b[49m\u001b[38;5;241;43m.\u001b[39;49m\u001b[43mreset_index\u001b[49m\u001b[43m(\u001b[49m\u001b[43m)\u001b[49m\n",
      "File \u001b[0;32m~/anaconda3/lib/python3.10/site-packages/pandas/util/_decorators.py:311\u001b[0m, in \u001b[0;36mdeprecate_nonkeyword_arguments.<locals>.decorate.<locals>.wrapper\u001b[0;34m(*args, **kwargs)\u001b[0m\n\u001b[1;32m    305\u001b[0m \u001b[38;5;28;01mif\u001b[39;00m \u001b[38;5;28mlen\u001b[39m(args) \u001b[38;5;241m>\u001b[39m num_allow_args:\n\u001b[1;32m    306\u001b[0m     warnings\u001b[38;5;241m.\u001b[39mwarn(\n\u001b[1;32m    307\u001b[0m         msg\u001b[38;5;241m.\u001b[39mformat(arguments\u001b[38;5;241m=\u001b[39marguments),\n\u001b[1;32m    308\u001b[0m         \u001b[38;5;167;01mFutureWarning\u001b[39;00m,\n\u001b[1;32m    309\u001b[0m         stacklevel\u001b[38;5;241m=\u001b[39mstacklevel,\n\u001b[1;32m    310\u001b[0m     )\n\u001b[0;32m--> 311\u001b[0m \u001b[38;5;28;01mreturn\u001b[39;00m \u001b[43mfunc\u001b[49m\u001b[43m(\u001b[49m\u001b[38;5;241;43m*\u001b[39;49m\u001b[43margs\u001b[49m\u001b[43m,\u001b[49m\u001b[43m \u001b[49m\u001b[38;5;241;43m*\u001b[39;49m\u001b[38;5;241;43m*\u001b[39;49m\u001b[43mkwargs\u001b[49m\u001b[43m)\u001b[49m\n",
      "File \u001b[0;32m~/anaconda3/lib/python3.10/site-packages/pandas/core/frame.py:5799\u001b[0m, in \u001b[0;36mDataFrame.reset_index\u001b[0;34m(self, level, drop, inplace, col_level, col_fill)\u001b[0m\n\u001b[1;32m   5793\u001b[0m         \u001b[38;5;28;01mif\u001b[39;00m lab \u001b[38;5;129;01mis\u001b[39;00m \u001b[38;5;129;01mnot\u001b[39;00m \u001b[38;5;28;01mNone\u001b[39;00m:\n\u001b[1;32m   5794\u001b[0m             \u001b[38;5;66;03m# if we have the codes, extract the values with a mask\u001b[39;00m\n\u001b[1;32m   5795\u001b[0m             level_values \u001b[38;5;241m=\u001b[39m algorithms\u001b[38;5;241m.\u001b[39mtake(\n\u001b[1;32m   5796\u001b[0m                 level_values, lab, allow_fill\u001b[38;5;241m=\u001b[39m\u001b[38;5;28;01mTrue\u001b[39;00m, fill_value\u001b[38;5;241m=\u001b[39mlev\u001b[38;5;241m.\u001b[39m_na_value\n\u001b[1;32m   5797\u001b[0m             )\n\u001b[0;32m-> 5799\u001b[0m         \u001b[43mnew_obj\u001b[49m\u001b[38;5;241;43m.\u001b[39;49m\u001b[43minsert\u001b[49m\u001b[43m(\u001b[49m\u001b[38;5;241;43m0\u001b[39;49m\u001b[43m,\u001b[49m\u001b[43m \u001b[49m\u001b[43mname\u001b[49m\u001b[43m,\u001b[49m\u001b[43m \u001b[49m\u001b[43mlevel_values\u001b[49m\u001b[43m)\u001b[49m\n\u001b[1;32m   5801\u001b[0m new_obj\u001b[38;5;241m.\u001b[39mindex \u001b[38;5;241m=\u001b[39m new_index\n\u001b[1;32m   5802\u001b[0m \u001b[38;5;28;01mif\u001b[39;00m \u001b[38;5;129;01mnot\u001b[39;00m inplace:\n",
      "File \u001b[0;32m~/anaconda3/lib/python3.10/site-packages/pandas/core/frame.py:4414\u001b[0m, in \u001b[0;36mDataFrame.insert\u001b[0;34m(self, loc, column, value, allow_duplicates)\u001b[0m\n\u001b[1;32m   4408\u001b[0m     \u001b[38;5;28;01mraise\u001b[39;00m \u001b[38;5;167;01mValueError\u001b[39;00m(\n\u001b[1;32m   4409\u001b[0m         \u001b[38;5;124m\"\u001b[39m\u001b[38;5;124mCannot specify \u001b[39m\u001b[38;5;124m'\u001b[39m\u001b[38;5;124mallow_duplicates=True\u001b[39m\u001b[38;5;124m'\u001b[39m\u001b[38;5;124m when \u001b[39m\u001b[38;5;124m\"\u001b[39m\n\u001b[1;32m   4410\u001b[0m         \u001b[38;5;124m\"\u001b[39m\u001b[38;5;124m'\u001b[39m\u001b[38;5;124mself.flags.allows_duplicate_labels\u001b[39m\u001b[38;5;124m'\u001b[39m\u001b[38;5;124m is False.\u001b[39m\u001b[38;5;124m\"\u001b[39m\n\u001b[1;32m   4411\u001b[0m     )\n\u001b[1;32m   4412\u001b[0m \u001b[38;5;28;01mif\u001b[39;00m \u001b[38;5;129;01mnot\u001b[39;00m allow_duplicates \u001b[38;5;129;01mand\u001b[39;00m column \u001b[38;5;129;01min\u001b[39;00m \u001b[38;5;28mself\u001b[39m\u001b[38;5;241m.\u001b[39mcolumns:\n\u001b[1;32m   4413\u001b[0m     \u001b[38;5;66;03m# Should this be a different kind of error??\u001b[39;00m\n\u001b[0;32m-> 4414\u001b[0m     \u001b[38;5;28;01mraise\u001b[39;00m \u001b[38;5;167;01mValueError\u001b[39;00m(\u001b[38;5;124mf\u001b[39m\u001b[38;5;124m\"\u001b[39m\u001b[38;5;124mcannot insert \u001b[39m\u001b[38;5;132;01m{\u001b[39;00mcolumn\u001b[38;5;132;01m}\u001b[39;00m\u001b[38;5;124m, already exists\u001b[39m\u001b[38;5;124m\"\u001b[39m)\n\u001b[1;32m   4415\u001b[0m \u001b[38;5;28;01mif\u001b[39;00m \u001b[38;5;129;01mnot\u001b[39;00m \u001b[38;5;28misinstance\u001b[39m(loc, \u001b[38;5;28mint\u001b[39m):\n\u001b[1;32m   4416\u001b[0m     \u001b[38;5;28;01mraise\u001b[39;00m \u001b[38;5;167;01mTypeError\u001b[39;00m(\u001b[38;5;124m\"\u001b[39m\u001b[38;5;124mloc must be int\u001b[39m\u001b[38;5;124m\"\u001b[39m)\n",
      "\u001b[0;31mValueError\u001b[0m: cannot insert level_0, already exists"
     ]
    }
   ],
   "source": [
    "df=df.reset_index()"
   ]
  },
  {
   "cell_type": "code",
   "execution_count": null,
   "id": "bde27fd6",
   "metadata": {},
   "outputs": [],
   "source": []
  },
  {
   "cell_type": "code",
   "execution_count": 138,
   "id": "76a7d198",
   "metadata": {},
   "outputs": [
    {
     "name": "stdout",
     "output_type": "stream",
     "text": [
      "Generate a job description for a UX UI Designer.The candidate should have skills in User-centered design principles UX/UI design tools example Sketch, Adobe XD Wireframing and prototyping Usability testing and user research Information architecture and user flows. The job description should include the industry of the company as (Energy  based on  Oil  and  Gas Exploration  and  Production).\n"
     ]
    }
   ],
   "source": [
    "print(df['user_prompt'][7])"
   ]
  },
  {
   "cell_type": "code",
   "execution_count": 139,
   "id": "026ec0a6",
   "metadata": {},
   "outputs": [
    {
     "name": "stdout",
     "output_type": "stream",
     "text": [
      "Job Brief:\n",
      "We are seeking a skilled UX UI Designer to join our team. The ideal candidate will bring two to eight years of demonstrated expertise within the Energy  based on  Oil  and  Gas Exploration  and  Production industry.\n",
      "\n",
      "Key Responsibilities:\n",
      "Design and improve user experiences  by creating intuitive and userfriendly interfaces for websites and applications. Conduct user research and usability testing. Collaborate with stakeholders to gather and incorporate feedback.\n",
      "User Experience Designers create intuitive and userfriendly digital interfaces. They conduct user research, design prototypes, and work to enhance the overall user experience of websites and applications.\n",
      "\n",
      "Requirements:\n",
      "The preferred candidate should hold a Bachelor of Computer Applications degree or an equivalent educational qualification. Additionally, a robust command of the essential skills in User-centered design principles UX/UI design tools example Sketch, Adobe XD Wireframing and prototyping Usability testing and user research Information architecture and user flows is highly valued.\n",
      "\n",
      "\n"
     ]
    }
   ],
   "source": [
    "print(df['jd_prompt'][7]) "
   ]
  },
  {
   "cell_type": "code",
   "execution_count": null,
   "id": "5ab666e8",
   "metadata": {},
   "outputs": [],
   "source": []
  },
  {
   "cell_type": "code",
   "execution_count": null,
   "id": "bb97447d",
   "metadata": {},
   "outputs": [],
   "source": []
  },
  {
   "cell_type": "code",
   "execution_count": null,
   "id": "ee85d121",
   "metadata": {},
   "outputs": [],
   "source": []
  },
  {
   "cell_type": "code",
   "execution_count": null,
   "id": "f529ece8",
   "metadata": {},
   "outputs": [],
   "source": []
  },
  {
   "cell_type": "code",
   "execution_count": null,
   "id": "6054761c",
   "metadata": {},
   "outputs": [],
   "source": []
  },
  {
   "cell_type": "code",
   "execution_count": 394,
   "id": "5f444ce3",
   "metadata": {},
   "outputs": [
    {
     "data": {
      "text/plain": [
       "(119463, 21)"
      ]
     },
     "execution_count": 394,
     "metadata": {},
     "output_type": "execute_result"
    }
   ],
   "source": [
    "df.shape"
   ]
  },
  {
   "cell_type": "code",
   "execution_count": 128,
   "id": "588907cc",
   "metadata": {},
   "outputs": [
    {
     "data": {
      "text/html": [
       "<div>\n",
       "<style scoped>\n",
       "    .dataframe tbody tr th:only-of-type {\n",
       "        vertical-align: middle;\n",
       "    }\n",
       "\n",
       "    .dataframe tbody tr th {\n",
       "        vertical-align: top;\n",
       "    }\n",
       "\n",
       "    .dataframe thead th {\n",
       "        text-align: right;\n",
       "    }\n",
       "</style>\n",
       "<table border=\"1\" class=\"dataframe\">\n",
       "  <thead>\n",
       "    <tr style=\"text-align: right;\">\n",
       "      <th></th>\n",
       "      <th>jd_bfr_tran</th>\n",
       "      <th>user_prompt</th>\n",
       "      <th>skills</th>\n",
       "    </tr>\n",
       "  </thead>\n",
       "  <tbody>\n",
       "    <tr>\n",
       "      <th>0</th>\n",
       "      <td>Job Brief:\\nWe are seeking a skilled Software ...</td>\n",
       "      <td>Generate a job description for a Software Engi...</td>\n",
       "      <td>Proficiency in one or more backend programming...</td>\n",
       "    </tr>\n",
       "    <tr>\n",
       "      <th>1</th>\n",
       "      <td>Job Brief:\\nWe are seeking a skilled Network T...</td>\n",
       "      <td>Generate a job description for a Network Techn...</td>\n",
       "      <td>Network security Cybersecurity Intrusion detec...</td>\n",
       "    </tr>\n",
       "    <tr>\n",
       "      <th>2</th>\n",
       "      <td>Job Brief:\\nWe are seeking a skilled Social Me...</td>\n",
       "      <td>Generate a job description for a Social Media ...</td>\n",
       "      <td>Social media analytics tools example Google An...</td>\n",
       "    </tr>\n",
       "    <tr>\n",
       "      <th>3</th>\n",
       "      <td>Job Brief:\\nWe are seeking a skilled Data Scie...</td>\n",
       "      <td>Generate a job description for a Data Scientis...</td>\n",
       "      <td>Machine learning algorithms Python programming...</td>\n",
       "    </tr>\n",
       "    <tr>\n",
       "      <th>4</th>\n",
       "      <td>Job Brief:\\nWe are seeking a skilled Web Devel...</td>\n",
       "      <td>Generate a job description for a Web Developer...</td>\n",
       "      <td>Frontend and backend development Database inte...</td>\n",
       "    </tr>\n",
       "    <tr>\n",
       "      <th>...</th>\n",
       "      <td>...</td>\n",
       "      <td>...</td>\n",
       "      <td>...</td>\n",
       "    </tr>\n",
       "    <tr>\n",
       "      <th>119385</th>\n",
       "      <td>Job Brief:\\nWe are seeking a skilled Software ...</td>\n",
       "      <td>Generate a job description for a Software Engi...</td>\n",
       "      <td>Automation and scripting example Python, Bash ...</td>\n",
       "    </tr>\n",
       "    <tr>\n",
       "      <th>119386</th>\n",
       "      <td>Job Brief:\\nWe are seeking a skilled Network E...</td>\n",
       "      <td>Generate a job description for a Network Engin...</td>\n",
       "      <td>Network management Troubleshooting Network sec...</td>\n",
       "    </tr>\n",
       "    <tr>\n",
       "      <th>119387</th>\n",
       "      <td>Job Brief:\\nWe are seeking a skilled Systems A...</td>\n",
       "      <td>Generate a job description for a Systems Admin...</td>\n",
       "      <td>Technical troubleshooting Hardware and softwar...</td>\n",
       "    </tr>\n",
       "    <tr>\n",
       "      <th>119388</th>\n",
       "      <td>Job Brief:\\nWe are seeking a skilled Aerospace...</td>\n",
       "      <td>Generate a job description for a Aerospace Eng...</td>\n",
       "      <td>Systems engineering System architecture Integr...</td>\n",
       "    </tr>\n",
       "    <tr>\n",
       "      <th>119389</th>\n",
       "      <td>Job Brief:\\nWe are seeking a skilled Software ...</td>\n",
       "      <td>Generate a job description for a Software Engi...</td>\n",
       "      <td>Proficiency in one or more backend programming...</td>\n",
       "    </tr>\n",
       "  </tbody>\n",
       "</table>\n",
       "<p>119390 rows × 3 columns</p>\n",
       "</div>"
      ],
      "text/plain": [
       "                                              jd_bfr_tran  \\\n",
       "0       Job Brief:\\nWe are seeking a skilled Software ...   \n",
       "1       Job Brief:\\nWe are seeking a skilled Network T...   \n",
       "2       Job Brief:\\nWe are seeking a skilled Social Me...   \n",
       "3       Job Brief:\\nWe are seeking a skilled Data Scie...   \n",
       "4       Job Brief:\\nWe are seeking a skilled Web Devel...   \n",
       "...                                                   ...   \n",
       "119385  Job Brief:\\nWe are seeking a skilled Software ...   \n",
       "119386  Job Brief:\\nWe are seeking a skilled Network E...   \n",
       "119387  Job Brief:\\nWe are seeking a skilled Systems A...   \n",
       "119388  Job Brief:\\nWe are seeking a skilled Aerospace...   \n",
       "119389  Job Brief:\\nWe are seeking a skilled Software ...   \n",
       "\n",
       "                                              user_prompt  \\\n",
       "0       Generate a job description for a Software Engi...   \n",
       "1       Generate a job description for a Network Techn...   \n",
       "2       Generate a job description for a Social Media ...   \n",
       "3       Generate a job description for a Data Scientis...   \n",
       "4       Generate a job description for a Web Developer...   \n",
       "...                                                   ...   \n",
       "119385  Generate a job description for a Software Engi...   \n",
       "119386  Generate a job description for a Network Engin...   \n",
       "119387  Generate a job description for a Systems Admin...   \n",
       "119388  Generate a job description for a Aerospace Eng...   \n",
       "119389  Generate a job description for a Software Engi...   \n",
       "\n",
       "                                                   skills  \n",
       "0       Proficiency in one or more backend programming...  \n",
       "1       Network security Cybersecurity Intrusion detec...  \n",
       "2       Social media analytics tools example Google An...  \n",
       "3       Machine learning algorithms Python programming...  \n",
       "4       Frontend and backend development Database inte...  \n",
       "...                                                   ...  \n",
       "119385  Automation and scripting example Python, Bash ...  \n",
       "119386  Network management Troubleshooting Network sec...  \n",
       "119387  Technical troubleshooting Hardware and softwar...  \n",
       "119388  Systems engineering System architecture Integr...  \n",
       "119389  Proficiency in one or more backend programming...  \n",
       "\n",
       "[119390 rows x 3 columns]"
      ]
     },
     "execution_count": 128,
     "metadata": {},
     "output_type": "execute_result"
    }
   ],
   "source": [
    "df_dummy"
   ]
  },
  {
   "cell_type": "markdown",
   "id": "bf9488f7",
   "metadata": {},
   "source": [
    "# synthetic creation of dataset"
   ]
  },
  {
   "cell_type": "code",
   "execution_count": 152,
   "id": "ca2429ee",
   "metadata": {},
   "outputs": [],
   "source": [
    "df_dummy=df[['jd_prompt','user_prompt','skills']].copy()\n"
   ]
  },
  {
   "cell_type": "code",
   "execution_count": 154,
   "id": "bbbf08b1",
   "metadata": {},
   "outputs": [],
   "source": [
    "df_dummy = df_dummy.sample(frac=1, random_state=100) \n",
    "df_dummy=df_dummy.reset_index()\n",
    "df_dummy = df_dummy.drop(columns=['index'])\n",
    "# df_dummy = df_dummy.drop(columns=['level_0'])"
   ]
  },
  {
   "cell_type": "code",
   "execution_count": 155,
   "id": "15fb0635",
   "metadata": {},
   "outputs": [],
   "source": [
    "# Creating a new DataFrame 'df_dummy'\n",
    "# Selecting only 'jd_prompt' column\n",
    "instruct = \"Transform the jd_prompt into a job description,the skills and responsibilities mentioned in the jd_prompt should be present in the final generated job description.\"\n",
    "df_dummy['instruct'] = instruct\n",
    "# df_dummy = df_dummy.head(5000)  # Limiting to 200 rows (adjust as needed)\n",
    "\n",
    "# Saving the new DataFrame to a CSV file\n",
    "df_dummy.to_csv(\"jd_template_new.csv\", index=False)  # Set index=False to avoid saving row indices"
   ]
  },
  {
   "cell_type": "code",
   "execution_count": 144,
   "id": "0b2ecb11",
   "metadata": {},
   "outputs": [],
   "source": [
    "# df_dummy['jd_prompt'][5]"
   ]
  },
  {
   "cell_type": "code",
   "execution_count": 157,
   "id": "1bdf738d",
   "metadata": {},
   "outputs": [],
   "source": [
    "# duplicates = combined_df[df.duplicated()]\n",
    "\n",
    "# # Display duplicates, if any\n",
    "# if not duplicates.empty:\n",
    "#     print(\"Duplicate Rows:\")\n",
    "#     print(duplicates)\n",
    "# else:\n",
    "#     print(\"No duplicates found.\")"
   ]
  },
  {
   "cell_type": "code",
   "execution_count": 159,
   "id": "0a0951f4",
   "metadata": {},
   "outputs": [],
   "source": [
    "df_1=df_dummy[:10].copy()\n",
    "df_2=df_dummy[5000:10000].copy()\n",
    "df_3=df_dummy[10000:15000].copy()\n",
    "df_4=df_dummy[15000:20800].copy()"
   ]
  },
  {
   "cell_type": "code",
   "execution_count": 142,
   "id": "602406a5",
   "metadata": {},
   "outputs": [],
   "source": []
  },
  {
   "cell_type": "code",
   "execution_count": 160,
   "id": "16cdcc0f",
   "metadata": {},
   "outputs": [],
   "source": [
    "df_1.to_csv('split1.csv')\n",
    "# df_2.to_csv('aneeth.csv')\n",
    "# df_3.to_csv('rashmi.csv')\n",
    "# df_4.to_csv('arpita.csv')"
   ]
  },
  {
   "cell_type": "code",
   "execution_count": null,
   "id": "8a1eb9f4",
   "metadata": {},
   "outputs": [],
   "source": []
  },
  {
   "cell_type": "code",
   "execution_count": 407,
   "id": "c88e3ea5",
   "metadata": {},
   "outputs": [],
   "source": [
    "df1=pd.read_csv(\"jd_template.csv\")"
   ]
  },
  {
   "cell_type": "code",
   "execution_count": 405,
   "id": "873acf8d",
   "metadata": {},
   "outputs": [],
   "source": [
    "df1 = df1.head(5000)"
   ]
  },
  {
   "cell_type": "code",
   "execution_count": 406,
   "id": "35da0bd3",
   "metadata": {},
   "outputs": [],
   "source": [
    "df1.to_csv('aneeth_test.csv')"
   ]
  },
  {
   "cell_type": "code",
   "execution_count": 158,
   "id": "024f2652",
   "metadata": {},
   "outputs": [
    {
     "data": {
      "text/html": [
       "<div>\n",
       "<style scoped>\n",
       "    .dataframe tbody tr th:only-of-type {\n",
       "        vertical-align: middle;\n",
       "    }\n",
       "\n",
       "    .dataframe tbody tr th {\n",
       "        vertical-align: top;\n",
       "    }\n",
       "\n",
       "    .dataframe thead th {\n",
       "        text-align: right;\n",
       "    }\n",
       "</style>\n",
       "<table border=\"1\" class=\"dataframe\">\n",
       "  <thead>\n",
       "    <tr style=\"text-align: right;\">\n",
       "      <th></th>\n",
       "      <th>jd_prompt</th>\n",
       "      <th>user_prompt</th>\n",
       "      <th>skills</th>\n",
       "      <th>instruct</th>\n",
       "    </tr>\n",
       "  </thead>\n",
       "  <tbody>\n",
       "    <tr>\n",
       "      <th>0</th>\n",
       "      <td>Job Brief:\\nWe are seeking a skilled Social Me...</td>\n",
       "      <td>Generate a job description for a Social Media ...</td>\n",
       "      <td>Social media analytics tools example Google An...</td>\n",
       "      <td>Transform the jd_prompt into a job description...</td>\n",
       "    </tr>\n",
       "    <tr>\n",
       "      <th>1</th>\n",
       "      <td>Job Brief:\\nWe are seeking a skilled Software ...</td>\n",
       "      <td>Generate a job description for a Software Engi...</td>\n",
       "      <td>Automation and scripting example Python, Bash ...</td>\n",
       "      <td>Transform the jd_prompt into a job description...</td>\n",
       "    </tr>\n",
       "    <tr>\n",
       "      <th>2</th>\n",
       "      <td>Job Brief:\\nWe are seeking a skilled Systems A...</td>\n",
       "      <td>Generate a job description for a Systems Admin...</td>\n",
       "      <td>Technical troubleshooting Hardware and softwar...</td>\n",
       "      <td>Transform the jd_prompt into a job description...</td>\n",
       "    </tr>\n",
       "    <tr>\n",
       "      <th>3</th>\n",
       "      <td>Job Brief:\\nWe are seeking a skilled Java Deve...</td>\n",
       "      <td>Generate a job description for a Java Develope...</td>\n",
       "      <td>Web application development Java web framework...</td>\n",
       "      <td>Transform the jd_prompt into a job description...</td>\n",
       "    </tr>\n",
       "    <tr>\n",
       "      <th>4</th>\n",
       "      <td>Job Brief:\\nWe are seeking a skilled Network A...</td>\n",
       "      <td>Generate a job description for a Network Admin...</td>\n",
       "      <td>System administration Server maintenance Activ...</td>\n",
       "      <td>Transform the jd_prompt into a job description...</td>\n",
       "    </tr>\n",
       "    <tr>\n",
       "      <th>...</th>\n",
       "      <td>...</td>\n",
       "      <td>...</td>\n",
       "      <td>...</td>\n",
       "      <td>...</td>\n",
       "    </tr>\n",
       "    <tr>\n",
       "      <th>4995</th>\n",
       "      <td>Job Brief:\\nWe are seeking a skilled Web Devel...</td>\n",
       "      <td>Generate a job description for a Web Developer...</td>\n",
       "      <td>Frontend and backend development Database inte...</td>\n",
       "      <td>Transform the jd_prompt into a job description...</td>\n",
       "    </tr>\n",
       "    <tr>\n",
       "      <th>4996</th>\n",
       "      <td>Job Brief:\\nWe are seeking a skilled Systems A...</td>\n",
       "      <td>Generate a job description for a Systems Admin...</td>\n",
       "      <td>Database management systems example MySQL, Ora...</td>\n",
       "      <td>Transform the jd_prompt into a job description...</td>\n",
       "    </tr>\n",
       "    <tr>\n",
       "      <th>4997</th>\n",
       "      <td>Job Brief:\\nWe are seeking a skilled Systems A...</td>\n",
       "      <td>Generate a job description for a Systems Admin...</td>\n",
       "      <td>Technical troubleshooting Hardware and softwar...</td>\n",
       "      <td>Transform the jd_prompt into a job description...</td>\n",
       "    </tr>\n",
       "    <tr>\n",
       "      <th>4998</th>\n",
       "      <td>Job Brief:\\nWe are seeking a skilled Network T...</td>\n",
       "      <td>Generate a job description for a Network Techn...</td>\n",
       "      <td>Network security Cybersecurity Intrusion detec...</td>\n",
       "      <td>Transform the jd_prompt into a job description...</td>\n",
       "    </tr>\n",
       "    <tr>\n",
       "      <th>4999</th>\n",
       "      <td>Job Brief:\\nWe are seeking a skilled Marketing...</td>\n",
       "      <td>Generate a job description for a Marketing Ana...</td>\n",
       "      <td>Data analysis tools example SQL, Python Data v...</td>\n",
       "      <td>Transform the jd_prompt into a job description...</td>\n",
       "    </tr>\n",
       "  </tbody>\n",
       "</table>\n",
       "<p>5000 rows × 4 columns</p>\n",
       "</div>"
      ],
      "text/plain": [
       "                                              jd_prompt  \\\n",
       "0     Job Brief:\\nWe are seeking a skilled Social Me...   \n",
       "1     Job Brief:\\nWe are seeking a skilled Software ...   \n",
       "2     Job Brief:\\nWe are seeking a skilled Systems A...   \n",
       "3     Job Brief:\\nWe are seeking a skilled Java Deve...   \n",
       "4     Job Brief:\\nWe are seeking a skilled Network A...   \n",
       "...                                                 ...   \n",
       "4995  Job Brief:\\nWe are seeking a skilled Web Devel...   \n",
       "4996  Job Brief:\\nWe are seeking a skilled Systems A...   \n",
       "4997  Job Brief:\\nWe are seeking a skilled Systems A...   \n",
       "4998  Job Brief:\\nWe are seeking a skilled Network T...   \n",
       "4999  Job Brief:\\nWe are seeking a skilled Marketing...   \n",
       "\n",
       "                                            user_prompt  \\\n",
       "0     Generate a job description for a Social Media ...   \n",
       "1     Generate a job description for a Software Engi...   \n",
       "2     Generate a job description for a Systems Admin...   \n",
       "3     Generate a job description for a Java Develope...   \n",
       "4     Generate a job description for a Network Admin...   \n",
       "...                                                 ...   \n",
       "4995  Generate a job description for a Web Developer...   \n",
       "4996  Generate a job description for a Systems Admin...   \n",
       "4997  Generate a job description for a Systems Admin...   \n",
       "4998  Generate a job description for a Network Techn...   \n",
       "4999  Generate a job description for a Marketing Ana...   \n",
       "\n",
       "                                                 skills  \\\n",
       "0     Social media analytics tools example Google An...   \n",
       "1     Automation and scripting example Python, Bash ...   \n",
       "2     Technical troubleshooting Hardware and softwar...   \n",
       "3     Web application development Java web framework...   \n",
       "4     System administration Server maintenance Activ...   \n",
       "...                                                 ...   \n",
       "4995  Frontend and backend development Database inte...   \n",
       "4996  Database management systems example MySQL, Ora...   \n",
       "4997  Technical troubleshooting Hardware and softwar...   \n",
       "4998  Network security Cybersecurity Intrusion detec...   \n",
       "4999  Data analysis tools example SQL, Python Data v...   \n",
       "\n",
       "                                               instruct  \n",
       "0     Transform the jd_prompt into a job description...  \n",
       "1     Transform the jd_prompt into a job description...  \n",
       "2     Transform the jd_prompt into a job description...  \n",
       "3     Transform the jd_prompt into a job description...  \n",
       "4     Transform the jd_prompt into a job description...  \n",
       "...                                                 ...  \n",
       "4995  Transform the jd_prompt into a job description...  \n",
       "4996  Transform the jd_prompt into a job description...  \n",
       "4997  Transform the jd_prompt into a job description...  \n",
       "4998  Transform the jd_prompt into a job description...  \n",
       "4999  Transform the jd_prompt into a job description...  \n",
       "\n",
       "[5000 rows x 4 columns]"
      ]
     },
     "execution_count": 158,
     "metadata": {},
     "output_type": "execute_result"
    }
   ],
   "source": [
    "df_1"
   ]
  },
  {
   "cell_type": "code",
   "execution_count": null,
   "id": "49133acd",
   "metadata": {},
   "outputs": [],
   "source": []
  },
  {
   "cell_type": "code",
   "execution_count": null,
   "id": "379a54c0",
   "metadata": {},
   "outputs": [],
   "source": []
  },
  {
   "cell_type": "code",
   "execution_count": null,
   "id": "aed42c2d",
   "metadata": {},
   "outputs": [],
   "source": []
  },
  {
   "cell_type": "code",
   "execution_count": null,
   "id": "79f1fff3",
   "metadata": {},
   "outputs": [],
   "source": []
  },
  {
   "cell_type": "code",
   "execution_count": null,
   "id": "b76df191",
   "metadata": {},
   "outputs": [],
   "source": []
  },
  {
   "cell_type": "code",
   "execution_count": null,
   "id": "db9c23d9",
   "metadata": {},
   "outputs": [],
   "source": []
  },
  {
   "cell_type": "code",
   "execution_count": null,
   "id": "4c3680a7",
   "metadata": {},
   "outputs": [],
   "source": []
  },
  {
   "cell_type": "code",
   "execution_count": null,
   "id": "00e99c31",
   "metadata": {},
   "outputs": [],
   "source": []
  },
  {
   "cell_type": "code",
   "execution_count": null,
   "id": "dee22bad",
   "metadata": {},
   "outputs": [],
   "source": []
  },
  {
   "cell_type": "code",
   "execution_count": null,
   "id": "23439b1f",
   "metadata": {},
   "outputs": [],
   "source": []
  },
  {
   "cell_type": "code",
   "execution_count": null,
   "id": "2bfcd025",
   "metadata": {},
   "outputs": [],
   "source": []
  },
  {
   "cell_type": "code",
   "execution_count": null,
   "id": "c4cab9b6",
   "metadata": {},
   "outputs": [],
   "source": []
  },
  {
   "cell_type": "code",
   "execution_count": null,
   "id": "a0875b80",
   "metadata": {},
   "outputs": [],
   "source": []
  },
  {
   "cell_type": "code",
   "execution_count": null,
   "id": "28ff668b",
   "metadata": {},
   "outputs": [],
   "source": []
  }
 ],
 "metadata": {
  "kernelspec": {
   "display_name": "Python 3 (ipykernel)",
   "language": "python",
   "name": "python3"
  },
  "language_info": {
   "codemirror_mode": {
    "name": "ipython",
    "version": 3
   },
   "file_extension": ".py",
   "mimetype": "text/x-python",
   "name": "python",
   "nbconvert_exporter": "python",
   "pygments_lexer": "ipython3",
   "version": "3.9.12"
  }
 },
 "nbformat": 4,
 "nbformat_minor": 5
}
