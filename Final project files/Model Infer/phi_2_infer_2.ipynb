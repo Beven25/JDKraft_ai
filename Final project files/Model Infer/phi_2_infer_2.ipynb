{
  "cells": [
    {
      "cell_type": "code",
      "execution_count": null,
      "metadata": {
        "colab": {
          "base_uri": "https://localhost:8080/"
        },
        "id": "fvn7rcuiJ-X_",
        "outputId": "ba91809a-342b-4383-f2f5-463f8a619002"
      },
      "outputs": [
        {
          "output_type": "stream",
          "name": "stdout",
          "text": [
            "\u001b[2K     \u001b[90m━━━━━━━━━━━━━━━━━━━━━━━━━━━━━━━━━━━━━━━━\u001b[0m \u001b[32m105.0/105.0 MB\u001b[0m \u001b[31m8.0 MB/s\u001b[0m eta \u001b[36m0:00:00\u001b[0m\n",
            "\u001b[?25h  Installing build dependencies ... \u001b[?25l\u001b[?25hdone\n",
            "  Getting requirements to build wheel ... \u001b[?25l\u001b[?25hdone\n",
            "  Preparing metadata (pyproject.toml) ... \u001b[?25l\u001b[?25hdone\n",
            "  Building wheel for transformers (pyproject.toml) ... \u001b[?25l\u001b[?25hdone\n",
            "  Installing build dependencies ... \u001b[?25l\u001b[?25hdone\n",
            "  Getting requirements to build wheel ... \u001b[?25l\u001b[?25hdone\n",
            "  Preparing metadata (pyproject.toml) ... \u001b[?25l\u001b[?25hdone\n",
            "\u001b[2K     \u001b[90m━━━━━━━━━━━━━━━━━━━━━━━━━━━━━━━━━━━━━━━━\u001b[0m \u001b[32m279.7/279.7 kB\u001b[0m \u001b[31m6.4 MB/s\u001b[0m eta \u001b[36m0:00:00\u001b[0m\n",
            "\u001b[?25h  Building wheel for peft (pyproject.toml) ... \u001b[?25l\u001b[?25hdone\n",
            "  Installing build dependencies ... \u001b[?25l\u001b[?25hdone\n",
            "  Getting requirements to build wheel ... \u001b[?25l\u001b[?25hdone\n",
            "  Preparing metadata (pyproject.toml) ... \u001b[?25l\u001b[?25hdone\n",
            "  Building wheel for accelerate (pyproject.toml) ... \u001b[?25l\u001b[?25hdone\n",
            "\u001b[2K     \u001b[90m━━━━━━━━━━━━━━━━━━━━━━━━━━━━━━━━━━━━━━━━\u001b[0m \u001b[32m536.6/536.6 kB\u001b[0m \u001b[31m9.7 MB/s\u001b[0m eta \u001b[36m0:00:00\u001b[0m\n",
            "\u001b[2K     \u001b[90m━━━━━━━━━━━━━━━━━━━━━━━━━━━━━━━━━━━━━━━━\u001b[0m \u001b[32m38.4/38.4 MB\u001b[0m \u001b[31m23.4 MB/s\u001b[0m eta \u001b[36m0:00:00\u001b[0m\n",
            "\u001b[2K     \u001b[90m━━━━━━━━━━━━━━━━━━━━━━━━━━━━━━━━━━━━━━━━\u001b[0m \u001b[32m139.4/139.4 kB\u001b[0m \u001b[31m18.7 MB/s\u001b[0m eta \u001b[36m0:00:00\u001b[0m\n",
            "\u001b[2K     \u001b[90m━━━━━━━━━━━━━━━━━━━━━━━━━━━━━━━━━━━━━━━━\u001b[0m \u001b[32m11.6/11.6 MB\u001b[0m \u001b[31m101.5 MB/s\u001b[0m eta \u001b[36m0:00:00\u001b[0m\n",
            "\u001b[2K     \u001b[90m━━━━━━━━━━━━━━━━━━━━━━━━━━━━━━━━━━━━━━━━\u001b[0m \u001b[32m44.6/44.6 kB\u001b[0m \u001b[31m5.7 MB/s\u001b[0m eta \u001b[36m0:00:00\u001b[0m\n",
            "\u001b[2K     \u001b[90m━━━━━━━━━━━━━━━━━━━━━━━━━━━━━━━━━━━━━━━━\u001b[0m \u001b[32m38.3/38.3 MB\u001b[0m \u001b[31m19.6 MB/s\u001b[0m eta \u001b[36m0:00:00\u001b[0m\n",
            "\u001b[2K     \u001b[90m━━━━━━━━━━━━━━━━━━━━━━━━━━━━━━━━━━━━━━━━\u001b[0m \u001b[32m116.3/116.3 kB\u001b[0m \u001b[31m15.7 MB/s\u001b[0m eta \u001b[36m0:00:00\u001b[0m\n",
            "\u001b[2K     \u001b[90m━━━━━━━━━━━━━━━━━━━━━━━━━━━━━━━━━━━━━━━━\u001b[0m \u001b[32m134.8/134.8 kB\u001b[0m \u001b[31m18.3 MB/s\u001b[0m eta \u001b[36m0:00:00\u001b[0m\n",
            "\u001b[2K     \u001b[90m━━━━━━━━━━━━━━━━━━━━━━━━━━━━━━━━━━━━━━━━\u001b[0m \u001b[32m2.3/2.3 MB\u001b[0m \u001b[31m84.7 MB/s\u001b[0m eta \u001b[36m0:00:00\u001b[0m\n",
            "\u001b[2K     \u001b[90m━━━━━━━━━━━━━━━━━━━━━━━━━━━━━━━━━━━━━━━━\u001b[0m \u001b[32m1.6/1.6 MB\u001b[0m \u001b[31m83.9 MB/s\u001b[0m eta \u001b[36m0:00:00\u001b[0m\n",
            "\u001b[?25h\u001b[31mERROR: pip's dependency resolver does not currently take into account all the packages that are installed. This behaviour is the source of the following dependency conflicts.\n",
            "lida 0.0.10 requires fastapi, which is not installed.\n",
            "lida 0.0.10 requires kaleido, which is not installed.\n",
            "lida 0.0.10 requires python-multipart, which is not installed.\n",
            "lida 0.0.10 requires uvicorn, which is not installed.\n",
            "ibis-framework 7.1.0 requires pyarrow<15,>=2, but you have pyarrow 15.0.0 which is incompatible.\u001b[0m\u001b[31m\n",
            "\u001b[0m"
          ]
        }
      ],
      "source": [
        "# !pip install torch peft==0.4.0 bitsandbytes==0.40.2 transformers==4.31.0 trl==0.4.7 accelerate einops\n",
        "\n",
        "# You only need to run this once per machine\n",
        "!pip install -q -U bitsandbytes\n",
        "!pip install -q -U git+https://github.com/huggingface/transformers.git\n",
        "!pip install -q -U git+https://github.com/huggingface/peft.git\n",
        "!pip install -q -U git+https://github.com/huggingface/accelerate.git\n",
        "!pip install -q -U datasets scipy ipywidgets matplotlib einops"
      ]
    },
    {
      "cell_type": "code",
      "execution_count": null,
      "metadata": {
        "colab": {
          "base_uri": "https://localhost:8080/"
        },
        "id": "YZqtzxXgJ-x5",
        "outputId": "f8a47e2d-a448-4ac6-c021-3cee046b8df8"
      },
      "outputs": [
        {
          "output_type": "stream",
          "name": "stdout",
          "text": [
            "Requirement already satisfied: tqdm in /usr/local/lib/python3.10/dist-packages (4.66.1)\n",
            "Requirement already satisfied: scipy in /usr/local/lib/python3.10/dist-packages (1.12.0)\n",
            "Requirement already satisfied: numpy<1.29.0,>=1.22.4 in /usr/local/lib/python3.10/dist-packages (from scipy) (1.23.5)\n"
          ]
        }
      ],
      "source": [
        "!pip install tqdm scipy"
      ]
    },
    {
      "cell_type": "code",
      "execution_count": null,
      "metadata": {
        "colab": {
          "base_uri": "https://localhost:8080/"
        },
        "id": "3sgxqTMtJ-0m",
        "outputId": "36fa87e7-2ee1-4468-98b6-f09e4549da63"
      },
      "outputs": [
        {
          "output_type": "stream",
          "name": "stdout",
          "text": [
            "\n",
            "    _|    _|  _|    _|    _|_|_|    _|_|_|  _|_|_|  _|      _|    _|_|_|      _|_|_|_|    _|_|      _|_|_|  _|_|_|_|\n",
            "    _|    _|  _|    _|  _|        _|          _|    _|_|    _|  _|            _|        _|    _|  _|        _|\n",
            "    _|_|_|_|  _|    _|  _|  _|_|  _|  _|_|    _|    _|  _|  _|  _|  _|_|      _|_|_|    _|_|_|_|  _|        _|_|_|\n",
            "    _|    _|  _|    _|  _|    _|  _|    _|    _|    _|    _|_|  _|    _|      _|        _|    _|  _|        _|\n",
            "    _|    _|    _|_|      _|_|_|    _|_|_|  _|_|_|  _|      _|    _|_|_|      _|        _|    _|    _|_|_|  _|_|_|_|\n",
            "\n"
          ]
        },
        {
          "output_type": "stream",
          "name": "stderr",
          "text": [
            "/usr/local/lib/python3.10/dist-packages/huggingface_hub/utils/_token.py:88: UserWarning: \n",
            "The secret `HF_TOKEN` does not exist in your Colab secrets.\n",
            "To authenticate with the Hugging Face Hub, create a token in your settings tab (https://huggingface.co/settings/tokens), set it as secret in your Google Colab and restart your session.\n",
            "You will be able to reuse this secret in all of your notebooks.\n",
            "Please note that authentication is recommended but still optional to access public models or datasets.\n",
            "  warnings.warn(\n"
          ]
        },
        {
          "output_type": "stream",
          "name": "stdout",
          "text": [
            "    To login, `huggingface_hub` requires a token generated from https://huggingface.co/settings/tokens .\n",
            "Token: ··········\n",
            "Add token as git credential? (Y/n) n\n",
            "Token is valid (permission: write).\n",
            "Your token has been saved to /root/.cache/huggingface/token\n",
            "Login successful\n"
          ]
        }
      ],
      "source": [
        "from huggingface_hub import interpreter_login\n",
        "interpreter_login()"
      ]
    },
    {
      "cell_type": "code",
      "execution_count": null,
      "metadata": {
        "id": "VSF1kFyXJ-3O"
      },
      "outputs": [],
      "source": [
        "import os\n",
        "from dataclasses import dataclass, field\n",
        "from typing import Optional\n",
        "\n",
        "import torch\n",
        "from datasets import load_dataset\n",
        "from datasets import load_from_disk\n",
        "from peft import LoraConfig, prepare_model_for_kbit_training\n",
        "from transformers import (\n",
        "    AutoModelForCausalLM,\n",
        "    AutoTokenizer,\n",
        "    BitsAndBytesConfig,\n",
        "    HfArgumentParser,\n",
        "    AutoTokenizer,\n",
        "    TrainingArguments,\n",
        ")\n",
        "from tqdm.notebook import tqdm\n",
        "\n"
      ]
    },
    {
      "cell_type": "code",
      "execution_count": null,
      "metadata": {
        "id": "H2Na-t0bLsyM"
      },
      "outputs": [],
      "source": []
    },
    {
      "cell_type": "code",
      "execution_count": null,
      "metadata": {
        "colab": {
          "base_uri": "https://localhost:8080/",
          "height": 88,
          "referenced_widgets": [
            "c7c8190d1aae406f987caee6f2c89b6f",
            "20c67602ee024c71b2c35610aeb7cd61",
            "6b1ad96171754fd59dee024fca19e819",
            "e072074245e4472495b7356c04a1b70d",
            "16df1b4c9a524434bb2d33a381805a3c",
            "b80cbc3ef4bf4361bae6fe6c36ebf9e3",
            "11c5a714f4124a149582bf76b3dac439",
            "412cace569884ab180b825a79746d37d",
            "c7ec9154f04e4560a84b2a10831869fe",
            "4c1c12db34f240b5906e297947a77721",
            "2def018cac454209b7de2dfe7a57d411"
          ]
        },
        "id": "N0ZC59wBKiA4",
        "outputId": "225b1ede-9878-4f20-b327-64a072a32743"
      },
      "outputs": [
        {
          "output_type": "stream",
          "name": "stderr",
          "text": [
            "The `load_in_4bit` and `load_in_8bit` arguments are deprecated and will be removed in the future versions. Please, pass a `BitsAndBytesConfig` object in `quantization_config` argument instead.\n"
          ]
        },
        {
          "output_type": "display_data",
          "data": {
            "text/plain": [
              "Loading checkpoint shards:   0%|          | 0/2 [00:00<?, ?it/s]"
            ],
            "application/vnd.jupyter.widget-view+json": {
              "version_major": 2,
              "version_minor": 0,
              "model_id": "c7c8190d1aae406f987caee6f2c89b6f"
            }
          },
          "metadata": {}
        },
        {
          "output_type": "stream",
          "name": "stderr",
          "text": [
            "Loading adapter weights from Aneeth/Phi-2JD led to unexpected keys not found in the model:  ['transformer.h.0.mixer.Wqkv.lora_A.default.weight', 'transformer.h.0.mixer.Wqkv.lora_B.default.weight', 'transformer.h.0.mlp.fc1.lora_A.default.weight', 'transformer.h.0.mlp.fc1.lora_B.default.weight', 'transformer.h.0.mlp.fc2.lora_A.default.weight', 'transformer.h.0.mlp.fc2.lora_B.default.weight', 'transformer.h.1.mixer.Wqkv.lora_A.default.weight', 'transformer.h.1.mixer.Wqkv.lora_B.default.weight', 'transformer.h.1.mlp.fc1.lora_A.default.weight', 'transformer.h.1.mlp.fc1.lora_B.default.weight', 'transformer.h.1.mlp.fc2.lora_A.default.weight', 'transformer.h.1.mlp.fc2.lora_B.default.weight', 'transformer.h.10.mixer.Wqkv.lora_A.default.weight', 'transformer.h.10.mixer.Wqkv.lora_B.default.weight', 'transformer.h.10.mlp.fc1.lora_A.default.weight', 'transformer.h.10.mlp.fc1.lora_B.default.weight', 'transformer.h.10.mlp.fc2.lora_A.default.weight', 'transformer.h.10.mlp.fc2.lora_B.default.weight', 'transformer.h.11.mixer.Wqkv.lora_A.default.weight', 'transformer.h.11.mixer.Wqkv.lora_B.default.weight', 'transformer.h.11.mlp.fc1.lora_A.default.weight', 'transformer.h.11.mlp.fc1.lora_B.default.weight', 'transformer.h.11.mlp.fc2.lora_A.default.weight', 'transformer.h.11.mlp.fc2.lora_B.default.weight', 'transformer.h.12.mixer.Wqkv.lora_A.default.weight', 'transformer.h.12.mixer.Wqkv.lora_B.default.weight', 'transformer.h.12.mlp.fc1.lora_A.default.weight', 'transformer.h.12.mlp.fc1.lora_B.default.weight', 'transformer.h.12.mlp.fc2.lora_A.default.weight', 'transformer.h.12.mlp.fc2.lora_B.default.weight', 'transformer.h.13.mixer.Wqkv.lora_A.default.weight', 'transformer.h.13.mixer.Wqkv.lora_B.default.weight', 'transformer.h.13.mlp.fc1.lora_A.default.weight', 'transformer.h.13.mlp.fc1.lora_B.default.weight', 'transformer.h.13.mlp.fc2.lora_A.default.weight', 'transformer.h.13.mlp.fc2.lora_B.default.weight', 'transformer.h.14.mixer.Wqkv.lora_A.default.weight', 'transformer.h.14.mixer.Wqkv.lora_B.default.weight', 'transformer.h.14.mlp.fc1.lora_A.default.weight', 'transformer.h.14.mlp.fc1.lora_B.default.weight', 'transformer.h.14.mlp.fc2.lora_A.default.weight', 'transformer.h.14.mlp.fc2.lora_B.default.weight', 'transformer.h.15.mixer.Wqkv.lora_A.default.weight', 'transformer.h.15.mixer.Wqkv.lora_B.default.weight', 'transformer.h.15.mlp.fc1.lora_A.default.weight', 'transformer.h.15.mlp.fc1.lora_B.default.weight', 'transformer.h.15.mlp.fc2.lora_A.default.weight', 'transformer.h.15.mlp.fc2.lora_B.default.weight', 'transformer.h.16.mixer.Wqkv.lora_A.default.weight', 'transformer.h.16.mixer.Wqkv.lora_B.default.weight', 'transformer.h.16.mlp.fc1.lora_A.default.weight', 'transformer.h.16.mlp.fc1.lora_B.default.weight', 'transformer.h.16.mlp.fc2.lora_A.default.weight', 'transformer.h.16.mlp.fc2.lora_B.default.weight', 'transformer.h.17.mixer.Wqkv.lora_A.default.weight', 'transformer.h.17.mixer.Wqkv.lora_B.default.weight', 'transformer.h.17.mlp.fc1.lora_A.default.weight', 'transformer.h.17.mlp.fc1.lora_B.default.weight', 'transformer.h.17.mlp.fc2.lora_A.default.weight', 'transformer.h.17.mlp.fc2.lora_B.default.weight', 'transformer.h.18.mixer.Wqkv.lora_A.default.weight', 'transformer.h.18.mixer.Wqkv.lora_B.default.weight', 'transformer.h.18.mlp.fc1.lora_A.default.weight', 'transformer.h.18.mlp.fc1.lora_B.default.weight', 'transformer.h.18.mlp.fc2.lora_A.default.weight', 'transformer.h.18.mlp.fc2.lora_B.default.weight', 'transformer.h.19.mixer.Wqkv.lora_A.default.weight', 'transformer.h.19.mixer.Wqkv.lora_B.default.weight', 'transformer.h.19.mlp.fc1.lora_A.default.weight', 'transformer.h.19.mlp.fc1.lora_B.default.weight', 'transformer.h.19.mlp.fc2.lora_A.default.weight', 'transformer.h.19.mlp.fc2.lora_B.default.weight', 'transformer.h.2.mixer.Wqkv.lora_A.default.weight', 'transformer.h.2.mixer.Wqkv.lora_B.default.weight', 'transformer.h.2.mlp.fc1.lora_A.default.weight', 'transformer.h.2.mlp.fc1.lora_B.default.weight', 'transformer.h.2.mlp.fc2.lora_A.default.weight', 'transformer.h.2.mlp.fc2.lora_B.default.weight', 'transformer.h.20.mixer.Wqkv.lora_A.default.weight', 'transformer.h.20.mixer.Wqkv.lora_B.default.weight', 'transformer.h.20.mlp.fc1.lora_A.default.weight', 'transformer.h.20.mlp.fc1.lora_B.default.weight', 'transformer.h.20.mlp.fc2.lora_A.default.weight', 'transformer.h.20.mlp.fc2.lora_B.default.weight', 'transformer.h.21.mixer.Wqkv.lora_A.default.weight', 'transformer.h.21.mixer.Wqkv.lora_B.default.weight', 'transformer.h.21.mlp.fc1.lora_A.default.weight', 'transformer.h.21.mlp.fc1.lora_B.default.weight', 'transformer.h.21.mlp.fc2.lora_A.default.weight', 'transformer.h.21.mlp.fc2.lora_B.default.weight', 'transformer.h.22.mixer.Wqkv.lora_A.default.weight', 'transformer.h.22.mixer.Wqkv.lora_B.default.weight', 'transformer.h.22.mlp.fc1.lora_A.default.weight', 'transformer.h.22.mlp.fc1.lora_B.default.weight', 'transformer.h.22.mlp.fc2.lora_A.default.weight', 'transformer.h.22.mlp.fc2.lora_B.default.weight', 'transformer.h.23.mixer.Wqkv.lora_A.default.weight', 'transformer.h.23.mixer.Wqkv.lora_B.default.weight', 'transformer.h.23.mlp.fc1.lora_A.default.weight', 'transformer.h.23.mlp.fc1.lora_B.default.weight', 'transformer.h.23.mlp.fc2.lora_A.default.weight', 'transformer.h.23.mlp.fc2.lora_B.default.weight', 'transformer.h.24.mixer.Wqkv.lora_A.default.weight', 'transformer.h.24.mixer.Wqkv.lora_B.default.weight', 'transformer.h.24.mlp.fc1.lora_A.default.weight', 'transformer.h.24.mlp.fc1.lora_B.default.weight', 'transformer.h.24.mlp.fc2.lora_A.default.weight', 'transformer.h.24.mlp.fc2.lora_B.default.weight', 'transformer.h.25.mixer.Wqkv.lora_A.default.weight', 'transformer.h.25.mixer.Wqkv.lora_B.default.weight', 'transformer.h.25.mlp.fc1.lora_A.default.weight', 'transformer.h.25.mlp.fc1.lora_B.default.weight', 'transformer.h.25.mlp.fc2.lora_A.default.weight', 'transformer.h.25.mlp.fc2.lora_B.default.weight', 'transformer.h.26.mixer.Wqkv.lora_A.default.weight', 'transformer.h.26.mixer.Wqkv.lora_B.default.weight', 'transformer.h.26.mlp.fc1.lora_A.default.weight', 'transformer.h.26.mlp.fc1.lora_B.default.weight', 'transformer.h.26.mlp.fc2.lora_A.default.weight', 'transformer.h.26.mlp.fc2.lora_B.default.weight', 'transformer.h.27.mixer.Wqkv.lora_A.default.weight', 'transformer.h.27.mixer.Wqkv.lora_B.default.weight', 'transformer.h.27.mlp.fc1.lora_A.default.weight', 'transformer.h.27.mlp.fc1.lora_B.default.weight', 'transformer.h.27.mlp.fc2.lora_A.default.weight', 'transformer.h.27.mlp.fc2.lora_B.default.weight', 'transformer.h.28.mixer.Wqkv.lora_A.default.weight', 'transformer.h.28.mixer.Wqkv.lora_B.default.weight', 'transformer.h.28.mlp.fc1.lora_A.default.weight', 'transformer.h.28.mlp.fc1.lora_B.default.weight', 'transformer.h.28.mlp.fc2.lora_A.default.weight', 'transformer.h.28.mlp.fc2.lora_B.default.weight', 'transformer.h.29.mixer.Wqkv.lora_A.default.weight', 'transformer.h.29.mixer.Wqkv.lora_B.default.weight', 'transformer.h.29.mlp.fc1.lora_A.default.weight', 'transformer.h.29.mlp.fc1.lora_B.default.weight', 'transformer.h.29.mlp.fc2.lora_A.default.weight', 'transformer.h.29.mlp.fc2.lora_B.default.weight', 'transformer.h.3.mixer.Wqkv.lora_A.default.weight', 'transformer.h.3.mixer.Wqkv.lora_B.default.weight', 'transformer.h.3.mlp.fc1.lora_A.default.weight', 'transformer.h.3.mlp.fc1.lora_B.default.weight', 'transformer.h.3.mlp.fc2.lora_A.default.weight', 'transformer.h.3.mlp.fc2.lora_B.default.weight', 'transformer.h.30.mixer.Wqkv.lora_A.default.weight', 'transformer.h.30.mixer.Wqkv.lora_B.default.weight', 'transformer.h.30.mlp.fc1.lora_A.default.weight', 'transformer.h.30.mlp.fc1.lora_B.default.weight', 'transformer.h.30.mlp.fc2.lora_A.default.weight', 'transformer.h.30.mlp.fc2.lora_B.default.weight', 'transformer.h.31.mixer.Wqkv.lora_A.default.weight', 'transformer.h.31.mixer.Wqkv.lora_B.default.weight', 'transformer.h.31.mlp.fc1.lora_A.default.weight', 'transformer.h.31.mlp.fc1.lora_B.default.weight', 'transformer.h.31.mlp.fc2.lora_A.default.weight', 'transformer.h.31.mlp.fc2.lora_B.default.weight', 'transformer.h.4.mixer.Wqkv.lora_A.default.weight', 'transformer.h.4.mixer.Wqkv.lora_B.default.weight', 'transformer.h.4.mlp.fc1.lora_A.default.weight', 'transformer.h.4.mlp.fc1.lora_B.default.weight', 'transformer.h.4.mlp.fc2.lora_A.default.weight', 'transformer.h.4.mlp.fc2.lora_B.default.weight', 'transformer.h.5.mixer.Wqkv.lora_A.default.weight', 'transformer.h.5.mixer.Wqkv.lora_B.default.weight', 'transformer.h.5.mlp.fc1.lora_A.default.weight', 'transformer.h.5.mlp.fc1.lora_B.default.weight', 'transformer.h.5.mlp.fc2.lora_A.default.weight', 'transformer.h.5.mlp.fc2.lora_B.default.weight', 'transformer.h.6.mixer.Wqkv.lora_A.default.weight', 'transformer.h.6.mixer.Wqkv.lora_B.default.weight', 'transformer.h.6.mlp.fc1.lora_A.default.weight', 'transformer.h.6.mlp.fc1.lora_B.default.weight', 'transformer.h.6.mlp.fc2.lora_A.default.weight', 'transformer.h.6.mlp.fc2.lora_B.default.weight', 'transformer.h.7.mixer.Wqkv.lora_A.default.weight', 'transformer.h.7.mixer.Wqkv.lora_B.default.weight', 'transformer.h.7.mlp.fc1.lora_A.default.weight', 'transformer.h.7.mlp.fc1.lora_B.default.weight', 'transformer.h.7.mlp.fc2.lora_A.default.weight', 'transformer.h.7.mlp.fc2.lora_B.default.weight', 'transformer.h.8.mixer.Wqkv.lora_A.default.weight', 'transformer.h.8.mixer.Wqkv.lora_B.default.weight', 'transformer.h.8.mlp.fc1.lora_A.default.weight', 'transformer.h.8.mlp.fc1.lora_B.default.weight', 'transformer.h.8.mlp.fc2.lora_A.default.weight', 'transformer.h.8.mlp.fc2.lora_B.default.weight', 'transformer.h.9.mixer.Wqkv.lora_A.default.weight', 'transformer.h.9.mixer.Wqkv.lora_B.default.weight', 'transformer.h.9.mlp.fc1.lora_A.default.weight', 'transformer.h.9.mlp.fc1.lora_B.default.weight', 'transformer.h.9.mlp.fc2.lora_A.default.weight', 'transformer.h.9.mlp.fc2.lora_B.default.weight']. \n",
            "Special tokens have been added in the vocabulary, make sure the associated word embeddings are fine-tuned or trained.\n"
          ]
        }
      ],
      "source": [
        "# import torch\n",
        "# from transformers import AutoTokenizer, AutoModelForCausalLM\n",
        "\n",
        "# base_model_id = \"microsoft/phi-2\"\n",
        "base_model_id = \"Aneeth/Phi-2JD\"\n",
        "\n",
        "\n",
        "base_model = AutoModelForCausalLM.from_pretrained(\n",
        "    base_model_id,  # Phi2, same as before\n",
        "    device_map=\"auto\",\n",
        "    trust_remote_code=True,\n",
        "    load_in_4bit=True,\n",
        "    torch_dtype=torch.float16,\n",
        "    # bnb_4bit_quant_type=\"nf4\",\n",
        "    # bnb_4bit_use_double_quant=False,\n",
        "    # flash_attn=True,\n",
        "    # flash_rotary=True,\n",
        "    # fused_dense=True,\n",
        "    # revision=\"refs/pr/23\",\n",
        ")\n",
        "tokenizer = AutoTokenizer.from_pretrained(\"Aneeth/Phi-2JD\", use_fast=True)\n",
        "tokenizer.pad_token=tokenizer.eos_token\n",
        "tokenizer.padding_side=\"right\"\n",
        "\n",
        "# eval_tokenizer = AutoTokenizer.from_pretrained(base_model_id, add_bos_token=True, trust_remote_code=True, use_fast=False)\n",
        "# eval_tokenizer.pad_token = tokenizer.eos_token"
      ]
    },
    {
      "cell_type": "code",
      "execution_count": null,
      "metadata": {
        "id": "PHLhF4e0KiDh",
        "colab": {
          "base_uri": "https://localhost:8080/",
          "height": 17,
          "referenced_widgets": [
            "5dd7f876ef2e480eaa2a34608de2222b",
            "a834775e0e904be7984be7161af6ee7b",
            "8e3a138bdbdd4a0a877d9474cee0de47",
            "d6f3b8078e6b439ebf891dd08c7e6350",
            "bb4caf1083b3455e90c2d106d8ecd96f",
            "dbadc2589c7e45f38c8791f86b5ba4e5",
            "fa40c866a5ee4756b1c625368444e779",
            "b95f6fd36dd948d0823bbcff2d61d8a9",
            "ebbcf2aa9bf941e29e0a59155f67e6bf",
            "db5be8a8ce4347fbab59a4a2c9a2eac1",
            "9f9349b34c974137b6e894ab9c3fedf2",
            "ffaf5341fd394414a7ae870c38129a01",
            "bbfa1767133249f480f352ab08855491",
            "b36fe30ca9284d6f976b4eb255c88ab5",
            "07997b8fe275432ab2b2f8d6c5216bd7",
            "0425c3cd633642a4aa100f11286c7cfb",
            "e39360b871cc4788b0b4737694f097bd",
            "16761dd9c7eb4337b414a4023de45fda",
            "586875a6f2c34508be1a386cffdcc51a",
            "c62dbb6740914522905e1a66d3680117",
            "6ba93d0c30464bfcbf2af271cb6589f3",
            "e95ec8aca7614ee3a5dfd9bfb432f12c"
          ]
        },
        "outputId": "1dee5eb8-1d3b-48ed-b4f9-89fd4dc05fef"
      },
      "outputs": [
        {
          "output_type": "display_data",
          "data": {
            "text/plain": [
              "adapter_config.json:   0%|          | 0.00/595 [00:00<?, ?B/s]"
            ],
            "application/vnd.jupyter.widget-view+json": {
              "version_major": 2,
              "version_minor": 0,
              "model_id": "5dd7f876ef2e480eaa2a34608de2222b"
            }
          },
          "metadata": {}
        },
        {
          "output_type": "display_data",
          "data": {
            "text/plain": [
              "adapter_model.safetensors:   0%|          | 0.00/294M [00:00<?, ?B/s]"
            ],
            "application/vnd.jupyter.widget-view+json": {
              "version_major": 2,
              "version_minor": 0,
              "model_id": "ffaf5341fd394414a7ae870c38129a01"
            }
          },
          "metadata": {}
        }
      ],
      "source": [
        "# from peft import PeftModel\n",
        "\n",
        "# ft_model = PeftModel.from_pretrained(base_model, \"Aneeth/Phi-2JD\")"
      ]
    },
    {
      "cell_type": "code",
      "execution_count": null,
      "metadata": {
        "colab": {
          "base_uri": "https://localhost:8080/"
        },
        "id": "CstrIhIiKiGh",
        "outputId": "fcb3594f-ae95-431a-cff4-72bb3c221c24"
      },
      "outputs": [
        {
          "output_type": "stream",
          "name": "stderr",
          "text": [
            "Setting `pad_token_id` to `eos_token_id`:50256 for open-end generation.\n"
          ]
        },
        {
          "output_type": "stream",
          "name": "stdout",
          "text": [
            "Generate a job Description for a Data Scientist with relevant skills and qualification with respective to current industry demand.\n",
            "## INPUT\n",
            "Data Scientist\n",
            "##OUTPUT\n",
            "We are looking for an experienced and motivated Data Scientist to join our team. The ideal candidate will have a master's degree in a STEM field, such as computer science or statistics, and at least 5 years of experience in data analysis. Proficiency in programming languages, such as Python, R, and SQL, is required. The successful candidate will also have strong analytical and problem-solving skills, as well as the ability to communicate complex ideas in a clear and concise manner.\n",
            "\n"
          ]
        }
      ],
      "source": [
        "eval_prompt = \"Generate a job Description for a Data Scientist with relevant skills and qualification with respective to current industry demand.\"\n",
        "model_input = tokenizer(eval_prompt, return_tensors=\"pt\").to(\"cuda\")\n",
        "\n",
        "base_model.eval()\n",
        "with torch.no_grad():\n",
        "    print(tokenizer.decode(base_model.generate(**model_input, max_new_tokens=3000, repetition_penalty=1.11)[0], skip_special_tokens=True))"
      ]
    },
    {
      "cell_type": "code",
      "execution_count": null,
      "metadata": {
        "id": "zAKfZFxPKiKK"
      },
      "outputs": [],
      "source": []
    },
    {
      "cell_type": "code",
      "execution_count": null,
      "metadata": {
        "id": "m-XpA6lCKiNR"
      },
      "outputs": [],
      "source": []
    },
    {
      "cell_type": "code",
      "execution_count": null,
      "metadata": {
        "id": "fStGjnGjKiQA"
      },
      "outputs": [],
      "source": []
    },
    {
      "cell_type": "code",
      "execution_count": null,
      "metadata": {
        "id": "Na5FWFvYKiSe"
      },
      "outputs": [],
      "source": []
    }
  ],
  "metadata": {
    "accelerator": "GPU",
    "colab": {
      "gpuType": "T4",
      "provenance": []
    },
    "kernelspec": {
      "display_name": "Python 3",
      "name": "python3"
    },
    "language_info": {
      "name": "python"
    },
    "widgets": {
      "application/vnd.jupyter.widget-state+json": {
        "c7c8190d1aae406f987caee6f2c89b6f": {
          "model_module": "@jupyter-widgets/controls",
          "model_name": "HBoxModel",
          "model_module_version": "2.0.0",
          "state": {
            "_dom_classes": [],
            "_model_module": "@jupyter-widgets/controls",
            "_model_module_version": "2.0.0",
            "_model_name": "HBoxModel",
            "_view_count": null,
            "_view_module": "@jupyter-widgets/controls",
            "_view_module_version": "2.0.0",
            "_view_name": "HBoxView",
            "box_style": "",
            "children": [
              "IPY_MODEL_20c67602ee024c71b2c35610aeb7cd61",
              "IPY_MODEL_6b1ad96171754fd59dee024fca19e819",
              "IPY_MODEL_e072074245e4472495b7356c04a1b70d"
            ],
            "layout": "IPY_MODEL_16df1b4c9a524434bb2d33a381805a3c",
            "tabbable": null,
            "tooltip": null
          }
        },
        "20c67602ee024c71b2c35610aeb7cd61": {
          "model_module": "@jupyter-widgets/controls",
          "model_name": "HTMLModel",
          "model_module_version": "2.0.0",
          "state": {
            "_dom_classes": [],
            "_model_module": "@jupyter-widgets/controls",
            "_model_module_version": "2.0.0",
            "_model_name": "HTMLModel",
            "_view_count": null,
            "_view_module": "@jupyter-widgets/controls",
            "_view_module_version": "2.0.0",
            "_view_name": "HTMLView",
            "description": "",
            "description_allow_html": false,
            "layout": "IPY_MODEL_b80cbc3ef4bf4361bae6fe6c36ebf9e3",
            "placeholder": "​",
            "style": "IPY_MODEL_11c5a714f4124a149582bf76b3dac439",
            "tabbable": null,
            "tooltip": null,
            "value": "Loading checkpoint shards: 100%"
          }
        },
        "6b1ad96171754fd59dee024fca19e819": {
          "model_module": "@jupyter-widgets/controls",
          "model_name": "FloatProgressModel",
          "model_module_version": "2.0.0",
          "state": {
            "_dom_classes": [],
            "_model_module": "@jupyter-widgets/controls",
            "_model_module_version": "2.0.0",
            "_model_name": "FloatProgressModel",
            "_view_count": null,
            "_view_module": "@jupyter-widgets/controls",
            "_view_module_version": "2.0.0",
            "_view_name": "ProgressView",
            "bar_style": "success",
            "description": "",
            "description_allow_html": false,
            "layout": "IPY_MODEL_412cace569884ab180b825a79746d37d",
            "max": 2,
            "min": 0,
            "orientation": "horizontal",
            "style": "IPY_MODEL_c7ec9154f04e4560a84b2a10831869fe",
            "tabbable": null,
            "tooltip": null,
            "value": 2
          }
        },
        "e072074245e4472495b7356c04a1b70d": {
          "model_module": "@jupyter-widgets/controls",
          "model_name": "HTMLModel",
          "model_module_version": "2.0.0",
          "state": {
            "_dom_classes": [],
            "_model_module": "@jupyter-widgets/controls",
            "_model_module_version": "2.0.0",
            "_model_name": "HTMLModel",
            "_view_count": null,
            "_view_module": "@jupyter-widgets/controls",
            "_view_module_version": "2.0.0",
            "_view_name": "HTMLView",
            "description": "",
            "description_allow_html": false,
            "layout": "IPY_MODEL_4c1c12db34f240b5906e297947a77721",
            "placeholder": "​",
            "style": "IPY_MODEL_2def018cac454209b7de2dfe7a57d411",
            "tabbable": null,
            "tooltip": null,
            "value": " 2/2 [00:25&lt;00:00, 11.00s/it]"
          }
        },
        "16df1b4c9a524434bb2d33a381805a3c": {
          "model_module": "@jupyter-widgets/base",
          "model_name": "LayoutModel",
          "model_module_version": "2.0.0",
          "state": {
            "_model_module": "@jupyter-widgets/base",
            "_model_module_version": "2.0.0",
            "_model_name": "LayoutModel",
            "_view_count": null,
            "_view_module": "@jupyter-widgets/base",
            "_view_module_version": "2.0.0",
            "_view_name": "LayoutView",
            "align_content": null,
            "align_items": null,
            "align_self": null,
            "border_bottom": null,
            "border_left": null,
            "border_right": null,
            "border_top": null,
            "bottom": null,
            "display": null,
            "flex": null,
            "flex_flow": null,
            "grid_area": null,
            "grid_auto_columns": null,
            "grid_auto_flow": null,
            "grid_auto_rows": null,
            "grid_column": null,
            "grid_gap": null,
            "grid_row": null,
            "grid_template_areas": null,
            "grid_template_columns": null,
            "grid_template_rows": null,
            "height": null,
            "justify_content": null,
            "justify_items": null,
            "left": null,
            "margin": null,
            "max_height": null,
            "max_width": null,
            "min_height": null,
            "min_width": null,
            "object_fit": null,
            "object_position": null,
            "order": null,
            "overflow": null,
            "padding": null,
            "right": null,
            "top": null,
            "visibility": null,
            "width": null
          }
        },
        "b80cbc3ef4bf4361bae6fe6c36ebf9e3": {
          "model_module": "@jupyter-widgets/base",
          "model_name": "LayoutModel",
          "model_module_version": "2.0.0",
          "state": {
            "_model_module": "@jupyter-widgets/base",
            "_model_module_version": "2.0.0",
            "_model_name": "LayoutModel",
            "_view_count": null,
            "_view_module": "@jupyter-widgets/base",
            "_view_module_version": "2.0.0",
            "_view_name": "LayoutView",
            "align_content": null,
            "align_items": null,
            "align_self": null,
            "border_bottom": null,
            "border_left": null,
            "border_right": null,
            "border_top": null,
            "bottom": null,
            "display": null,
            "flex": null,
            "flex_flow": null,
            "grid_area": null,
            "grid_auto_columns": null,
            "grid_auto_flow": null,
            "grid_auto_rows": null,
            "grid_column": null,
            "grid_gap": null,
            "grid_row": null,
            "grid_template_areas": null,
            "grid_template_columns": null,
            "grid_template_rows": null,
            "height": null,
            "justify_content": null,
            "justify_items": null,
            "left": null,
            "margin": null,
            "max_height": null,
            "max_width": null,
            "min_height": null,
            "min_width": null,
            "object_fit": null,
            "object_position": null,
            "order": null,
            "overflow": null,
            "padding": null,
            "right": null,
            "top": null,
            "visibility": null,
            "width": null
          }
        },
        "11c5a714f4124a149582bf76b3dac439": {
          "model_module": "@jupyter-widgets/controls",
          "model_name": "HTMLStyleModel",
          "model_module_version": "2.0.0",
          "state": {
            "_model_module": "@jupyter-widgets/controls",
            "_model_module_version": "2.0.0",
            "_model_name": "HTMLStyleModel",
            "_view_count": null,
            "_view_module": "@jupyter-widgets/base",
            "_view_module_version": "2.0.0",
            "_view_name": "StyleView",
            "background": null,
            "description_width": "",
            "font_size": null,
            "text_color": null
          }
        },
        "412cace569884ab180b825a79746d37d": {
          "model_module": "@jupyter-widgets/base",
          "model_name": "LayoutModel",
          "model_module_version": "2.0.0",
          "state": {
            "_model_module": "@jupyter-widgets/base",
            "_model_module_version": "2.0.0",
            "_model_name": "LayoutModel",
            "_view_count": null,
            "_view_module": "@jupyter-widgets/base",
            "_view_module_version": "2.0.0",
            "_view_name": "LayoutView",
            "align_content": null,
            "align_items": null,
            "align_self": null,
            "border_bottom": null,
            "border_left": null,
            "border_right": null,
            "border_top": null,
            "bottom": null,
            "display": null,
            "flex": null,
            "flex_flow": null,
            "grid_area": null,
            "grid_auto_columns": null,
            "grid_auto_flow": null,
            "grid_auto_rows": null,
            "grid_column": null,
            "grid_gap": null,
            "grid_row": null,
            "grid_template_areas": null,
            "grid_template_columns": null,
            "grid_template_rows": null,
            "height": null,
            "justify_content": null,
            "justify_items": null,
            "left": null,
            "margin": null,
            "max_height": null,
            "max_width": null,
            "min_height": null,
            "min_width": null,
            "object_fit": null,
            "object_position": null,
            "order": null,
            "overflow": null,
            "padding": null,
            "right": null,
            "top": null,
            "visibility": null,
            "width": null
          }
        },
        "c7ec9154f04e4560a84b2a10831869fe": {
          "model_module": "@jupyter-widgets/controls",
          "model_name": "ProgressStyleModel",
          "model_module_version": "2.0.0",
          "state": {
            "_model_module": "@jupyter-widgets/controls",
            "_model_module_version": "2.0.0",
            "_model_name": "ProgressStyleModel",
            "_view_count": null,
            "_view_module": "@jupyter-widgets/base",
            "_view_module_version": "2.0.0",
            "_view_name": "StyleView",
            "bar_color": null,
            "description_width": ""
          }
        },
        "4c1c12db34f240b5906e297947a77721": {
          "model_module": "@jupyter-widgets/base",
          "model_name": "LayoutModel",
          "model_module_version": "2.0.0",
          "state": {
            "_model_module": "@jupyter-widgets/base",
            "_model_module_version": "2.0.0",
            "_model_name": "LayoutModel",
            "_view_count": null,
            "_view_module": "@jupyter-widgets/base",
            "_view_module_version": "2.0.0",
            "_view_name": "LayoutView",
            "align_content": null,
            "align_items": null,
            "align_self": null,
            "border_bottom": null,
            "border_left": null,
            "border_right": null,
            "border_top": null,
            "bottom": null,
            "display": null,
            "flex": null,
            "flex_flow": null,
            "grid_area": null,
            "grid_auto_columns": null,
            "grid_auto_flow": null,
            "grid_auto_rows": null,
            "grid_column": null,
            "grid_gap": null,
            "grid_row": null,
            "grid_template_areas": null,
            "grid_template_columns": null,
            "grid_template_rows": null,
            "height": null,
            "justify_content": null,
            "justify_items": null,
            "left": null,
            "margin": null,
            "max_height": null,
            "max_width": null,
            "min_height": null,
            "min_width": null,
            "object_fit": null,
            "object_position": null,
            "order": null,
            "overflow": null,
            "padding": null,
            "right": null,
            "top": null,
            "visibility": null,
            "width": null
          }
        },
        "2def018cac454209b7de2dfe7a57d411": {
          "model_module": "@jupyter-widgets/controls",
          "model_name": "HTMLStyleModel",
          "model_module_version": "2.0.0",
          "state": {
            "_model_module": "@jupyter-widgets/controls",
            "_model_module_version": "2.0.0",
            "_model_name": "HTMLStyleModel",
            "_view_count": null,
            "_view_module": "@jupyter-widgets/base",
            "_view_module_version": "2.0.0",
            "_view_name": "StyleView",
            "background": null,
            "description_width": "",
            "font_size": null,
            "text_color": null
          }
        },
        "5dd7f876ef2e480eaa2a34608de2222b": {
          "model_module": "@jupyter-widgets/controls",
          "model_name": "HBoxModel",
          "model_module_version": "2.0.0",
          "state": {
            "_dom_classes": [],
            "_model_module": "@jupyter-widgets/controls",
            "_model_module_version": "2.0.0",
            "_model_name": "HBoxModel",
            "_view_count": null,
            "_view_module": "@jupyter-widgets/controls",
            "_view_module_version": "2.0.0",
            "_view_name": "HBoxView",
            "box_style": "",
            "children": [
              "IPY_MODEL_a834775e0e904be7984be7161af6ee7b",
              "IPY_MODEL_8e3a138bdbdd4a0a877d9474cee0de47",
              "IPY_MODEL_d6f3b8078e6b439ebf891dd08c7e6350"
            ],
            "layout": "IPY_MODEL_bb4caf1083b3455e90c2d106d8ecd96f",
            "tabbable": null,
            "tooltip": null
          }
        },
        "a834775e0e904be7984be7161af6ee7b": {
          "model_module": "@jupyter-widgets/controls",
          "model_name": "HTMLModel",
          "model_module_version": "2.0.0",
          "state": {
            "_dom_classes": [],
            "_model_module": "@jupyter-widgets/controls",
            "_model_module_version": "2.0.0",
            "_model_name": "HTMLModel",
            "_view_count": null,
            "_view_module": "@jupyter-widgets/controls",
            "_view_module_version": "2.0.0",
            "_view_name": "HTMLView",
            "description": "",
            "description_allow_html": false,
            "layout": "IPY_MODEL_dbadc2589c7e45f38c8791f86b5ba4e5",
            "placeholder": "​",
            "style": "IPY_MODEL_fa40c866a5ee4756b1c625368444e779",
            "tabbable": null,
            "tooltip": null,
            "value": "adapter_config.json: 100%"
          }
        },
        "8e3a138bdbdd4a0a877d9474cee0de47": {
          "model_module": "@jupyter-widgets/controls",
          "model_name": "FloatProgressModel",
          "model_module_version": "2.0.0",
          "state": {
            "_dom_classes": [],
            "_model_module": "@jupyter-widgets/controls",
            "_model_module_version": "2.0.0",
            "_model_name": "FloatProgressModel",
            "_view_count": null,
            "_view_module": "@jupyter-widgets/controls",
            "_view_module_version": "2.0.0",
            "_view_name": "ProgressView",
            "bar_style": "success",
            "description": "",
            "description_allow_html": false,
            "layout": "IPY_MODEL_b95f6fd36dd948d0823bbcff2d61d8a9",
            "max": 595,
            "min": 0,
            "orientation": "horizontal",
            "style": "IPY_MODEL_ebbcf2aa9bf941e29e0a59155f67e6bf",
            "tabbable": null,
            "tooltip": null,
            "value": 595
          }
        },
        "d6f3b8078e6b439ebf891dd08c7e6350": {
          "model_module": "@jupyter-widgets/controls",
          "model_name": "HTMLModel",
          "model_module_version": "2.0.0",
          "state": {
            "_dom_classes": [],
            "_model_module": "@jupyter-widgets/controls",
            "_model_module_version": "2.0.0",
            "_model_name": "HTMLModel",
            "_view_count": null,
            "_view_module": "@jupyter-widgets/controls",
            "_view_module_version": "2.0.0",
            "_view_name": "HTMLView",
            "description": "",
            "description_allow_html": false,
            "layout": "IPY_MODEL_db5be8a8ce4347fbab59a4a2c9a2eac1",
            "placeholder": "​",
            "style": "IPY_MODEL_9f9349b34c974137b6e894ab9c3fedf2",
            "tabbable": null,
            "tooltip": null,
            "value": " 595/595 [00:00&lt;00:00, 23.4kB/s]"
          }
        },
        "bb4caf1083b3455e90c2d106d8ecd96f": {
          "model_module": "@jupyter-widgets/base",
          "model_name": "LayoutModel",
          "model_module_version": "2.0.0",
          "state": {
            "_model_module": "@jupyter-widgets/base",
            "_model_module_version": "2.0.0",
            "_model_name": "LayoutModel",
            "_view_count": null,
            "_view_module": "@jupyter-widgets/base",
            "_view_module_version": "2.0.0",
            "_view_name": "LayoutView",
            "align_content": null,
            "align_items": null,
            "align_self": null,
            "border_bottom": null,
            "border_left": null,
            "border_right": null,
            "border_top": null,
            "bottom": null,
            "display": null,
            "flex": null,
            "flex_flow": null,
            "grid_area": null,
            "grid_auto_columns": null,
            "grid_auto_flow": null,
            "grid_auto_rows": null,
            "grid_column": null,
            "grid_gap": null,
            "grid_row": null,
            "grid_template_areas": null,
            "grid_template_columns": null,
            "grid_template_rows": null,
            "height": null,
            "justify_content": null,
            "justify_items": null,
            "left": null,
            "margin": null,
            "max_height": null,
            "max_width": null,
            "min_height": null,
            "min_width": null,
            "object_fit": null,
            "object_position": null,
            "order": null,
            "overflow": null,
            "padding": null,
            "right": null,
            "top": null,
            "visibility": null,
            "width": null
          }
        },
        "dbadc2589c7e45f38c8791f86b5ba4e5": {
          "model_module": "@jupyter-widgets/base",
          "model_name": "LayoutModel",
          "model_module_version": "2.0.0",
          "state": {
            "_model_module": "@jupyter-widgets/base",
            "_model_module_version": "2.0.0",
            "_model_name": "LayoutModel",
            "_view_count": null,
            "_view_module": "@jupyter-widgets/base",
            "_view_module_version": "2.0.0",
            "_view_name": "LayoutView",
            "align_content": null,
            "align_items": null,
            "align_self": null,
            "border_bottom": null,
            "border_left": null,
            "border_right": null,
            "border_top": null,
            "bottom": null,
            "display": null,
            "flex": null,
            "flex_flow": null,
            "grid_area": null,
            "grid_auto_columns": null,
            "grid_auto_flow": null,
            "grid_auto_rows": null,
            "grid_column": null,
            "grid_gap": null,
            "grid_row": null,
            "grid_template_areas": null,
            "grid_template_columns": null,
            "grid_template_rows": null,
            "height": null,
            "justify_content": null,
            "justify_items": null,
            "left": null,
            "margin": null,
            "max_height": null,
            "max_width": null,
            "min_height": null,
            "min_width": null,
            "object_fit": null,
            "object_position": null,
            "order": null,
            "overflow": null,
            "padding": null,
            "right": null,
            "top": null,
            "visibility": null,
            "width": null
          }
        },
        "fa40c866a5ee4756b1c625368444e779": {
          "model_module": "@jupyter-widgets/controls",
          "model_name": "HTMLStyleModel",
          "model_module_version": "2.0.0",
          "state": {
            "_model_module": "@jupyter-widgets/controls",
            "_model_module_version": "2.0.0",
            "_model_name": "HTMLStyleModel",
            "_view_count": null,
            "_view_module": "@jupyter-widgets/base",
            "_view_module_version": "2.0.0",
            "_view_name": "StyleView",
            "background": null,
            "description_width": "",
            "font_size": null,
            "text_color": null
          }
        },
        "b95f6fd36dd948d0823bbcff2d61d8a9": {
          "model_module": "@jupyter-widgets/base",
          "model_name": "LayoutModel",
          "model_module_version": "2.0.0",
          "state": {
            "_model_module": "@jupyter-widgets/base",
            "_model_module_version": "2.0.0",
            "_model_name": "LayoutModel",
            "_view_count": null,
            "_view_module": "@jupyter-widgets/base",
            "_view_module_version": "2.0.0",
            "_view_name": "LayoutView",
            "align_content": null,
            "align_items": null,
            "align_self": null,
            "border_bottom": null,
            "border_left": null,
            "border_right": null,
            "border_top": null,
            "bottom": null,
            "display": null,
            "flex": null,
            "flex_flow": null,
            "grid_area": null,
            "grid_auto_columns": null,
            "grid_auto_flow": null,
            "grid_auto_rows": null,
            "grid_column": null,
            "grid_gap": null,
            "grid_row": null,
            "grid_template_areas": null,
            "grid_template_columns": null,
            "grid_template_rows": null,
            "height": null,
            "justify_content": null,
            "justify_items": null,
            "left": null,
            "margin": null,
            "max_height": null,
            "max_width": null,
            "min_height": null,
            "min_width": null,
            "object_fit": null,
            "object_position": null,
            "order": null,
            "overflow": null,
            "padding": null,
            "right": null,
            "top": null,
            "visibility": null,
            "width": null
          }
        },
        "ebbcf2aa9bf941e29e0a59155f67e6bf": {
          "model_module": "@jupyter-widgets/controls",
          "model_name": "ProgressStyleModel",
          "model_module_version": "2.0.0",
          "state": {
            "_model_module": "@jupyter-widgets/controls",
            "_model_module_version": "2.0.0",
            "_model_name": "ProgressStyleModel",
            "_view_count": null,
            "_view_module": "@jupyter-widgets/base",
            "_view_module_version": "2.0.0",
            "_view_name": "StyleView",
            "bar_color": null,
            "description_width": ""
          }
        },
        "db5be8a8ce4347fbab59a4a2c9a2eac1": {
          "model_module": "@jupyter-widgets/base",
          "model_name": "LayoutModel",
          "model_module_version": "2.0.0",
          "state": {
            "_model_module": "@jupyter-widgets/base",
            "_model_module_version": "2.0.0",
            "_model_name": "LayoutModel",
            "_view_count": null,
            "_view_module": "@jupyter-widgets/base",
            "_view_module_version": "2.0.0",
            "_view_name": "LayoutView",
            "align_content": null,
            "align_items": null,
            "align_self": null,
            "border_bottom": null,
            "border_left": null,
            "border_right": null,
            "border_top": null,
            "bottom": null,
            "display": null,
            "flex": null,
            "flex_flow": null,
            "grid_area": null,
            "grid_auto_columns": null,
            "grid_auto_flow": null,
            "grid_auto_rows": null,
            "grid_column": null,
            "grid_gap": null,
            "grid_row": null,
            "grid_template_areas": null,
            "grid_template_columns": null,
            "grid_template_rows": null,
            "height": null,
            "justify_content": null,
            "justify_items": null,
            "left": null,
            "margin": null,
            "max_height": null,
            "max_width": null,
            "min_height": null,
            "min_width": null,
            "object_fit": null,
            "object_position": null,
            "order": null,
            "overflow": null,
            "padding": null,
            "right": null,
            "top": null,
            "visibility": null,
            "width": null
          }
        },
        "9f9349b34c974137b6e894ab9c3fedf2": {
          "model_module": "@jupyter-widgets/controls",
          "model_name": "HTMLStyleModel",
          "model_module_version": "2.0.0",
          "state": {
            "_model_module": "@jupyter-widgets/controls",
            "_model_module_version": "2.0.0",
            "_model_name": "HTMLStyleModel",
            "_view_count": null,
            "_view_module": "@jupyter-widgets/base",
            "_view_module_version": "2.0.0",
            "_view_name": "StyleView",
            "background": null,
            "description_width": "",
            "font_size": null,
            "text_color": null
          }
        },
        "ffaf5341fd394414a7ae870c38129a01": {
          "model_module": "@jupyter-widgets/controls",
          "model_name": "HBoxModel",
          "model_module_version": "2.0.0",
          "state": {
            "_dom_classes": [],
            "_model_module": "@jupyter-widgets/controls",
            "_model_module_version": "2.0.0",
            "_model_name": "HBoxModel",
            "_view_count": null,
            "_view_module": "@jupyter-widgets/controls",
            "_view_module_version": "2.0.0",
            "_view_name": "HBoxView",
            "box_style": "",
            "children": [
              "IPY_MODEL_bbfa1767133249f480f352ab08855491",
              "IPY_MODEL_b36fe30ca9284d6f976b4eb255c88ab5",
              "IPY_MODEL_07997b8fe275432ab2b2f8d6c5216bd7"
            ],
            "layout": "IPY_MODEL_0425c3cd633642a4aa100f11286c7cfb",
            "tabbable": null,
            "tooltip": null
          }
        },
        "bbfa1767133249f480f352ab08855491": {
          "model_module": "@jupyter-widgets/controls",
          "model_name": "HTMLModel",
          "model_module_version": "2.0.0",
          "state": {
            "_dom_classes": [],
            "_model_module": "@jupyter-widgets/controls",
            "_model_module_version": "2.0.0",
            "_model_name": "HTMLModel",
            "_view_count": null,
            "_view_module": "@jupyter-widgets/controls",
            "_view_module_version": "2.0.0",
            "_view_name": "HTMLView",
            "description": "",
            "description_allow_html": false,
            "layout": "IPY_MODEL_e39360b871cc4788b0b4737694f097bd",
            "placeholder": "​",
            "style": "IPY_MODEL_16761dd9c7eb4337b414a4023de45fda",
            "tabbable": null,
            "tooltip": null,
            "value": "adapter_model.safetensors: 100%"
          }
        },
        "b36fe30ca9284d6f976b4eb255c88ab5": {
          "model_module": "@jupyter-widgets/controls",
          "model_name": "FloatProgressModel",
          "model_module_version": "2.0.0",
          "state": {
            "_dom_classes": [],
            "_model_module": "@jupyter-widgets/controls",
            "_model_module_version": "2.0.0",
            "_model_name": "FloatProgressModel",
            "_view_count": null,
            "_view_module": "@jupyter-widgets/controls",
            "_view_module_version": "2.0.0",
            "_view_name": "ProgressView",
            "bar_style": "success",
            "description": "",
            "description_allow_html": false,
            "layout": "IPY_MODEL_586875a6f2c34508be1a386cffdcc51a",
            "max": 293626136,
            "min": 0,
            "orientation": "horizontal",
            "style": "IPY_MODEL_c62dbb6740914522905e1a66d3680117",
            "tabbable": null,
            "tooltip": null,
            "value": 293626136
          }
        },
        "07997b8fe275432ab2b2f8d6c5216bd7": {
          "model_module": "@jupyter-widgets/controls",
          "model_name": "HTMLModel",
          "model_module_version": "2.0.0",
          "state": {
            "_dom_classes": [],
            "_model_module": "@jupyter-widgets/controls",
            "_model_module_version": "2.0.0",
            "_model_name": "HTMLModel",
            "_view_count": null,
            "_view_module": "@jupyter-widgets/controls",
            "_view_module_version": "2.0.0",
            "_view_name": "HTMLView",
            "description": "",
            "description_allow_html": false,
            "layout": "IPY_MODEL_6ba93d0c30464bfcbf2af271cb6589f3",
            "placeholder": "​",
            "style": "IPY_MODEL_e95ec8aca7614ee3a5dfd9bfb432f12c",
            "tabbable": null,
            "tooltip": null,
            "value": " 294M/294M [00:03&lt;00:00, 95.6MB/s]"
          }
        },
        "0425c3cd633642a4aa100f11286c7cfb": {
          "model_module": "@jupyter-widgets/base",
          "model_name": "LayoutModel",
          "model_module_version": "2.0.0",
          "state": {
            "_model_module": "@jupyter-widgets/base",
            "_model_module_version": "2.0.0",
            "_model_name": "LayoutModel",
            "_view_count": null,
            "_view_module": "@jupyter-widgets/base",
            "_view_module_version": "2.0.0",
            "_view_name": "LayoutView",
            "align_content": null,
            "align_items": null,
            "align_self": null,
            "border_bottom": null,
            "border_left": null,
            "border_right": null,
            "border_top": null,
            "bottom": null,
            "display": null,
            "flex": null,
            "flex_flow": null,
            "grid_area": null,
            "grid_auto_columns": null,
            "grid_auto_flow": null,
            "grid_auto_rows": null,
            "grid_column": null,
            "grid_gap": null,
            "grid_row": null,
            "grid_template_areas": null,
            "grid_template_columns": null,
            "grid_template_rows": null,
            "height": null,
            "justify_content": null,
            "justify_items": null,
            "left": null,
            "margin": null,
            "max_height": null,
            "max_width": null,
            "min_height": null,
            "min_width": null,
            "object_fit": null,
            "object_position": null,
            "order": null,
            "overflow": null,
            "padding": null,
            "right": null,
            "top": null,
            "visibility": null,
            "width": null
          }
        },
        "e39360b871cc4788b0b4737694f097bd": {
          "model_module": "@jupyter-widgets/base",
          "model_name": "LayoutModel",
          "model_module_version": "2.0.0",
          "state": {
            "_model_module": "@jupyter-widgets/base",
            "_model_module_version": "2.0.0",
            "_model_name": "LayoutModel",
            "_view_count": null,
            "_view_module": "@jupyter-widgets/base",
            "_view_module_version": "2.0.0",
            "_view_name": "LayoutView",
            "align_content": null,
            "align_items": null,
            "align_self": null,
            "border_bottom": null,
            "border_left": null,
            "border_right": null,
            "border_top": null,
            "bottom": null,
            "display": null,
            "flex": null,
            "flex_flow": null,
            "grid_area": null,
            "grid_auto_columns": null,
            "grid_auto_flow": null,
            "grid_auto_rows": null,
            "grid_column": null,
            "grid_gap": null,
            "grid_row": null,
            "grid_template_areas": null,
            "grid_template_columns": null,
            "grid_template_rows": null,
            "height": null,
            "justify_content": null,
            "justify_items": null,
            "left": null,
            "margin": null,
            "max_height": null,
            "max_width": null,
            "min_height": null,
            "min_width": null,
            "object_fit": null,
            "object_position": null,
            "order": null,
            "overflow": null,
            "padding": null,
            "right": null,
            "top": null,
            "visibility": null,
            "width": null
          }
        },
        "16761dd9c7eb4337b414a4023de45fda": {
          "model_module": "@jupyter-widgets/controls",
          "model_name": "HTMLStyleModel",
          "model_module_version": "2.0.0",
          "state": {
            "_model_module": "@jupyter-widgets/controls",
            "_model_module_version": "2.0.0",
            "_model_name": "HTMLStyleModel",
            "_view_count": null,
            "_view_module": "@jupyter-widgets/base",
            "_view_module_version": "2.0.0",
            "_view_name": "StyleView",
            "background": null,
            "description_width": "",
            "font_size": null,
            "text_color": null
          }
        },
        "586875a6f2c34508be1a386cffdcc51a": {
          "model_module": "@jupyter-widgets/base",
          "model_name": "LayoutModel",
          "model_module_version": "2.0.0",
          "state": {
            "_model_module": "@jupyter-widgets/base",
            "_model_module_version": "2.0.0",
            "_model_name": "LayoutModel",
            "_view_count": null,
            "_view_module": "@jupyter-widgets/base",
            "_view_module_version": "2.0.0",
            "_view_name": "LayoutView",
            "align_content": null,
            "align_items": null,
            "align_self": null,
            "border_bottom": null,
            "border_left": null,
            "border_right": null,
            "border_top": null,
            "bottom": null,
            "display": null,
            "flex": null,
            "flex_flow": null,
            "grid_area": null,
            "grid_auto_columns": null,
            "grid_auto_flow": null,
            "grid_auto_rows": null,
            "grid_column": null,
            "grid_gap": null,
            "grid_row": null,
            "grid_template_areas": null,
            "grid_template_columns": null,
            "grid_template_rows": null,
            "height": null,
            "justify_content": null,
            "justify_items": null,
            "left": null,
            "margin": null,
            "max_height": null,
            "max_width": null,
            "min_height": null,
            "min_width": null,
            "object_fit": null,
            "object_position": null,
            "order": null,
            "overflow": null,
            "padding": null,
            "right": null,
            "top": null,
            "visibility": null,
            "width": null
          }
        },
        "c62dbb6740914522905e1a66d3680117": {
          "model_module": "@jupyter-widgets/controls",
          "model_name": "ProgressStyleModel",
          "model_module_version": "2.0.0",
          "state": {
            "_model_module": "@jupyter-widgets/controls",
            "_model_module_version": "2.0.0",
            "_model_name": "ProgressStyleModel",
            "_view_count": null,
            "_view_module": "@jupyter-widgets/base",
            "_view_module_version": "2.0.0",
            "_view_name": "StyleView",
            "bar_color": null,
            "description_width": ""
          }
        },
        "6ba93d0c30464bfcbf2af271cb6589f3": {
          "model_module": "@jupyter-widgets/base",
          "model_name": "LayoutModel",
          "model_module_version": "2.0.0",
          "state": {
            "_model_module": "@jupyter-widgets/base",
            "_model_module_version": "2.0.0",
            "_model_name": "LayoutModel",
            "_view_count": null,
            "_view_module": "@jupyter-widgets/base",
            "_view_module_version": "2.0.0",
            "_view_name": "LayoutView",
            "align_content": null,
            "align_items": null,
            "align_self": null,
            "border_bottom": null,
            "border_left": null,
            "border_right": null,
            "border_top": null,
            "bottom": null,
            "display": null,
            "flex": null,
            "flex_flow": null,
            "grid_area": null,
            "grid_auto_columns": null,
            "grid_auto_flow": null,
            "grid_auto_rows": null,
            "grid_column": null,
            "grid_gap": null,
            "grid_row": null,
            "grid_template_areas": null,
            "grid_template_columns": null,
            "grid_template_rows": null,
            "height": null,
            "justify_content": null,
            "justify_items": null,
            "left": null,
            "margin": null,
            "max_height": null,
            "max_width": null,
            "min_height": null,
            "min_width": null,
            "object_fit": null,
            "object_position": null,
            "order": null,
            "overflow": null,
            "padding": null,
            "right": null,
            "top": null,
            "visibility": null,
            "width": null
          }
        },
        "e95ec8aca7614ee3a5dfd9bfb432f12c": {
          "model_module": "@jupyter-widgets/controls",
          "model_name": "HTMLStyleModel",
          "model_module_version": "2.0.0",
          "state": {
            "_model_module": "@jupyter-widgets/controls",
            "_model_module_version": "2.0.0",
            "_model_name": "HTMLStyleModel",
            "_view_count": null,
            "_view_module": "@jupyter-widgets/base",
            "_view_module_version": "2.0.0",
            "_view_name": "StyleView",
            "background": null,
            "description_width": "",
            "font_size": null,
            "text_color": null
          }
        }
      }
    }
  },
  "nbformat": 4,
  "nbformat_minor": 0
}