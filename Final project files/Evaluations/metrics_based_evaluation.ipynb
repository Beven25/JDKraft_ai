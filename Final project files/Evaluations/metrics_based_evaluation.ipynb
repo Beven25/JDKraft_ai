{
  "cells": [
    {
      "cell_type": "markdown",
      "source": [
        "## METRICS BASED EVALUATION OF ALL FOUR FINE-TUNED MODELS\n",
        "Metrics:\n",
        "\n",
        "1.   BERT SCORE\n",
        "2.   BLEU SCORE\n",
        "3.   ROUGE-1 Score\n",
        "4.   ROUGE-2 Score\n",
        "5.   ROUGE-L Score\n",
        "\n",
        "\n",
        "\n"
      ],
      "metadata": {
        "id": "dP9juPzvrPR6"
      }
    },
    {
      "cell_type": "code",
      "execution_count": null,
      "metadata": {
        "colab": {
          "base_uri": "https://localhost:8080/"
        },
        "id": "Vu_MdZu4dmF4",
        "outputId": "cd85169a-b6d0-4bec-d425-bd7d0d13fdef"
      },
      "outputs": [
        {
          "output_type": "stream",
          "name": "stdout",
          "text": [
            "Requirement already satisfied: sentence-transformers in /usr/local/lib/python3.10/dist-packages (2.5.1)\n",
            "Requirement already satisfied: transformers<5.0.0,>=4.32.0 in /usr/local/lib/python3.10/dist-packages (from sentence-transformers) (4.39.0.dev0)\n",
            "Requirement already satisfied: tqdm in /usr/local/lib/python3.10/dist-packages (from sentence-transformers) (4.66.2)\n",
            "Requirement already satisfied: torch>=1.11.0 in /usr/local/lib/python3.10/dist-packages (from sentence-transformers) (2.1.0+cu121)\n",
            "Requirement already satisfied: numpy in /usr/local/lib/python3.10/dist-packages (from sentence-transformers) (1.25.2)\n",
            "Requirement already satisfied: scikit-learn in /usr/local/lib/python3.10/dist-packages (from sentence-transformers) (1.2.2)\n",
            "Requirement already satisfied: scipy in /usr/local/lib/python3.10/dist-packages (from sentence-transformers) (1.11.4)\n",
            "Requirement already satisfied: huggingface-hub>=0.15.1 in /usr/local/lib/python3.10/dist-packages (from sentence-transformers) (0.20.3)\n",
            "Requirement already satisfied: Pillow in /usr/local/lib/python3.10/dist-packages (from sentence-transformers) (9.4.0)\n",
            "Requirement already satisfied: filelock in /usr/local/lib/python3.10/dist-packages (from huggingface-hub>=0.15.1->sentence-transformers) (3.13.1)\n",
            "Requirement already satisfied: fsspec>=2023.5.0 in /usr/local/lib/python3.10/dist-packages (from huggingface-hub>=0.15.1->sentence-transformers) (2023.6.0)\n",
            "Requirement already satisfied: requests in /usr/local/lib/python3.10/dist-packages (from huggingface-hub>=0.15.1->sentence-transformers) (2.31.0)\n",
            "Requirement already satisfied: pyyaml>=5.1 in /usr/local/lib/python3.10/dist-packages (from huggingface-hub>=0.15.1->sentence-transformers) (6.0.1)\n",
            "Requirement already satisfied: typing-extensions>=3.7.4.3 in /usr/local/lib/python3.10/dist-packages (from huggingface-hub>=0.15.1->sentence-transformers) (4.10.0)\n",
            "Requirement already satisfied: packaging>=20.9 in /usr/local/lib/python3.10/dist-packages (from huggingface-hub>=0.15.1->sentence-transformers) (23.2)\n",
            "Requirement already satisfied: sympy in /usr/local/lib/python3.10/dist-packages (from torch>=1.11.0->sentence-transformers) (1.12)\n",
            "Requirement already satisfied: networkx in /usr/local/lib/python3.10/dist-packages (from torch>=1.11.0->sentence-transformers) (3.2.1)\n",
            "Requirement already satisfied: jinja2 in /usr/local/lib/python3.10/dist-packages (from torch>=1.11.0->sentence-transformers) (3.1.3)\n",
            "Requirement already satisfied: triton==2.1.0 in /usr/local/lib/python3.10/dist-packages (from torch>=1.11.0->sentence-transformers) (2.1.0)\n",
            "Requirement already satisfied: regex!=2019.12.17 in /usr/local/lib/python3.10/dist-packages (from transformers<5.0.0,>=4.32.0->sentence-transformers) (2023.12.25)\n",
            "Requirement already satisfied: tokenizers<0.19,>=0.14 in /usr/local/lib/python3.10/dist-packages (from transformers<5.0.0,>=4.32.0->sentence-transformers) (0.15.2)\n",
            "Requirement already satisfied: safetensors>=0.4.1 in /usr/local/lib/python3.10/dist-packages (from transformers<5.0.0,>=4.32.0->sentence-transformers) (0.4.2)\n",
            "Requirement already satisfied: joblib>=1.1.1 in /usr/local/lib/python3.10/dist-packages (from scikit-learn->sentence-transformers) (1.3.2)\n",
            "Requirement already satisfied: threadpoolctl>=2.0.0 in /usr/local/lib/python3.10/dist-packages (from scikit-learn->sentence-transformers) (3.3.0)\n",
            "Requirement already satisfied: MarkupSafe>=2.0 in /usr/local/lib/python3.10/dist-packages (from jinja2->torch>=1.11.0->sentence-transformers) (2.1.5)\n",
            "Requirement already satisfied: charset-normalizer<4,>=2 in /usr/local/lib/python3.10/dist-packages (from requests->huggingface-hub>=0.15.1->sentence-transformers) (3.3.2)\n",
            "Requirement already satisfied: idna<4,>=2.5 in /usr/local/lib/python3.10/dist-packages (from requests->huggingface-hub>=0.15.1->sentence-transformers) (3.6)\n",
            "Requirement already satisfied: urllib3<3,>=1.21.1 in /usr/local/lib/python3.10/dist-packages (from requests->huggingface-hub>=0.15.1->sentence-transformers) (2.0.7)\n",
            "Requirement already satisfied: certifi>=2017.4.17 in /usr/local/lib/python3.10/dist-packages (from requests->huggingface-hub>=0.15.1->sentence-transformers) (2024.2.2)\n",
            "Requirement already satisfied: mpmath>=0.19 in /usr/local/lib/python3.10/dist-packages (from sympy->torch>=1.11.0->sentence-transformers) (1.3.0)\n"
          ]
        }
      ],
      "source": [
        "pip install sentence-transformers\n"
      ]
    },
    {
      "cell_type": "code",
      "execution_count": null,
      "metadata": {
        "colab": {
          "base_uri": "https://localhost:8080/"
        },
        "id": "7GFEY9vSfvhd",
        "outputId": "e312c7f8-3725-4828-b419-e62f50bf14a9"
      },
      "outputs": [
        {
          "output_type": "stream",
          "name": "stderr",
          "text": [
            "WARNING:sentence_transformers.SentenceTransformer:No sentence-transformers model found with name bert-base-uncased. Creating a new one with MEAN pooling.\n"
          ]
        },
        {
          "output_type": "stream",
          "name": "stdout",
          "text": [
            "Semantic Similarity Score: 0.9146\n"
          ]
        }
      ],
      "source": [
        "from sentence_transformers import SentenceTransformer, util\n",
        "\n",
        "def calculate_semantic_similarity(candidate, reference):\n",
        "    # Load the pre-trained BERT model\n",
        "    model = SentenceTransformer('bert-base-uncased')\n",
        "\n",
        "    # Encode the candidate and reference sentences\n",
        "    candidate_embedding = model.encode(candidate, convert_to_tensor=True)\n",
        "    reference_embedding = model.encode(reference, convert_to_tensor=True)\n",
        "\n",
        "    # Calculate cosine similarity between the embeddings\n",
        "    similarity_score = util.pytorch_cos_sim(candidate_embedding, reference_embedding).item()\n",
        "\n",
        "    return similarity_score\n",
        "\n",
        "# Example JDs\n",
        "ref_jd = \"\"\"\n",
        "Data Scientist\n",
        "\n",
        "\n",
        "Responsibilities\n",
        "Proven knowledge in Natural Language Processing (NLP) & text-processing algorithms\n",
        "Good knowledge of Python\n",
        "Experience with data-processing and data-analysis by use of common tools and libraries (e.g. Pandas, Sklearn, Pytorch, -)\n",
        "Experience with common NLP and ML, Ibraries (eg. SpoCy, Huggingface-transformers, -)\n",
        "Experience in the area of cloud computing\n",
        "Good German and English skills as well as the ability to communicate well with remote teams\n",
        "Your Task\n",
        "Conceptualize new business-value-driving ideas and solutions to our NLP-related problems.\n",
        "Design experimentation pipelines for the tteration ond quantitative evaluation of NLP-\n",
        "related models.\n",
        "Help in creating the requirements and can help in gathering the needed data for your NLP\n",
        "experiments.\n",
        "Communicate regularly with other member in the software department to understond the\n",
        "needs & problems at appose.\n",
        "\n",
        "\n",
        "Your benefits\n",
        "Become port of our international and Take on responsibilities from doy one\n",
        "interdisciplinary team.\n",
        "Tailored personal development Fit from day one\n",
        "Enjoy a variety of coaching and training Take part in circuit training once a week.\n",
        "Future technology in practice Think outside the box.\n",
        "Daily opportunities to try something new Work in an exciting and dynamic start-up\n",
        "and continually learn atmosphere.\n",
        "\"\"\"\n",
        "\n",
        "# Define the generated job description\n",
        "gen_jd = \"\"\"\n",
        "We are currently looking for a skilled Data Scientist to join our team.\n",
        "\n",
        "The ideal candidate will have a strong background in Data Science and a profound understanding of the industry.\n",
        "\n",
        "They should also possess a deep knowledge of natural language processing (NLP) and word processing algorithms.\n",
        "The main responsibility of a Data Scientist is to extract valuable insights from large datasets using machine learning and statistical techniques.\n",
        "\n",
        "They will also develop predictive models to support decision-making processes.\n",
        "\n",
        "Additionally, the Data Scientist will be involved in preprocessing and cleaning data to ensure data quality and accuracy.\n",
        "The ideal candidate should have a master’s degree in data science or any relevant field.\n",
        "\n",
        "They should also demonstrate expertise in Python programming and have a strong command of essential tools and libraries such as Pandas, Sklearn, and Pytorch.\n",
        "Experience with NLP and ML libraries like SpaCy, Huggingface-Transformers, and others is highly valued.\n",
        "\n",
        "Furthermore, the Data Scientist should have a profound understanding of German and English, with excellent communication skills to collaborate effectively with remote teams.\n",
        "If you are a highly skilled Data Scientist with a passion for data analysis and machine learning, we would love to hear from you. Apply now to join our team and contribute to our success.\n",
        " \"\"\"\n",
        "\n",
        "# Calculate semantic similarity\n",
        "similarity_score = calculate_semantic_similarity(gen_jd, ref_jd)\n",
        "\n",
        "print(f\"Semantic Similarity Score: {similarity_score:.4f}\")\n"
      ]
    },
    {
      "cell_type": "code",
      "execution_count": null,
      "metadata": {
        "colab": {
          "base_uri": "https://localhost:8080/"
        },
        "id": "mH0YVBmtiRqe",
        "outputId": "489de5aa-59df-402d-cda6-1dfbd9f14af4"
      },
      "outputs": [
        {
          "output_type": "stream",
          "name": "stdout",
          "text": [
            "Requirement already satisfied: rouge-score in /usr/local/lib/python3.10/dist-packages (0.1.2)\n",
            "Requirement already satisfied: absl-py in /usr/local/lib/python3.10/dist-packages (from rouge-score) (1.4.0)\n",
            "Requirement already satisfied: nltk in /usr/local/lib/python3.10/dist-packages (from rouge-score) (3.8.1)\n",
            "Requirement already satisfied: numpy in /usr/local/lib/python3.10/dist-packages (from rouge-score) (1.25.2)\n",
            "Requirement already satisfied: six>=1.14.0 in /usr/local/lib/python3.10/dist-packages (from rouge-score) (1.16.0)\n",
            "Requirement already satisfied: click in /usr/local/lib/python3.10/dist-packages (from nltk->rouge-score) (8.1.7)\n",
            "Requirement already satisfied: joblib in /usr/local/lib/python3.10/dist-packages (from nltk->rouge-score) (1.3.2)\n",
            "Requirement already satisfied: regex>=2021.8.3 in /usr/local/lib/python3.10/dist-packages (from nltk->rouge-score) (2023.12.25)\n",
            "Requirement already satisfied: tqdm in /usr/local/lib/python3.10/dist-packages (from nltk->rouge-score) (4.66.2)\n"
          ]
        }
      ],
      "source": [
        "!pip install rouge-score\n"
      ]
    },
    {
      "cell_type": "code",
      "execution_count": null,
      "metadata": {
        "colab": {
          "base_uri": "https://localhost:8080/"
        },
        "id": "BDC8X1iBdaXE",
        "outputId": "94f0127c-050d-4ea3-c77e-dbc84dd7a18d"
      },
      "outputs": [
        {
          "output_type": "stream",
          "name": "stdout",
          "text": [
            "BLEU Score: 0.0164\n",
            "Rouge-1 Score: 0.4000\n",
            "Rouge-2 Score: 0.0993\n",
            "Rouge-L Score: 0.2222\n"
          ]
        }
      ],
      "source": [
        "from nltk.translate.bleu_score import sentence_bleu, SmoothingFunction\n",
        "from rouge_score import rouge_scorer\n",
        "\n",
        "def calculate_bleu_score(candidate, reference):\n",
        "    # Tokenize the paragraphs into sentences\n",
        "    candidate_sentences = candidate.split('.')\n",
        "    reference_sentences = reference.split('.')\n",
        "\n",
        "    # Tokenize each sentence\n",
        "    candidate_tokens = [sentence.split() for sentence in candidate_sentences]\n",
        "    reference_tokens = [sentence.split() for sentence in reference_sentences]\n",
        "\n",
        "    # Flatten the token lists\n",
        "    candidate_tokens_flat = [token for sublist in candidate_tokens for token in sublist]\n",
        "    reference_tokens_flat = [token for sublist in reference_tokens for token in sublist]\n",
        "\n",
        "    # Apply smoothing to handle cases where candidate_tokens is shorter than reference_tokens\n",
        "    smoothing_function = SmoothingFunction().method1\n",
        "    bleu_score = sentence_bleu([reference_tokens_flat], candidate_tokens_flat, smoothing_function=smoothing_function)\n",
        "\n",
        "    return bleu_score\n",
        "\n",
        "def calculate_rouge_score(candidate, reference):\n",
        "    # Initialize the Rouge scorer\n",
        "    scorer = rouge_scorer.RougeScorer(['rouge1', 'rouge2', 'rougeL'], use_stemmer=True)\n",
        "\n",
        "    # Calculate Rouge scores\n",
        "    rouge_scores = scorer.score(candidate, reference)\n",
        "\n",
        "    return rouge_scores\n",
        "\n",
        "# Example JDs\n",
        "# ref_jd = \"\"\"\n",
        "# Job Title: Front End Developer\n",
        "\n",
        "# Location: [City, State]\n",
        "\n",
        "# Job Type: Full-time\n",
        "\n",
        "# Company Overview:\n",
        "\n",
        "# [Company Name] is a dynamic and innovative [industry] company dedicated to [brief company mission or values]. We are seeking a talented Front End Developer to join our growing team and contribute to the development of cutting-edge web applications.\n",
        "\n",
        "# Responsibilities:\n",
        "\n",
        "# Collaborate with cross-functional teams to analyze, design, and implement front-end solutions for our web applications.\n",
        "# Develop responsive user interfaces using modern web technologies such as ReactJS, NodeJS, and ExpressJS.\n",
        "# Work closely with back-end developers to integrate user-facing elements with server-side logic using RESTful APIs and MongoDB.\n",
        "# Ensure the technical feasibility of UI/UX designs and implement them with a keen eye for detail and user experience.\n",
        "# Optimize applications for maximum speed and scalability, ensuring a seamless user experience across various devices and browsers.\n",
        "# Stay up-to-date with industry trends and advancements to continuously improve our front-end development processes.\n",
        "# Requirements:\n",
        "\n",
        "# Proven experience as a Front End Developer or similar role.\n",
        "# Strong proficiency in web technologies such as HTML5, CSS3, and JavaScript.\n",
        "# Solid experience with ReactJS for building modern, interactive user interfaces.\n",
        "# Proficient in using NodeJS and ExpressJS for server-side development.\n",
        "# Experience with MongoDB or other NoSQL databases for efficient data storage and retrieval.\n",
        "# Familiarity with RESTful APIs and integrating front-end applications with server-side logic.\n",
        "# Understanding of cross-browser compatibility issues and ways to work around them.\n",
        "# Excellent problem-solving skills and attention to detail.\n",
        "# Strong communication and collaboration skills within a team environment.\n",
        "# Bachelor's degree in Computer Science, Information Technology, or related field (or equivalent work experience).\n",
        "# Nice-to-Have:\n",
        "\n",
        "# Experience with state management libraries such as Redux.\n",
        "# Knowledge of build tools and package managers such as Webpack and npm.\n",
        "# Familiarity with version control systems, especially Git.\n",
        "# Understanding of containerization technologies such as Docker.\n",
        "# Benefits:\n",
        "\n",
        "# Competitive salary and performance-based bonuses.\n",
        "# Health, dental, and vision insurance.\n",
        "# 401(k) retirement plan.\n",
        "# Flexible work hours and remote work options.\n",
        "# Professional development opportunities and training.\n",
        "# If you are a passionate Front End Developer looking to make a significant impact in a growing company, we encourage you to apply. Join us in shaping the future of [industry] through innovative web development!\n",
        "\n",
        "# How to Apply:\n",
        "\n",
        "# Please submit your resume and a portfolio showcasing your relevant projects to [email@example.com]. Include a cover letter highlighting your experience and explaining why you would be a great fit for our team\n",
        "# \"\"\"\n",
        "\n",
        "# Define the generated job description\n",
        "# gen_jd = \"\"\"\n",
        "# Job Description: Front End Developer\n",
        "\n",
        "# We are currently seeking a skilled Front End Developer to join our team. The ideal candidate will have a minimum of three to fourteen years of demonstrated expertise within the industry and a profound understanding of Front End Development. They should also possess a profound understanding of Backend Development.\n",
        "\n",
        "# Responsibilities:\n",
        "# - Develop and maintain frontend components, ensuring a user-friendly experience.\n",
        "# - Collaborate with the UX/UI team to implement design concepts.\n",
        "# - Optimize frontend performance and user experience.\n",
        "\n",
        "# Qualifications:\n",
        "# - Bachelor's degree in Computer Applications or a related field.\n",
        "# - Strong command of essential frontend technologies such as HTML, CSS, and JavaScript.\n",
        "# - Experience in working with frameworks like ReactJS.\n",
        "# - Proficiency in database management systems like MongoDB.\n",
        "# - Familiarity with server-side technologies such as Node.js and Express.js.\n",
        "# - Strong problem-solving skills and the ability to work independently.\n",
        "# - Excellent communication and collaboration skills.\n",
        "\n",
        "# If you are a highly skilled Front End Developer with a passion for creating intuitive and user-friendly interfaces, we would love to hear from you. Join our team and contribute to the development of innovative web applications.\n",
        "# \"\"\"\n",
        "# Calculate BLEU score\n",
        "bleu_score = calculate_bleu_score(gen_jd, ref_jd)\n",
        "print(f\"BLEU Score: {bleu_score:.4f}\")\n",
        "\n",
        "# Calculate Rouge scores\n",
        "rouge_scores = calculate_rouge_score(gen_jd, ref_jd)\n",
        "print(f\"Rouge-1 Score: {rouge_scores['rouge1'].fmeasure:.4f}\")\n",
        "print(f\"Rouge-2 Score: {rouge_scores['rouge2'].fmeasure:.4f}\")\n",
        "print(f\"Rouge-L Score: {rouge_scores['rougeL'].fmeasure:.4f}\")\n"
      ]
    },
    {
      "cell_type": "markdown",
      "source": [
        "Results of Metrics Based evaluation\n",
        "\n",
        "![image.png](data:image/png;base64,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)"
      ],
      "metadata": {
        "id": "3qRn9MvRsOfK"
      }
    },
    {
      "cell_type": "code",
      "source": [],
      "metadata": {
        "id": "KQkvr875sQ1t"
      },
      "execution_count": null,
      "outputs": []
    }
  ],
  "metadata": {
    "accelerator": "GPU",
    "colab": {
      "gpuType": "T4",
      "provenance": []
    },
    "kaggle": {
      "accelerator": "nvidiaTeslaT4",
      "dataSources": [],
      "dockerImageVersionId": 30636,
      "isGpuEnabled": true,
      "isInternetEnabled": true,
      "language": "python",
      "sourceType": "notebook"
    },
    "kernelspec": {
      "display_name": "Python 3",
      "name": "python3"
    },
    "language_info": {
      "codemirror_mode": {
        "name": "ipython",
        "version": 3
      },
      "file_extension": ".py",
      "mimetype": "text/x-python",
      "name": "python",
      "nbconvert_exporter": "python",
      "pygments_lexer": "ipython3",
      "version": "3.10.12"
    }
  },
  "nbformat": 4,
  "nbformat_minor": 0
}